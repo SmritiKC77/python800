{
 "cells": [
  {
   "cell_type": "markdown",
   "id": "94d5d0d3",
   "metadata": {},
   "source": [
    "# Find hcf and lcm of true numbers using function"
   ]
  },
  {
   "cell_type": "code",
   "execution_count": 1,
   "id": "f19f3746",
   "metadata": {},
   "outputs": [],
   "source": [
    "import math\n",
    "def find_hcf_lcm(x,y):\n",
    "    gcd = math.gcd(x,y)\n",
    "    lcm = math.lcm(x,y)\n",
    "    return gcd,lcm # multiple values haru return garna sakxa ra tuple unpacking garera access garxa"
   ]
  },
  {
   "cell_type": "code",
   "execution_count": 2,
   "id": "6032bf56",
   "metadata": {},
   "outputs": [
    {
     "data": {
      "text/plain": [
       "(2, 8)"
      ]
     },
     "execution_count": 2,
     "metadata": {},
     "output_type": "execute_result"
    }
   ],
   "source": [
    "a  =2\n",
    "b = 8\n",
    "find_hcf_lcm(x = a, y =b)"
   ]
  },
  {
   "cell_type": "code",
   "execution_count": 3,
   "id": "48ba3aa5",
   "metadata": {},
   "outputs": [
    {
     "data": {
      "text/plain": [
       "2"
      ]
     },
     "execution_count": 3,
     "metadata": {},
     "output_type": "execute_result"
    }
   ],
   "source": [
    "hcf,lcm = find_hcf_lcm(x=a,y=b) # tuple unpacking\n",
    "hcf"
   ]
  },
  {
   "cell_type": "code",
   "execution_count": null,
   "id": "749d5f08",
   "metadata": {},
   "outputs": [],
   "source": []
  }
 ],
 "metadata": {
  "kernelspec": {
   "display_name": "Python 3 (ipykernel)",
   "language": "python",
   "name": "python3"
  },
  "language_info": {
   "codemirror_mode": {
    "name": "ipython",
    "version": 3
   },
   "file_extension": ".py",
   "mimetype": "text/x-python",
   "name": "python",
   "nbconvert_exporter": "python",
   "pygments_lexer": "ipython3",
   "version": "3.11.4"
  }
 },
 "nbformat": 4,
 "nbformat_minor": 5
}
