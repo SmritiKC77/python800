{
 "cells": [
  {
   "cell_type": "code",
   "execution_count": 5,
   "id": "4a937f66",
   "metadata": {},
   "outputs": [],
   "source": [
    "def greet(name,msg):\n",
    "    print(f\"Hi {name},{msg}\")"
   ]
  },
  {
   "cell_type": "code",
   "execution_count": 4,
   "id": "056d3daa",
   "metadata": {},
   "outputs": [
    {
     "name": "stdout",
     "output_type": "stream",
     "text": [
      "HiSmriti,hello\n"
     ]
    }
   ],
   "source": [
    "greet(name = 'Smriti',msg = \"hello\")"
   ]
  },
  {
   "cell_type": "markdown",
   "id": "00cce0c9",
   "metadata": {},
   "source": [
    "# Default argument"
   ]
  },
  {
   "cell_type": "code",
   "execution_count": 6,
   "id": "7ffc2226",
   "metadata": {},
   "outputs": [],
   "source": [
    "def greet(name,msg = 'Good morning'): # msg is a default argument\n",
    "    print(f\"Hi {name},{msg}\")"
   ]
  },
  {
   "cell_type": "code",
   "execution_count": 7,
   "id": "491adf73",
   "metadata": {},
   "outputs": [
    {
     "name": "stdout",
     "output_type": "stream",
     "text": [
      "Hi Smriti,Good morning\n"
     ]
    }
   ],
   "source": [
    "greet(name = 'Smriti')"
   ]
  },
  {
   "cell_type": "code",
   "execution_count": 9,
   "id": "8b7ca8d3",
   "metadata": {},
   "outputs": [
    {
     "name": "stdout",
     "output_type": "stream",
     "text": [
      "Hi Binamra,Good Afternoon\n"
     ]
    }
   ],
   "source": [
    "greet(name = 'Binamra',msg='Good Afternoon') # Default argument is now overwritten"
   ]
  },
  {
   "cell_type": "markdown",
   "id": "73240203",
   "metadata": {},
   "source": [
    "# name is a non-default argument and message is a default argument."
   ]
  },
  {
   "cell_type": "code",
   "execution_count": 13,
   "id": "a64f22c4",
   "metadata": {},
   "outputs": [
    {
     "ename": "SyntaxError",
     "evalue": "non-default argument follows default argument (1858712299.py, line 1)",
     "output_type": "error",
     "traceback": [
      "\u001b[1;36m  Cell \u001b[1;32mIn[13], line 1\u001b[1;36m\u001b[0m\n\u001b[1;33m    def greet(msg= 'Good morning',name ): # msg is a default argument\u001b[0m\n\u001b[1;37m                                  ^\u001b[0m\n\u001b[1;31mSyntaxError\u001b[0m\u001b[1;31m:\u001b[0m non-default argument follows default argument\n"
     ]
    }
   ],
   "source": [
    "def greet(msg= 'Good morning',name ): # msg is a default argument\n",
    "    print(f\"Hi {name},{msg}\")"
   ]
  },
  {
   "cell_type": "markdown",
   "id": "449e53e4",
   "metadata": {},
   "source": [
    "# non default argument name doesnot follow default argument msg . In such a case we get syntax error."
   ]
  },
  {
   "cell_type": "code",
   "execution_count": null,
   "id": "ff0e6532",
   "metadata": {},
   "outputs": [],
   "source": []
  }
 ],
 "metadata": {
  "kernelspec": {
   "display_name": "Python 3 (ipykernel)",
   "language": "python",
   "name": "python3"
  },
  "language_info": {
   "codemirror_mode": {
    "name": "ipython",
    "version": 3
   },
   "file_extension": ".py",
   "mimetype": "text/x-python",
   "name": "python",
   "nbconvert_exporter": "python",
   "pygments_lexer": "ipython3",
   "version": "3.11.4"
  }
 },
 "nbformat": 4,
 "nbformat_minor": 5
}
