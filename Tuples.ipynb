{
 "cells": [
  {
   "cell_type": "markdown",
   "id": "b0493ee2",
   "metadata": {},
   "source": [
    "# Tuples\n",
    "* Collection of item under one variable name\n",
    "* Immutable\n",
    "* allows duplicate , ordered, indexed, aloows multiple data type.\n",
    "* written inside round brackets () separated by comma"
   ]
  },
  {
   "cell_type": "code",
   "execution_count": 3,
   "id": "46fa4ee6",
   "metadata": {},
   "outputs": [
    {
     "data": {
      "text/plain": [
       "tuple"
      ]
     },
     "execution_count": 3,
     "metadata": {},
     "output_type": "execute_result"
    }
   ],
   "source": [
    "t1 = ('Kathmandu', 'Bhaktpur','lalitpur')\n",
    "type(t1)"
   ]
  },
  {
   "cell_type": "code",
   "execution_count": 4,
   "id": "972b07fa",
   "metadata": {},
   "outputs": [
    {
     "data": {
      "text/plain": [
       "'lalitpur'"
      ]
     },
     "execution_count": 4,
     "metadata": {},
     "output_type": "execute_result"
    }
   ],
   "source": [
    "t1[2]"
   ]
  },
  {
   "cell_type": "code",
   "execution_count": 5,
   "id": "3122d6f3",
   "metadata": {},
   "outputs": [
    {
     "ename": "TypeError",
     "evalue": "'tuple' object does not support item assignment",
     "output_type": "error",
     "traceback": [
      "\u001b[1;31m---------------------------------------------------------------------------\u001b[0m",
      "\u001b[1;31mTypeError\u001b[0m                                 Traceback (most recent call last)",
      "Cell \u001b[1;32mIn[5], line 1\u001b[0m\n\u001b[1;32m----> 1\u001b[0m t1[\u001b[38;5;241m2\u001b[39m] \u001b[38;5;241m=\u001b[39m \u001b[38;5;124m'\u001b[39m\u001b[38;5;124mPatan\u001b[39m\u001b[38;5;124m'\u001b[39m\n",
      "\u001b[1;31mTypeError\u001b[0m: 'tuple' object does not support item assignment"
     ]
    }
   ],
   "source": [
    "t1[2] = 'Patan'"
   ]
  },
  {
   "cell_type": "code",
   "execution_count": 6,
   "id": "8335c90b",
   "metadata": {},
   "outputs": [
    {
     "data": {
      "text/plain": [
       "['Kathmandu', 'Bhaktpur', 'Patan']"
      ]
     },
     "execution_count": 6,
     "metadata": {},
     "output_type": "execute_result"
    }
   ],
   "source": [
    "l1 = ['Kathmandu', 'Bhaktpur','lalitpur'] # if it was list\n",
    "l1[2] = 'Patan'\n",
    "l1"
   ]
  },
  {
   "cell_type": "markdown",
   "id": "c49ca07b",
   "metadata": {},
   "source": [
    "# Type Casting"
   ]
  },
  {
   "cell_type": "code",
   "execution_count": 8,
   "id": "bfd7b4e3",
   "metadata": {},
   "outputs": [
    {
     "name": "stdout",
     "output_type": "stream",
     "text": [
      "2309037152128 ('Kathmandu', 'Bhaktpur', 'lalitpur') <class 'tuple'>\n"
     ]
    }
   ],
   "source": [
    "city = ('Kathmandu', 'Bhaktpur','lalitpur')\n",
    "print(id(city),city,type(city))"
   ]
  },
  {
   "cell_type": "code",
   "execution_count": 11,
   "id": "80e34fad",
   "metadata": {},
   "outputs": [
    {
     "name": "stdout",
     "output_type": "stream",
     "text": [
      "2309023089792 ['Kathmandu', 'Bhaktpur', 'lalitpur'] <class 'list'>\n",
      "2309037605248 ('Kathmandu', 'Bhaktpur', 'lalitpur', 'kavre') <class 'tuple'>\n"
     ]
    }
   ],
   "source": [
    " # Suppose i want to add kavre on city variable\n",
    "city = list(city)\n",
    "print(id(city),city,type(city))\n",
    "city.append('kavre')\n",
    "city = tuple(city)\n",
    "print(id(city),city,type(city))"
   ]
  },
  {
   "cell_type": "markdown",
   "id": "9c7d7fd1",
   "metadata": {},
   "source": [
    "# Indexing and Slicing"
   ]
  },
  {
   "cell_type": "code",
   "execution_count": 13,
   "id": "d3ef9e63",
   "metadata": {},
   "outputs": [
    {
     "data": {
      "text/plain": [
       "2"
      ]
     },
     "execution_count": 13,
     "metadata": {},
     "output_type": "execute_result"
    }
   ],
   "source": [
    "t = (2,4,6,8,10)\n",
    "t[0]"
   ]
  },
  {
   "cell_type": "code",
   "execution_count": 14,
   "id": "7e7af28b",
   "metadata": {},
   "outputs": [
    {
     "data": {
      "text/plain": [
       "(8,)"
      ]
     },
     "execution_count": 14,
     "metadata": {},
     "output_type": "execute_result"
    }
   ],
   "source": [
    "t[3:-1]"
   ]
  },
  {
   "cell_type": "code",
   "execution_count": 16,
   "id": "35bfcca7",
   "metadata": {},
   "outputs": [
    {
     "data": {
      "text/plain": [
       "7.714285714285714"
      ]
     },
     "execution_count": 16,
     "metadata": {},
     "output_type": "execute_result"
    }
   ],
   "source": [
    "# Calculate total in t and mean\n",
    "t = (7,4,22,5,7,9,0)\n",
    "total = 0\n",
    "n = 7\n",
    "for item in t:\n",
    "    total = total + item\n",
    "    mean = total/n\n",
    "mean\n",
    "    "
   ]
  },
  {
   "cell_type": "code",
   "execution_count": 17,
   "id": "5d82a61b",
   "metadata": {},
   "outputs": [
    {
     "data": {
      "text/plain": [
       "54"
      ]
     },
     "execution_count": 17,
     "metadata": {},
     "output_type": "execute_result"
    }
   ],
   "source": [
    "t = (7,4,22,5,7,9,0)\n",
    "total = 0\n",
    "n = 7\n",
    "for item in t:\n",
    "    total = total + item\n",
    "total"
   ]
  },
  {
   "cell_type": "markdown",
   "id": "d49ff7ff",
   "metadata": {},
   "source": [
    "# Tuple Unpacking"
   ]
  },
  {
   "cell_type": "code",
   "execution_count": 18,
   "id": "0d2a087c",
   "metadata": {},
   "outputs": [
    {
     "data": {
      "text/plain": [
       "44"
      ]
     },
     "execution_count": 18,
     "metadata": {},
     "output_type": "execute_result"
    }
   ],
   "source": [
    "a,b = (44,2)\n",
    "a"
   ]
  },
  {
   "cell_type": "code",
   "execution_count": null,
   "id": "c69c3e6c",
   "metadata": {},
   "outputs": [],
   "source": []
  }
 ],
 "metadata": {
  "kernelspec": {
   "display_name": "Python 3 (ipykernel)",
   "language": "python",
   "name": "python3"
  },
  "language_info": {
   "codemirror_mode": {
    "name": "ipython",
    "version": 3
   },
   "file_extension": ".py",
   "mimetype": "text/x-python",
   "name": "python",
   "nbconvert_exporter": "python",
   "pygments_lexer": "ipython3",
   "version": "3.11.4"
  }
 },
 "nbformat": 4,
 "nbformat_minor": 5
}
