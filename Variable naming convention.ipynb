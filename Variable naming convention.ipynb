{
 "cells": [
  {
   "cell_type": "code",
   "execution_count": 2,
   "id": "2d832fa7",
   "metadata": {},
   "outputs": [
    {
     "ename": "SyntaxError",
     "evalue": "invalid syntax (1404658576.py, line 1)",
     "output_type": "error",
     "traceback": [
      "\u001b[1;36m  Cell \u001b[1;32mIn[2], line 1\u001b[1;36m\u001b[0m\n\u001b[1;33m    first name = smriti\u001b[0m\n\u001b[1;37m          ^\u001b[0m\n\u001b[1;31mSyntaxError\u001b[0m\u001b[1;31m:\u001b[0m invalid syntax\n"
     ]
    }
   ],
   "source": [
    "first name = smriti # j pani variable name lekhna paidaina"
   ]
  },
  {
   "cell_type": "markdown",
   "id": "6f40b6ac",
   "metadata": {},
   "source": [
    "# keywords cannot be variable name\n",
    "* Keywords are predefined words\n",
    "* We cannot use a keyword as a variable name, function name or any other identifier\n",
    "* They are used to define the syntax and structure of the python language\\\n",
    "* In python, keywords are case sensitive"
   ]
  },
  {
   "cell_type": "code",
   "execution_count": 3,
   "id": "83a070d6",
   "metadata": {},
   "outputs": [
    {
     "name": "stdout",
     "output_type": "stream",
     "text": [
      "\n",
      "Here is a list of the Python keywords.  Enter any keyword to get more help.\n",
      "\n",
      "False               class               from                or\n",
      "None                continue            global              pass\n",
      "True                def                 if                  raise\n",
      "and                 del                 import              return\n",
      "as                  elif                in                  try\n",
      "assert              else                is                  while\n",
      "async               except              lambda              with\n",
      "await               finally             nonlocal            yield\n",
      "break               for                 not                 \n",
      "\n"
     ]
    }
   ],
   "source": [
    "help('keywords')\n"
   ]
  },
  {
   "cell_type": "code",
   "execution_count": 4,
   "id": "f9d39837",
   "metadata": {},
   "outputs": [
    {
     "ename": "SyntaxError",
     "evalue": "invalid syntax (3216551983.py, line 1)",
     "output_type": "error",
     "traceback": [
      "\u001b[1;36m  Cell \u001b[1;32mIn[4], line 1\u001b[1;36m\u001b[0m\n\u001b[1;33m    from = 2\u001b[0m\n\u001b[1;37m         ^\u001b[0m\n\u001b[1;31mSyntaxError\u001b[0m\u001b[1;31m:\u001b[0m invalid syntax\n"
     ]
    }
   ],
   "source": [
    "from = 2"
   ]
  },
  {
   "cell_type": "markdown",
   "id": "abf14f18",
   "metadata": {},
   "source": [
    "Python is a case sensitive language.\n",
    "Upper case and lowercase are different.\n",
    "Sql is case insensitive language."
   ]
  },
  {
   "cell_type": "markdown",
   "id": "3622e558",
   "metadata": {},
   "source": [
    "False and false are different so python keywords ae case sensitive."
   ]
  },
  {
   "cell_type": "code",
   "execution_count": 7,
   "id": "600c1dd0",
   "metadata": {},
   "outputs": [
    {
     "name": "stdout",
     "output_type": "stream",
     "text": [
      "a = arc\n",
      "A = Apple\n"
     ]
    }
   ],
   "source": [
    "a = 'arc'\n",
    "A = 'Apple'\n",
    "print(f'a = {a}')# f lai format string vanxa\n",
    "print(f'A = {A}')"
   ]
  },
  {
   "cell_type": "code",
   "execution_count": 10,
   "id": "9c9922f0",
   "metadata": {},
   "outputs": [
    {
     "name": "stdout",
     "output_type": "stream",
     "text": [
      "a = arc\n"
     ]
    }
   ],
   "source": [
    "a = 'arc'\n",
    "A = 'Apple'#curly bracket khali xodeko matlab placeholder xodeko ho\n",
    "print('a = {}'.format(a))  "
   ]
  },
  {
   "cell_type": "markdown",
   "id": "5e33c7df",
   "metadata": {},
   "source": [
    "# We cannot use special characters in variable name\n"
   ]
  },
  {
   "cell_type": "code",
   "execution_count": 12,
   "id": "067655ac",
   "metadata": {},
   "outputs": [
    {
     "ename": "SyntaxError",
     "evalue": "invalid syntax. Maybe you meant '==' or ':=' instead of '='? (3724964849.py, line 1)",
     "output_type": "error",
     "traceback": [
      "\u001b[1;36m  Cell \u001b[1;32mIn[12], line 1\u001b[1;36m\u001b[0m\n\u001b[1;33m    @name = 'Smriti'\u001b[0m\n\u001b[1;37m     ^\u001b[0m\n\u001b[1;31mSyntaxError\u001b[0m\u001b[1;31m:\u001b[0m invalid syntax. Maybe you meant '==' or ':=' instead of '='?\n"
     ]
    }
   ],
   "source": [
    "@name = 'Smriti'"
   ]
  },
  {
   "cell_type": "code",
   "execution_count": 13,
   "id": "5a6ed31a",
   "metadata": {},
   "outputs": [
    {
     "ename": "SyntaxError",
     "evalue": "invalid syntax (4002297418.py, line 1)",
     "output_type": "error",
     "traceback": [
      "\u001b[1;36m  Cell \u001b[1;32mIn[13], line 1\u001b[1;36m\u001b[0m\n\u001b[1;33m    $place = tinkune\u001b[0m\n\u001b[1;37m    ^\u001b[0m\n\u001b[1;31mSyntaxError\u001b[0m\u001b[1;31m:\u001b[0m invalid syntax\n"
     ]
    }
   ],
   "source": [
    "$place = tinkune"
   ]
  },
  {
   "cell_type": "markdown",
   "id": "e4068aba",
   "metadata": {},
   "source": [
    "We cannot use space bar and dash in variable name."
   ]
  },
  {
   "cell_type": "markdown",
   "id": "4d48b1fd",
   "metadata": {},
   "source": [
    "We can use underscores in variable name"
   ]
  },
  {
   "cell_type": "markdown",
   "id": "203089b6",
   "metadata": {},
   "source": [
    "first_name = 'Smriti' #first name as a variable name pani paudaina ra first-name pani paudaina"
   ]
  },
  {
   "cell_type": "markdown",
   "id": "042f2adf",
   "metadata": {},
   "source": [
    "<img src=\"https://media.istockphoto.com/id/637696304/photo/patan.jpg?s=612x612&w=0&k=20&c=-53aSTGBGoOOqX5aoC3Hs1jhZ527v3Id_xOawHHVPpg=\">"
   ]
  },
  {
   "cell_type": "markdown",
   "id": "6925c3f7",
   "metadata": {},
   "source": [
    "<img src=\"https://media.istockphoto.com/id/637696304/photo/patan.jpg?s=612x612&w=0&k=20&c=-53aSTGBGoOOqX5aoC3Hs1jhZ527v3Id_xOawHHVPpg=\">"
   ]
  },
  {
   "cell_type": "markdown",
   "id": "01428f09",
   "metadata": {},
   "source": [
    "Digits cant be variable name and digit cannot come first on the variable name. However they can come after character or letters."
   ]
  },
  {
   "cell_type": "code",
   "execution_count": 4,
   "id": "241eb41e",
   "metadata": {},
   "outputs": [
    {
     "ename": "SyntaxError",
     "evalue": "invalid decimal literal (4182847057.py, line 1)",
     "output_type": "error",
     "traceback": [
      "\u001b[1;36m  Cell \u001b[1;32mIn[4], line 1\u001b[1;36m\u001b[0m\n\u001b[1;33m    1name = Smriti\u001b[0m\n\u001b[1;37m    ^\u001b[0m\n\u001b[1;31mSyntaxError\u001b[0m\u001b[1;31m:\u001b[0m invalid decimal literal\n"
     ]
    }
   ],
   "source": [
    "1name = Smriti # not allowed beacuse digit is at first\n"
   ]
  },
  {
   "cell_type": "code",
   "execution_count": 5,
   "id": "f4341091",
   "metadata": {},
   "outputs": [
    {
     "data": {
      "text/plain": [
       "'Smriti'"
      ]
     },
     "execution_count": 5,
     "metadata": {},
     "output_type": "execute_result"
    }
   ],
   "source": [
    "name1 = \"Smriti\"\n",
    "name1"
   ]
  },
  {
   "cell_type": "markdown",
   "id": "7e74ea5f",
   "metadata": {},
   "source": [
    "# Combination of all alphabets are allowed(uppercase and lowecase both), Digits can follow alphabets \n"
   ]
  },
  {
   "cell_type": "code",
   "execution_count": 6,
   "id": "c66ee077",
   "metadata": {},
   "outputs": [],
   "source": [
    "pet_name = \"cat\"#snake_case : sabailai lowercase harulai unserscore le jodne\n"
   ]
  },
  {
   "cell_type": "code",
   "execution_count": 7,
   "id": "9b2d7d76",
   "metadata": {},
   "outputs": [
    {
     "ename": "NameError",
     "evalue": "name 'Smriti' is not defined",
     "output_type": "error",
     "traceback": [
      "\u001b[1;31m---------------------------------------------------------------------------\u001b[0m",
      "\u001b[1;31mNameError\u001b[0m                                 Traceback (most recent call last)",
      "Cell \u001b[1;32mIn[7], line 1\u001b[0m\n\u001b[1;32m----> 1\u001b[0m MyName \u001b[38;5;241m=\u001b[39m Smriti\n",
      "\u001b[1;31mNameError\u001b[0m: name 'Smriti' is not defined"
     ]
    }
   ],
   "source": [
    "MyName = Smriti # pascal case"
   ]
  },
  {
   "cell_type": "code",
   "execution_count": null,
   "id": "0af3a1b6",
   "metadata": {},
   "outputs": [],
   "source": []
  }
 ],
 "metadata": {
  "kernelspec": {
   "display_name": "Python 3 (ipykernel)",
   "language": "python",
   "name": "python3"
  },
  "language_info": {
   "codemirror_mode": {
    "name": "ipython",
    "version": 3
   },
   "file_extension": ".py",
   "mimetype": "text/x-python",
   "name": "python",
   "nbconvert_exporter": "python",
   "pygments_lexer": "ipython3",
   "version": "3.11.4"
  }
 },
 "nbformat": 4,
 "nbformat_minor": 5
}
