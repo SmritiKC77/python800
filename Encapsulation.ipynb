{
 "cells": [
  {
   "cell_type": "markdown",
   "id": "e36170ae",
   "metadata": {},
   "source": [
    "# Are access specifiers used in Python? - Not but has concept of limiting behaviour of variables : private attribute are not inherited."
   ]
  },
  {
   "cell_type": "code",
   "execution_count": 1,
   "id": "d86a7e59",
   "metadata": {},
   "outputs": [],
   "source": [
    "class Employee:\n",
    "    # public\n",
    "    name = \"Smriti\"\n",
    "    # protected \n",
    "    _works_at = \"Broadway\" # protected ko agadi euta underscore hunxa\n",
    "    # private\n",
    "    __age = 20"
   ]
  },
  {
   "cell_type": "code",
   "execution_count": 2,
   "id": "1cc706f6",
   "metadata": {},
   "outputs": [],
   "source": [
    "obj = Employee()"
   ]
  },
  {
   "cell_type": "code",
   "execution_count": 3,
   "id": "9b0638e7",
   "metadata": {},
   "outputs": [
    {
     "data": {
      "text/plain": [
       "'Smriti'"
      ]
     },
     "execution_count": 3,
     "metadata": {},
     "output_type": "execute_result"
    }
   ],
   "source": [
    "obj.name"
   ]
  },
  {
   "cell_type": "code",
   "execution_count": 4,
   "id": "ddcb9233",
   "metadata": {},
   "outputs": [
    {
     "data": {
      "text/plain": [
       "'Broadway'"
      ]
     },
     "execution_count": 4,
     "metadata": {},
     "output_type": "execute_result"
    }
   ],
   "source": [
    "obj._works_at"
   ]
  },
  {
   "cell_type": "code",
   "execution_count": 6,
   "id": "92cd4164",
   "metadata": {},
   "outputs": [
    {
     "ename": "AttributeError",
     "evalue": "'Employee' object has no attribute '_age'",
     "output_type": "error",
     "traceback": [
      "\u001b[1;31m---------------------------------------------------------------------------\u001b[0m",
      "\u001b[1;31mAttributeError\u001b[0m                            Traceback (most recent call last)",
      "Cell \u001b[1;32mIn[6], line 1\u001b[0m\n\u001b[1;32m----> 1\u001b[0m obj\u001b[38;5;241m.\u001b[39m_age\n",
      "\u001b[1;31mAttributeError\u001b[0m: 'Employee' object has no attribute '_age'"
     ]
    }
   ],
   "source": [
    "obj._age"
   ]
  },
  {
   "cell_type": "code",
   "execution_count": null,
   "id": "a769b19a",
   "metadata": {},
   "outputs": [],
   "source": []
  }
 ],
 "metadata": {
  "kernelspec": {
   "display_name": "Python 3 (ipykernel)",
   "language": "python",
   "name": "python3"
  },
  "language_info": {
   "codemirror_mode": {
    "name": "ipython",
    "version": 3
   },
   "file_extension": ".py",
   "mimetype": "text/x-python",
   "name": "python",
   "nbconvert_exporter": "python",
   "pygments_lexer": "ipython3",
   "version": "3.11.4"
  }
 },
 "nbformat": 4,
 "nbformat_minor": 5
}
