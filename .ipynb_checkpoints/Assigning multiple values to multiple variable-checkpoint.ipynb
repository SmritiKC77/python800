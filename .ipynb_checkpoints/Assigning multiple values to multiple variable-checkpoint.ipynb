{
 "cells": [
  {
   "cell_type": "code",
   "execution_count": 1,
   "id": "6de45c09",
   "metadata": {},
   "outputs": [],
   "source": [
    "a = 10\n",
    "b = 0.4\n",
    "c = 0.2 + 0.9j"
   ]
  },
  {
   "cell_type": "code",
   "execution_count": 2,
   "id": "3e10ffd8",
   "metadata": {},
   "outputs": [],
   "source": [
    "#Another method\n",
    "a,b,c = 10, 0.4, 0.2+0.9j"
   ]
  },
  {
   "cell_type": "code",
   "execution_count": 3,
   "id": "b113750f",
   "metadata": {},
   "outputs": [
    {
     "data": {
      "text/plain": [
       "(0.2+0.9j)"
      ]
     },
     "execution_count": 3,
     "metadata": {},
     "output_type": "execute_result"
    }
   ],
   "source": [
    "c"
   ]
  },
  {
   "cell_type": "code",
   "execution_count": 4,
   "id": "c8149b67",
   "metadata": {},
   "outputs": [
    {
     "ename": "ValueError",
     "evalue": "not enough values to unpack (expected 3, got 2)",
     "output_type": "error",
     "traceback": [
      "\u001b[1;31m---------------------------------------------------------------------------\u001b[0m",
      "\u001b[1;31mValueError\u001b[0m                                Traceback (most recent call last)",
      "Cell \u001b[1;32mIn[4], line 1\u001b[0m\n\u001b[1;32m----> 1\u001b[0m x,y,z \u001b[38;5;241m=\u001b[39m \u001b[38;5;241m10\u001b[39m,\u001b[38;5;241m6\u001b[39m\n",
      "\u001b[1;31mValueError\u001b[0m: not enough values to unpack (expected 3, got 2)"
     ]
    }
   ],
   "source": [
    "x,y,z = 10,6"
   ]
  },
  {
   "cell_type": "code",
   "execution_count": 5,
   "id": "320afcca",
   "metadata": {},
   "outputs": [
    {
     "ename": "ValueError",
     "evalue": "too many values to unpack (expected 2)",
     "output_type": "error",
     "traceback": [
      "\u001b[1;31m---------------------------------------------------------------------------\u001b[0m",
      "\u001b[1;31mValueError\u001b[0m                                Traceback (most recent call last)",
      "Cell \u001b[1;32mIn[5], line 1\u001b[0m\n\u001b[1;32m----> 1\u001b[0m x,y \u001b[38;5;241m=\u001b[39m \u001b[38;5;241m10\u001b[39m,\u001b[38;5;241m6\u001b[39m,\u001b[38;5;241m5\u001b[39m\n",
      "\u001b[1;31mValueError\u001b[0m: too many values to unpack (expected 2)"
     ]
    }
   ],
   "source": [
    "x,y = 10,6,5"
   ]
  },
  {
   "cell_type": "markdown",
   "id": "32ceb1eb",
   "metadata": {},
   "source": [
    "#Variable ma value assign garda left ma jati xa right ma ni  teti nai hunu parxa"
   ]
  },
  {
   "cell_type": "code",
   "execution_count": null,
   "id": "a8f856a9",
   "metadata": {},
   "outputs": [],
   "source": []
  }
 ],
 "metadata": {
  "kernelspec": {
   "display_name": "Python 3 (ipykernel)",
   "language": "python",
   "name": "python3"
  },
  "language_info": {
   "codemirror_mode": {
    "name": "ipython",
    "version": 3
   },
   "file_extension": ".py",
   "mimetype": "text/x-python",
   "name": "python",
   "nbconvert_exporter": "python",
   "pygments_lexer": "ipython3",
   "version": "3.11.4"
  }
 },
 "nbformat": 4,
 "nbformat_minor": 5
}
