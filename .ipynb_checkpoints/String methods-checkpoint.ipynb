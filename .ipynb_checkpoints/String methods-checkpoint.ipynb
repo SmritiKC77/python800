{
 "cells": [
  {
   "cell_type": "code",
   "execution_count": 1,
   "id": "ce13925b",
   "metadata": {},
   "outputs": [
    {
     "data": {
      "text/plain": [
       "'SmritiSmriti'"
      ]
     },
     "execution_count": 1,
     "metadata": {},
     "output_type": "execute_result"
    }
   ],
   "source": [
    "\"Smriti\" + \"Smriti\" # concatenation"
   ]
  },
  {
   "cell_type": "code",
   "execution_count": 2,
   "id": "e11092a8",
   "metadata": {},
   "outputs": [
    {
     "data": {
      "text/plain": [
       "'SmritiSmriti'"
      ]
     },
     "execution_count": 2,
     "metadata": {},
     "output_type": "execute_result"
    }
   ],
   "source": [
    "\"Smriti\" *2"
   ]
  },
  {
   "cell_type": "markdown",
   "id": "2cc54e61",
   "metadata": {},
   "source": [
    "#.replace()|"
   ]
  },
  {
   "cell_type": "code",
   "execution_count": 3,
   "id": "77269ad0",
   "metadata": {},
   "outputs": [
    {
     "data": {
      "text/plain": [
       "'$'"
      ]
     },
     "execution_count": 3,
     "metadata": {},
     "output_type": "execute_result"
    }
   ],
   "source": [
    "name = \"$mriti\"\n",
    "name[0]"
   ]
  },
  {
   "cell_type": "code",
   "execution_count": 4,
   "id": "27041baa",
   "metadata": {},
   "outputs": [
    {
     "ename": "TypeError",
     "evalue": "'str' object does not support item assignment",
     "output_type": "error",
     "traceback": [
      "\u001b[1;31m---------------------------------------------------------------------------\u001b[0m",
      "\u001b[1;31mTypeError\u001b[0m                                 Traceback (most recent call last)",
      "Cell \u001b[1;32mIn[4], line 1\u001b[0m\n\u001b[1;32m----> 1\u001b[0m name[\u001b[38;5;241m1\u001b[39m] \u001b[38;5;241m=\u001b[39m \u001b[38;5;124m\"\u001b[39m\u001b[38;5;124mS\u001b[39m\u001b[38;5;124m\"\u001b[39m\n",
      "\u001b[1;31mTypeError\u001b[0m: 'str' object does not support item assignment"
     ]
    }
   ],
   "source": [
    "name[1] = \"S\" # Strings are immutable data types"
   ]
  },
  {
   "cell_type": "code",
   "execution_count": null,
   "id": "ac04e675",
   "metadata": {},
   "outputs": [],
   "source": [
    "name = \"$mriti\"\n",
    "id(name)# memory location dekhauxa"
   ]
  },
  {
   "cell_type": "code",
   "execution_count": null,
   "id": "77d982fa",
   "metadata": {},
   "outputs": [],
   "source": [
    "name.replace('$','s')"
   ]
  },
  {
   "cell_type": "code",
   "execution_count": null,
   "id": "4daeb3fc",
   "metadata": {},
   "outputs": [],
   "source": [
    "name # but name doesnot update because it is in different memory location"
   ]
  },
  {
   "cell_type": "code",
   "execution_count": null,
   "id": "f5b4ff2c",
   "metadata": {},
   "outputs": [],
   "source": [
    "name = \"$mriti$\"\n",
    "print(id(name),name)\n",
    "name = name.replace('$','s')\n",
    "print(id(name),name)\n"
   ]
  },
  {
   "cell_type": "code",
   "execution_count": null,
   "id": "60ee7d1d",
   "metadata": {},
   "outputs": [],
   "source": [
    "msg = 'Good Morning'\n",
    "msg.replace(\"Good\",\"Bad\")\n"
   ]
  },
  {
   "cell_type": "markdown",
   "id": "f72cf898",
   "metadata": {},
   "source": [
    "# .upper(),.lower(), .title()"
   ]
  },
  {
   "cell_type": "code",
   "execution_count": 1,
   "id": "9c1c8185",
   "metadata": {},
   "outputs": [
    {
     "data": {
      "text/plain": [
       "'HEAVY RAIN TRIGGERS FLOOD'"
      ]
     },
     "execution_count": 1,
     "metadata": {},
     "output_type": "execute_result"
    }
   ],
   "source": [
    "headline = \"heavy rain triggers flood\"\n",
    "headline.upper()"
   ]
  },
  {
   "cell_type": "code",
   "execution_count": null,
   "id": "d7b8a9bb",
   "metadata": {},
   "outputs": [],
   "source": [
    "headline.lower()"
   ]
  },
  {
   "cell_type": "code",
   "execution_count": null,
   "id": "50d89c29",
   "metadata": {},
   "outputs": [],
   "source": [
    "headline.title()"
   ]
  },
  {
   "cell_type": "markdown",
   "id": "b93a703f",
   "metadata": {},
   "source": [
    "# .stirp() , .lstrip() , .rstrip()"
   ]
  },
  {
   "cell_type": "code",
   "execution_count": null,
   "id": "c74d918b",
   "metadata": {},
   "outputs": [],
   "source": [
    "headline = \"  heavy rain   triggers flood  \" # strip le left ra right ko unnecessary spaces flaxa\n",
    "headline.strip()"
   ]
  },
  {
   "cell_type": "code",
   "execution_count": null,
   "id": "9069dd97",
   "metadata": {},
   "outputs": [],
   "source": [
    "headline.lstrip() # left ko matra falxa"
   ]
  },
  {
   "cell_type": "code",
   "execution_count": null,
   "id": "ba828ac6",
   "metadata": {},
   "outputs": [],
   "source": [
    "headline.rstrip() # right ko matra falxa"
   ]
  },
  {
   "cell_type": "markdown",
   "id": "3adb612b",
   "metadata": {},
   "source": [
    "# .split()"
   ]
  },
  {
   "cell_type": "code",
   "execution_count": null,
   "id": "4b37335c",
   "metadata": {},
   "outputs": [],
   "source": [
    "headline = \"heavy rain triggers flood\"\n",
    "words = headline.split(\" \")\n",
    "words"
   ]
  },
  {
   "cell_type": "code",
   "execution_count": null,
   "id": "1d3b3ece",
   "metadata": {},
   "outputs": [],
   "source": [
    "type(words)"
   ]
  },
  {
   "cell_type": "code",
   "execution_count": null,
   "id": "4145a4f9",
   "metadata": {},
   "outputs": [],
   "source": [
    "word_list = ['heavy', 'rain', 'triggers', 'flood']\n",
    "\" \".join(word_list)"
   ]
  },
  {
   "cell_type": "code",
   "execution_count": null,
   "id": "25887944",
   "metadata": {},
   "outputs": [],
   "source": [
    "word_list = ['heavy', 'rain', 'triggers', 'flood']\n",
    "\"-\".join(word_list)"
   ]
  },
  {
   "cell_type": "markdown",
   "id": "4afd5a68",
   "metadata": {},
   "source": [
    "# WAP that asks the user to enter a  string and print the number of vowels and consonents in the  string."
   ]
  },
  {
   "cell_type": "code",
   "execution_count": null,
   "id": "4ea425fb",
   "metadata": {},
   "outputs": [],
   "source": [
    "a = input(\"Enter the string\")\n",
    "v_count = 0\n",
    "c_count= 0\n",
    "for index in range(len(a)):\n",
    "    char = a[index]\n",
    "    if char == 'a' or char =='e' or char == 'i' or char=='o' or char =='u':\n",
    "        v_count = v_count+1\n",
    "         print(f\"vowels= {char}\")\n",
    "    else:\n",
    "        print(f\"consonants = {char}\")"
   ]
  },
  {
   "cell_type": "code",
   "execution_count": null,
   "id": "fb6ae03b",
   "metadata": {},
   "outputs": [],
   "source": []
  },
  {
   "cell_type": "code",
   "execution_count": null,
   "id": "e813a740",
   "metadata": {},
   "outputs": [],
   "source": []
  }
 ],
 "metadata": {
  "kernelspec": {
   "display_name": "Python 3 (ipykernel)",
   "language": "python",
   "name": "python3"
  },
  "language_info": {
   "codemirror_mode": {
    "name": "ipython",
    "version": 3
   },
   "file_extension": ".py",
   "mimetype": "text/x-python",
   "name": "python",
   "nbconvert_exporter": "python",
   "pygments_lexer": "ipython3",
   "version": "3.11.4"
  }
 },
 "nbformat": 4,
 "nbformat_minor": 5
}
