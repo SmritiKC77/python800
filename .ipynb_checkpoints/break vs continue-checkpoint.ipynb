{
 "cells": [
  {
   "cell_type": "code",
   "execution_count": 1,
   "id": "8a4359ba",
   "metadata": {},
   "outputs": [
    {
     "name": "stdout",
     "output_type": "stream",
     "text": [
      "0\n",
      "1\n",
      "2\n",
      "3\n",
      "4\n"
     ]
    }
   ],
   "source": [
    "for i in range(5):\n",
    "    print(i)"
   ]
  },
  {
   "cell_type": "code",
   "execution_count": 4,
   "id": "2b77ca48",
   "metadata": {},
   "outputs": [
    {
     "name": "stdout",
     "output_type": "stream",
     "text": [
      "0\n",
      "1\n",
      "i is equals to 2\n",
      "2\n",
      "3\n",
      "4\n"
     ]
    }
   ],
   "source": [
    "for i in range(5):\n",
    "    if i == 2:\n",
    "        print(\"i is equals to 2\")\n",
    "    \n",
    "    print(i)"
   ]
  },
  {
   "cell_type": "code",
   "execution_count": 5,
   "id": "f7984ad1",
   "metadata": {},
   "outputs": [
    {
     "name": "stdout",
     "output_type": "stream",
     "text": [
      "0\n",
      "1\n",
      "3\n",
      "4\n"
     ]
    }
   ],
   "source": [
    "for i in range(5):\n",
    "    if i == 2:\n",
    "        continue # continue statement skips the loop for one iteration\n",
    "        print(\"i is equals to 2\") # this code is not executed because of continue\n",
    "    \n",
    "    print(i)"
   ]
  },
  {
   "cell_type": "code",
   "execution_count": 8,
   "id": "1393962b",
   "metadata": {},
   "outputs": [
    {
     "name": "stdout",
     "output_type": "stream",
     "text": [
      "0\n",
      "2\n"
     ]
    }
   ],
   "source": [
    "for index in range(3):\n",
    "    if index == 1:\n",
    "        continue\n",
    "        print(\"i is equlas to 1\")\n",
    "    print(index)\n",
    "\n"
   ]
  },
  {
   "cell_type": "code",
   "execution_count": 11,
   "id": "64a37dff",
   "metadata": {},
   "outputs": [
    {
     "name": "stdout",
     "output_type": "stream",
     "text": [
      "0\n",
      "1\n",
      "Bahira\n"
     ]
    }
   ],
   "source": [
    "for index in range(5):\n",
    "    if index == 2:\n",
    "        break # break the loop after index == 2; code get otuside the loop\n",
    "    print(index)\n",
    "print(\"Bahira\")\n",
    "    "
   ]
  },
  {
   "cell_type": "code",
   "execution_count": 19,
   "id": "ee315d2d",
   "metadata": {},
   "outputs": [
    {
     "name": "stdout",
     "output_type": "stream",
     "text": [
      "consonants = H\n",
      "vowels= e\n",
      "consonants = l\n",
      "consonants = l\n",
      "vowels= o\n",
      "consonants =  \n",
      "consonants = w\n",
      "vowels= o\n",
      "consonants = r\n",
      "consonants = l\n",
      "consonants = d\n"
     ]
    }
   ],
   "source": [
    " s = \"Hello world\"\n",
    "for index in range(len(s)):\n",
    "    char = s[index]\n",
    "    if char == 'a' or char =='e' or char == 'i' or char=='o' or char =='u':\n",
    "        print(f\"vowels= {char}\")\n",
    "    else:\n",
    "        print(f\"consonants = {char}\")"
   ]
  },
  {
   "cell_type": "code",
   "execution_count": 22,
   "id": "6f92d583",
   "metadata": {},
   "outputs": [
    {
     "name": "stdout",
     "output_type": "stream",
     "text": [
      "consonants = H\n",
      "vowels= e\n",
      "consonants = l\n",
      "consonants = l\n",
      "vowels= o\n",
      "consonants = w\n",
      "vowels= o\n",
      "consonants = r\n",
      "consonants = l\n",
      "consonants = d\n"
     ]
    }
   ],
   "source": [
    "s = \"Hello world\"\n",
    "for index in range(len(s)):\n",
    "    char = s[index]\n",
    "    if char == 'a' or char =='e' or char == 'i' or char=='o' or char =='u':\n",
    "        print(f\"vowels= {char}\")\n",
    "    elif char == \" \":\n",
    "        continue\n",
    "    else:\n",
    "        print(f\"consonants = {char}\")"
   ]
  },
  {
   "cell_type": "code",
   "execution_count": null,
   "id": "687d9805",
   "metadata": {},
   "outputs": [],
   "source": []
  },
  {
   "cell_type": "code",
   "execution_count": null,
   "id": "b4973a22",
   "metadata": {},
   "outputs": [],
   "source": []
  }
 ],
 "metadata": {
  "kernelspec": {
   "display_name": "Python 3 (ipykernel)",
   "language": "python",
   "name": "python3"
  },
  "language_info": {
   "codemirror_mode": {
    "name": "ipython",
    "version": 3
   },
   "file_extension": ".py",
   "mimetype": "text/x-python",
   "name": "python",
   "nbconvert_exporter": "python",
   "pygments_lexer": "ipython3",
   "version": "3.11.4"
  }
 },
 "nbformat": 4,
 "nbformat_minor": 5
}
