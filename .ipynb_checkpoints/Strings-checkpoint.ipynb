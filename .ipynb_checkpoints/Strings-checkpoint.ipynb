{
 "cells": [
  {
   "cell_type": "code",
   "execution_count": 1,
   "id": "80437234",
   "metadata": {},
   "outputs": [
    {
     "data": {
      "text/plain": [
       "str"
      ]
     },
     "execution_count": 1,
     "metadata": {},
     "output_type": "execute_result"
    }
   ],
   "source": [
    "a = \"Smriti\"\n",
    "type(a)"
   ]
  },
  {
   "cell_type": "code",
   "execution_count": 2,
   "id": "710864c1",
   "metadata": {},
   "outputs": [
    {
     "data": {
      "text/plain": [
       "True"
      ]
     },
     "execution_count": 2,
     "metadata": {},
     "output_type": "execute_result"
    }
   ],
   "source": [
    "str1 = \"a\"\n",
    "str2 = 'a'\n",
    "str1 == str2"
   ]
  },
  {
   "cell_type": "code",
   "execution_count": 5,
   "id": "6516cbf6",
   "metadata": {},
   "outputs": [
    {
     "ename": "AssertionError",
     "evalue": "",
     "output_type": "error",
     "traceback": [
      "\u001b[1;31m---------------------------------------------------------------------------\u001b[0m",
      "\u001b[1;31mAssertionError\u001b[0m                            Traceback (most recent call last)",
      "Cell \u001b[1;32mIn[5], line 1\u001b[0m\n\u001b[1;32m----> 1\u001b[0m \u001b[38;5;28;01massert\u001b[39;00m str1 \u001b[38;5;241m==\u001b[39m str2\n\u001b[0;32m      2\u001b[0m str1 \u001b[38;5;241m=\u001b[39m \u001b[38;5;124m\"\u001b[39m\u001b[38;5;124ma\u001b[39m\u001b[38;5;124m\"\u001b[39m\n\u001b[0;32m      3\u001b[0m str2 \u001b[38;5;241m=\u001b[39m \u001b[38;5;124m'\u001b[39m\u001b[38;5;124mA\u001b[39m\u001b[38;5;124m'\u001b[39m\n",
      "\u001b[1;31mAssertionError\u001b[0m: "
     ]
    }
   ],
   "source": [
    "assert str1 == str2\n",
    "str1 = \"a\"\n",
    "str2 = 'A'"
   ]
  },
  {
   "cell_type": "code",
   "execution_count": 7,
   "id": "6b0e7a15",
   "metadata": {},
   "outputs": [
    {
     "ename": "SyntaxError",
     "evalue": "invalid syntax (3446893099.py, line 1)",
     "output_type": "error",
     "traceback": [
      "\u001b[1;36m  Cell \u001b[1;32mIn[7], line 1\u001b[1;36m\u001b[0m\n\u001b[1;33m    Single line string and multi-line string\u001b[0m\n\u001b[1;37m           ^\u001b[0m\n\u001b[1;31mSyntaxError\u001b[0m\u001b[1;31m:\u001b[0m invalid syntax\n"
     ]
    }
   ],
   "source": []
  },
  {
   "cell_type": "markdown",
   "id": "b2b03d04",
   "metadata": {},
   "source": [
    "Single line string and multi-line string"
   ]
  },
  {
   "cell_type": "code",
   "execution_count": 8,
   "id": "b4253448",
   "metadata": {},
   "outputs": [
    {
     "data": {
      "text/plain": [
       "'Hello Smriti'"
      ]
     },
     "execution_count": 8,
     "metadata": {},
     "output_type": "execute_result"
    }
   ],
   "source": [
    "msg = \"Hello Smriti\" # Single line string\n",
    "msg"
   ]
  },
  {
   "cell_type": "code",
   "execution_count": 9,
   "id": "93be8aad",
   "metadata": {},
   "outputs": [
    {
     "ename": "SyntaxError",
     "evalue": "unterminated string literal (detected at line 1) (498190761.py, line 1)",
     "output_type": "error",
     "traceback": [
      "\u001b[1;36m  Cell \u001b[1;32mIn[9], line 1\u001b[1;36m\u001b[0m\n\u001b[1;33m    kabita = \"संसार रूपी सुख स्वर्गभित्र,\u001b[0m\n\u001b[1;37m             ^\u001b[0m\n\u001b[1;31mSyntaxError\u001b[0m\u001b[1;31m:\u001b[0m unterminated string literal (detected at line 1)\n"
     ]
    }
   ],
   "source": [
    "kabita = \"संसार रूपी सुख स्वर्गभित्र,\n",
    "रमें रमाएँ लिइ भित्र चित्र ।\n",
    "सारा भयो त्यो मरुभूभि तुल्य,\n",
    "रातै परेझैं अब बुझ्छु बल्ल ।\n",
    "रहेछ संसार निशा समान,\n",
    "आएन ज्यूँदै रहँदा नि ज्ञान ।\n",
    "आखीर श्रीकृष्ण रहेछ एक,\n",
    "न भक्ति भो, ज्ञान, नभो विवेक ।\n",
    "महामरुमा कण झैं म तातो,\n",
    "जलेर मर्दो बिनु आश लाटो ।\n",
    "सुकी रहेको तरु झैं छु खाली,\n",
    "चिताग्नि तापी जल डाल्न फाली ।\n",
    "संस्कार आफ्नो सब नै गुमाएँ,\n",
    "म शून्यमा शून्य सरी बिलाएँ ।\n",
    "जन्में म यो स्वर्गविषे पलाएँ,\n",
    "आखीर भै खाक त्यसै बिलाएँ\"\n"
   ]
  },
  {
   "cell_type": "code",
   "execution_count": 11,
   "id": "56b5319d",
   "metadata": {},
   "outputs": [
    {
     "name": "stdout",
     "output_type": "stream",
     "text": [
      "संसार रूपी सुख स्वर्गभित्र,\n",
      "रमें रमाएँ लिइ भित्र चित्र ।\n",
      "सारा भयो त्यो मरुभूभि तुल्य,\n",
      "रातै परेझैं अब बुझ्छु बल्ल ।\n",
      "रहेछ संसार निशा समान,\n",
      "आएन ज्यूँदै रहँदा नि ज्ञान ।\n",
      "आखीर श्रीकृष्ण रहेछ एक,\n",
      "न भक्ति भो, ज्ञान, नभो विवेक ।\n",
      "महामरुमा कण झैं म तातो,\n",
      "जलेर मर्दो बिनु आश लाटो ।\n",
      "सुकी रहेको तरु झैं छु खाली,\n",
      "चिताग्नि तापी जल डाल्न फाली ।\n",
      "संस्कार आफ्नो सब नै गुमाएँ,\n",
      "म शून्यमा शून्य सरी बिलाएँ ।\n",
      "जन्में म यो स्वर्गविषे पलाएँ,\n",
      "आखीर भै खाक त्यसै बिलाएँ\n",
      "\n"
     ]
    }
   ],
   "source": [
    "# solution triple quote\n",
    "kabita = \"\"\"संसार रूपी सुख स्वर्गभित्र,\n",
    "रमें रमाएँ लिइ भित्र चित्र ।\n",
    "सारा भयो त्यो मरुभूभि तुल्य,\n",
    "रातै परेझैं अब बुझ्छु बल्ल ।\n",
    "रहेछ संसार निशा समान,\n",
    "आएन ज्यूँदै रहँदा नि ज्ञान ।\n",
    "आखीर श्रीकृष्ण रहेछ एक,\n",
    "न भक्ति भो, ज्ञान, नभो विवेक ।\n",
    "महामरुमा कण झैं म तातो,\n",
    "जलेर मर्दो बिनु आश लाटो ।\n",
    "सुकी रहेको तरु झैं छु खाली,\n",
    "चिताग्नि तापी जल डाल्न फाली ।\n",
    "संस्कार आफ्नो सब नै गुमाएँ,\n",
    "म शून्यमा शून्य सरी बिलाएँ ।\n",
    "जन्में म यो स्वर्गविषे पलाएँ,\n",
    "आखीर भै खाक त्यसै बिलाएँ\n",
    "\"\"\"\n",
    "print(kabita)"
   ]
  },
  {
   "cell_type": "code",
   "execution_count": 13,
   "id": "bac5d89c",
   "metadata": {},
   "outputs": [
    {
     "name": "stdout",
     "output_type": "stream",
     "text": [
      "संसार रूपी सुख स्वर्गभित्र,\n",
      "रमें रमाएँ लिइ भित्र चित्र ।\n",
      "सारा भयो त्यो मरुभूभि तुल्य,\n",
      "रातै परेझैं अब बुझ्छु बल्ल ।\n",
      "रहेछ संसार निशा समान,\n",
      "आएन ज्यूँदै रहँदा नि ज्ञान ।\n",
      "आखीर श्रीकृष्ण रहेछ एक,\n",
      "न भक्ति भो, ज्ञान, नभो विवेक ।\n",
      "महामरुमा कण झैं म तातो,\n",
      "जलेर मर्दो बिनु आश लाटो ।\n",
      "सुकी रहेको तरु झैं छु खाली,\n",
      "चिताग्नि तापी जल डाल्न फाली ।\n",
      "संस्कार आफ्नो सब नै गुमाएँ,\n",
      "म शून्यमा शून्य सरी बिलाएँ ।\n",
      "जन्में म यो स्वर्गविषे पलाएँ,\n",
      "आखीर भै खाक त्यसै बिलाएँ\n",
      "\n",
      "\n"
     ]
    }
   ],
   "source": [
    "# multi line string\n",
    "kabita = '''संसार रूपी सुख स्वर्गभित्र,\n",
    "रमें रमाएँ लिइ भित्र चित्र ।\n",
    "सारा भयो त्यो मरुभूभि तुल्य,\n",
    "रातै परेझैं अब बुझ्छु बल्ल ।\n",
    "रहेछ संसार निशा समान,\n",
    "आएन ज्यूँदै रहँदा नि ज्ञान ।\n",
    "आखीर श्रीकृष्ण रहेछ एक,\n",
    "न भक्ति भो, ज्ञान, नभो विवेक ।\n",
    "महामरुमा कण झैं म तातो,\n",
    "जलेर मर्दो बिनु आश लाटो ।\n",
    "सुकी रहेको तरु झैं छु खाली,\n",
    "चिताग्नि तापी जल डाल्न फाली ।\n",
    "संस्कार आफ्नो सब नै गुमाएँ,\n",
    "म शून्यमा शून्य सरी बिलाएँ ।\n",
    "जन्में म यो स्वर्गविषे पलाएँ,\n",
    "आखीर भै खाक त्यसै बिलाएँ\n",
    "\n",
    "'''\n",
    "print(kabita)"
   ]
  },
  {
   "cell_type": "code",
   "execution_count": 16,
   "id": "6809e376",
   "metadata": {},
   "outputs": [],
   "source": [
    "# Indexing and slicing of string\n",
    "#Indexing always starts from zero\n",
    "# Wem use big bracket in indexing"
   ]
  },
  {
   "cell_type": "code",
   "execution_count": 17,
   "id": "4f082a43",
   "metadata": {},
   "outputs": [
    {
     "data": {
      "text/plain": [
       "'H'"
      ]
     },
     "execution_count": 17,
     "metadata": {},
     "output_type": "execute_result"
    }
   ],
   "source": [
    "a = 'Hello World'\n",
    "a[0] # indexing"
   ]
  },
  {
   "cell_type": "code",
   "execution_count": 18,
   "id": "9ef60181",
   "metadata": {},
   "outputs": [
    {
     "ename": "IndexError",
     "evalue": "string index out of range",
     "output_type": "error",
     "traceback": [
      "\u001b[1;31m---------------------------------------------------------------------------\u001b[0m",
      "\u001b[1;31mIndexError\u001b[0m                                Traceback (most recent call last)",
      "Cell \u001b[1;32mIn[18], line 1\u001b[0m\n\u001b[1;32m----> 1\u001b[0m a[\u001b[38;5;241m11\u001b[39m]\n",
      "\u001b[1;31mIndexError\u001b[0m: string index out of range"
     ]
    }
   ],
   "source": [
    "a[11]"
   ]
  },
  {
   "cell_type": "code",
   "execution_count": 19,
   "id": "f5ae386e",
   "metadata": {},
   "outputs": [
    {
     "data": {
      "text/plain": [
       "'W'"
      ]
     },
     "execution_count": 19,
     "metadata": {},
     "output_type": "execute_result"
    }
   ],
   "source": [
    "a[6]"
   ]
  },
  {
   "cell_type": "code",
   "execution_count": 20,
   "id": "f82ba8f4",
   "metadata": {},
   "outputs": [
    {
     "data": {
      "text/plain": [
       "11"
      ]
     },
     "execution_count": 20,
     "metadata": {},
     "output_type": "execute_result"
    }
   ],
   "source": [
    "len(a) # length of string"
   ]
  },
  {
   "cell_type": "markdown",
   "id": "926dfd02",
   "metadata": {},
   "source": [
    "# Slicing"
   ]
  },
  {
   "cell_type": "code",
   "execution_count": 24,
   "id": "5c91df9d",
   "metadata": {},
   "outputs": [
    {
     "data": {
      "text/plain": [
       "'Hello'"
      ]
     },
     "execution_count": 24,
     "metadata": {},
     "output_type": "execute_result"
    }
   ],
   "source": [
    "a = 'Hello World' # start ko value linxa end ko value lidaina\n",
    "a[0:5]"
   ]
  },
  {
   "cell_type": "code",
   "execution_count": 25,
   "id": "bbe4d3c0",
   "metadata": {},
   "outputs": [
    {
     "data": {
      "text/plain": [
       "'HloW'"
      ]
     },
     "execution_count": 25,
     "metadata": {},
     "output_type": "execute_result"
    }
   ],
   "source": [
    "a[0:8:2] # last ko 2 le dui step jump gareko bujauxa"
   ]
  },
  {
   "cell_type": "code",
   "execution_count": 26,
   "id": "3de14dfb",
   "metadata": {},
   "outputs": [
    {
     "data": {
      "text/plain": [
       "'d'"
      ]
     },
     "execution_count": 26,
     "metadata": {},
     "output_type": "execute_result"
    }
   ],
   "source": [
    "s = \"broadway\"\n",
    "s[4]"
   ]
  },
  {
   "cell_type": "code",
   "execution_count": 27,
   "id": "26c9ed1b",
   "metadata": {},
   "outputs": [
    {
     "data": {
      "text/plain": [
       "'dwa'"
      ]
     },
     "execution_count": 27,
     "metadata": {},
     "output_type": "execute_result"
    }
   ],
   "source": [
    "s[4:7]"
   ]
  },
  {
   "cell_type": "code",
   "execution_count": 28,
   "id": "ab20ec63",
   "metadata": {},
   "outputs": [
    {
     "data": {
      "text/plain": [
       "'bro'"
      ]
     },
     "execution_count": 28,
     "metadata": {},
     "output_type": "execute_result"
    }
   ],
   "source": [
    "s[0:3]"
   ]
  },
  {
   "cell_type": "code",
   "execution_count": 29,
   "id": "a96a0ac3",
   "metadata": {},
   "outputs": [
    {
     "data": {
      "text/plain": [
       "'way'"
      ]
     },
     "execution_count": 29,
     "metadata": {},
     "output_type": "execute_result"
    }
   ],
   "source": [
    "s[5:8]"
   ]
  },
  {
   "cell_type": "code",
   "execution_count": 30,
   "id": "c2e55adc",
   "metadata": {},
   "outputs": [
    {
     "data": {
      "text/plain": [
       "'ad'"
      ]
     },
     "execution_count": 30,
     "metadata": {},
     "output_type": "execute_result"
    }
   ],
   "source": [
    "s[3:5]"
   ]
  },
  {
   "cell_type": "code",
   "execution_count": 31,
   "id": "bb07ef2e",
   "metadata": {},
   "outputs": [
    {
     "data": {
      "text/plain": [
       "'road'"
      ]
     },
     "execution_count": 31,
     "metadata": {},
     "output_type": "execute_result"
    }
   ],
   "source": [
    "s[1:5]"
   ]
  },
  {
   "cell_type": "code",
   "execution_count": 33,
   "id": "3d8c491b",
   "metadata": {},
   "outputs": [
    {
     "data": {
      "text/plain": [
       "'Sr'"
      ]
     },
     "execution_count": 33,
     "metadata": {},
     "output_type": "execute_result"
    }
   ],
   "source": [
    "a = \"Smriti\" # 2 le 2 step jump garauxa\n",
    "a[0:4:2]"
   ]
  },
  {
   "cell_type": "markdown",
   "id": "34a42ead",
   "metadata": {},
   "source": [
    "# range(start,stop,step)"
   ]
  },
  {
   "cell_type": "code",
   "execution_count": 34,
   "id": "69184ba5",
   "metadata": {},
   "outputs": [
    {
     "data": {
      "text/plain": [
       "range(0, 11)"
      ]
     },
     "execution_count": 34,
     "metadata": {},
     "output_type": "execute_result"
    }
   ],
   "source": [
    "range(0,11)"
   ]
  },
  {
   "cell_type": "code",
   "execution_count": 38,
   "id": "1136b511",
   "metadata": {},
   "outputs": [
    {
     "name": "stdout",
     "output_type": "stream",
     "text": [
      "10\n",
      "11\n",
      "12\n",
      "13\n",
      "14\n",
      "15\n"
     ]
    }
   ],
   "source": [
    "for index in range(10,16):\n",
    "    print(index)"
   ]
  },
  {
   "cell_type": "code",
   "execution_count": 42,
   "id": "6961f84d",
   "metadata": {},
   "outputs": [
    {
     "name": "stdout",
     "output_type": "stream",
     "text": [
      "The index is 0 and the char is H\n",
      "The index is 1 and the char is e\n",
      "The index is 2 and the char is l\n",
      "The index is 3 and the char is l\n",
      "The index is 4 and the char is o\n",
      "The index is 5 and the char is  \n",
      "The index is 6 and the char is W\n",
      "The index is 7 and the char is o\n",
      "The index is 8 and the char is r\n",
      "The index is 9 and the char is l\n",
      "The index is 10 and the char is d\n"
     ]
    }
   ],
   "source": [
    "a = 'Hello World'\n",
    "for index in range(0,len(a)):\n",
    "    char = a[index]\n",
    "    print(f\"The index is {index} and the char is {char}\")"
   ]
  },
  {
   "cell_type": "code",
   "execution_count": 44,
   "id": "1ed1e974",
   "metadata": {},
   "outputs": [
    {
     "data": {
      "text/plain": [
       "'e'"
      ]
     },
     "execution_count": 44,
     "metadata": {},
     "output_type": "execute_result"
    }
   ],
   "source": [
    "index = 1\n",
    "character = a[index]\n",
    "character"
   ]
  },
  {
   "cell_type": "code",
   "execution_count": 45,
   "id": "1e7537e9",
   "metadata": {},
   "outputs": [
    {
     "data": {
      "text/plain": [
       "'l'"
      ]
     },
     "execution_count": 45,
     "metadata": {},
     "output_type": "execute_result"
    }
   ],
   "source": [
    "index = 2\n",
    "char = a [index]\n",
    "char"
   ]
  },
  {
   "cell_type": "code",
   "execution_count": 46,
   "id": "249a9808",
   "metadata": {},
   "outputs": [
    {
     "data": {
      "text/plain": [
       "'l'"
      ]
     },
     "execution_count": 46,
     "metadata": {},
     "output_type": "execute_result"
    }
   ],
   "source": [
    "index = 3\n",
    "char = a [index]\n",
    "char"
   ]
  },
  {
   "cell_type": "code",
   "execution_count": 47,
   "id": "cf2e362c",
   "metadata": {},
   "outputs": [
    {
     "data": {
      "text/plain": [
       "' '"
      ]
     },
     "execution_count": 47,
     "metadata": {},
     "output_type": "execute_result"
    }
   ],
   "source": [
    "index =5 \n",
    "char = a[index]\n",
    "char"
   ]
  },
  {
   "cell_type": "code",
   "execution_count": 51,
   "id": "765a3993",
   "metadata": {},
   "outputs": [
    {
     "name": "stdout",
     "output_type": "stream",
     "text": [
      "The index 0 contains Hchar\n",
      "The index 1 contains echar\n",
      "The index 2 contains lchar\n",
      "The index 3 contains lchar\n",
      "The index 4 contains ochar\n",
      "The index 5 contains  char\n",
      "The index 6 contains Wchar\n",
      "The index 7 contains ochar\n",
      "The index 8 contains rchar\n",
      "The index 9 contains lchar\n",
      "The index 10 contains dchar\n"
     ]
    }
   ],
   "source": [
    "for index in range(0,len(a)):\n",
    "    char = a[index]\n",
    "    print(f\"The index {index} contains {char}char\")"
   ]
  },
  {
   "cell_type": "code",
   "execution_count": 54,
   "id": "1c3d6b60",
   "metadata": {},
   "outputs": [
    {
     "name": "stdout",
     "output_type": "stream",
     "text": [
      "The index 0 contains b char\n",
      "The index 1 contains r char\n",
      "The index 2 contains o char\n",
      "The index 3 contains a char\n",
      "The index 4 contains d char\n",
      "The index 5 contains w char\n",
      "The index 6 contains a char\n",
      "The index 7 contains y char\n"
     ]
    }
   ],
   "source": [
    "place = \"broadway\"\n",
    "for index in range(0, len(place)):\n",
    "    char = place[index]\n",
    "    print(f\"The index {index} contains {char} char\")"
   ]
  },
  {
   "cell_type": "code",
   "execution_count": null,
   "id": "6cf55214",
   "metadata": {},
   "outputs": [],
   "source": []
  },
  {
   "cell_type": "code",
   "execution_count": null,
   "id": "e960b66a",
   "metadata": {},
   "outputs": [],
   "source": []
  }
 ],
 "metadata": {
  "kernelspec": {
   "display_name": "Python 3 (ipykernel)",
   "language": "python",
   "name": "python3"
  },
  "language_info": {
   "codemirror_mode": {
    "name": "ipython",
    "version": 3
   },
   "file_extension": ".py",
   "mimetype": "text/x-python",
   "name": "python",
   "nbconvert_exporter": "python",
   "pygments_lexer": "ipython3",
   "version": "3.11.4"
  }
 },
 "nbformat": 4,
 "nbformat_minor": 5
}
