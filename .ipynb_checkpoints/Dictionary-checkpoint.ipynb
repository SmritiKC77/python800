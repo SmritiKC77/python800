{
 "cells": [
  {
   "cell_type": "markdown",
   "id": "f03da377",
   "metadata": {},
   "source": [
    "# Dictionary\n",
    "* Dictionaries are used to store data values in key:value pairs.\n",
    "* A dictionary is a colection which is ordered,changable and donot allow duplicate keys."
   ]
  },
  {
   "cell_type": "code",
   "execution_count": null,
   "id": "cb735eb7",
   "metadata": {},
   "outputs": [],
   "source": [
    "# Creating empty dictionary\n",
    "d = {}\n",
    "type(d)"
   ]
  },
  {
   "cell_type": "code",
   "execution_count": null,
   "id": "18c4c2d5",
   "metadata": {},
   "outputs": [],
   "source": [
    "d1 = dict()\n",
    "type(d1)"
   ]
  },
  {
   "cell_type": "code",
   "execution_count": null,
   "id": "06f53996",
   "metadata": {},
   "outputs": [],
   "source": [
    "d1"
   ]
  },
  {
   "cell_type": "markdown",
   "id": "292fb95c",
   "metadata": {},
   "source": [
    "# Defining your own dictionary"
   ]
  },
  {
   "cell_type": "code",
   "execution_count": null,
   "id": "ff548f45",
   "metadata": {},
   "outputs": [],
   "source": [
    "about = {\n",
    "    'name': 'Smriti',\n",
    "    'lives_at':'Thecho',\n",
    "    'age':20,\n",
    "    'studies': ['python','DS','ML','AI']\n",
    "}\n",
    "print(about)"
   ]
  },
  {
   "cell_type": "markdown",
   "id": "e0378a7b",
   "metadata": {},
   "source": [
    "# Accessing values of a dictionary using keys"
   ]
  },
  {
   "cell_type": "code",
   "execution_count": null,
   "id": "09f5c956",
   "metadata": {},
   "outputs": [],
   "source": [
    "about['age']"
   ]
  },
  {
   "cell_type": "code",
   "execution_count": null,
   "id": "d49e9f66",
   "metadata": {},
   "outputs": [],
   "source": [
    "about['studies']"
   ]
  },
  {
   "cell_type": "code",
   "execution_count": null,
   "id": "59363757",
   "metadata": {},
   "outputs": [],
   "source": [
    "about['name']"
   ]
  },
  {
   "cell_type": "code",
   "execution_count": null,
   "id": "92cc4140",
   "metadata": {},
   "outputs": [],
   "source": [
    "about['lives_at']"
   ]
  },
  {
   "cell_type": "code",
   "execution_count": null,
   "id": "ac48ba4c",
   "metadata": {},
   "outputs": [],
   "source": [
    "# Another method\n",
    "about.get('studies') # key lai get garni"
   ]
  },
  {
   "cell_type": "code",
   "execution_count": null,
   "id": "8799aac6",
   "metadata": {},
   "outputs": [],
   "source": [
    "about.get('age')"
   ]
  },
  {
   "cell_type": "code",
   "execution_count": null,
   "id": "7c74abb0",
   "metadata": {},
   "outputs": [],
   "source": [
    "about.get('lives_at')"
   ]
  },
  {
   "cell_type": "code",
   "execution_count": null,
   "id": "cd3796e8",
   "metadata": {},
   "outputs": [],
   "source": []
  },
  {
   "cell_type": "code",
   "execution_count": null,
   "id": "4cc368ac",
   "metadata": {},
   "outputs": [],
   "source": [
    "about['works_at']"
   ]
  },
  {
   "cell_type": "code",
   "execution_count": null,
   "id": "ca1fe5dc",
   "metadata": {},
   "outputs": [],
   "source": [
    "output=about.get('works_at') # Safer option if key is not given\n",
    "print(output)"
   ]
  },
  {
   "cell_type": "code",
   "execution_count": null,
   "id": "fd2062f9",
   "metadata": {},
   "outputs": [],
   "source": [
    "output = about.get('works_at',[]) # if works_at donot exit return []\n",
    "output"
   ]
  },
  {
   "cell_type": "markdown",
   "id": "5eda55cf",
   "metadata": {},
   "source": [
    "# Adding key value pair in dictionary"
   ]
  },
  {
   "cell_type": "code",
   "execution_count": null,
   "id": "448e78c9",
   "metadata": {},
   "outputs": [],
   "source": [
    "about = {\n",
    "    'name': 'Smriti',\n",
    "    'lives_at':'Thecho',\n",
    "    'age':20,\n",
    "    'studies': ['python','DS','ML','AI']\n",
    "}"
   ]
  },
  {
   "cell_type": "code",
   "execution_count": null,
   "id": "8e56f2be",
   "metadata": {},
   "outputs": [],
   "source": [
    "about['works_at'] = ['Broadway']\n",
    "about"
   ]
  },
  {
   "cell_type": "code",
   "execution_count": null,
   "id": "7a1be504",
   "metadata": {},
   "outputs": [],
   "source": [
    "about['Semester']= 'Fifth'\n",
    "about"
   ]
  },
  {
   "cell_type": "code",
   "execution_count": null,
   "id": "f97bd888",
   "metadata": {},
   "outputs": [],
   "source": [
    "about['Studies_at'] = 'Padmakanya Campus'\n",
    "about"
   ]
  },
  {
   "cell_type": "code",
   "execution_count": null,
   "id": "fb83e68e",
   "metadata": {},
   "outputs": [],
   "source": [
    "# Another method"
   ]
  },
  {
   "cell_type": "code",
   "execution_count": null,
   "id": "31b1652c",
   "metadata": {},
   "outputs": [],
   "source": [
    "about.update({'ph_no':10000})# .update() expects dictionary as input\n",
    "about"
   ]
  },
  {
   "cell_type": "markdown",
   "id": "feb7c9f6",
   "metadata": {},
   "source": [
    "# Other methods of dictionary"
   ]
  },
  {
   "cell_type": "code",
   "execution_count": null,
   "id": "cb5e3fd9",
   "metadata": {},
   "outputs": [],
   "source": [
    "about "
   ]
  },
  {
   "cell_type": "code",
   "execution_count": null,
   "id": "9197ef5a",
   "metadata": {},
   "outputs": [],
   "source": [
    "about.keys() #List of keys in dictionary"
   ]
  },
  {
   "cell_type": "code",
   "execution_count": null,
   "id": "2edda362",
   "metadata": {},
   "outputs": [],
   "source": [
    "about.values()"
   ]
  },
  {
   "cell_type": "code",
   "execution_count": null,
   "id": "b247f8d2",
   "metadata": {},
   "outputs": [],
   "source": [
    "about.items() # tuple ma dinxa"
   ]
  },
  {
   "cell_type": "code",
   "execution_count": null,
   "id": "86b04303",
   "metadata": {},
   "outputs": [],
   "source": [
    "for key_value_pair in about.items():\n",
    "    print(key_value_pair)"
   ]
  },
  {
   "cell_type": "code",
   "execution_count": null,
   "id": "38882854",
   "metadata": {},
   "outputs": [],
   "source": [
    "key,val = ('name','Smriti')\n",
    "key"
   ]
  },
  {
   "cell_type": "code",
   "execution_count": null,
   "id": "42954af0",
   "metadata": {},
   "outputs": [],
   "source": [
    "val"
   ]
  },
  {
   "cell_type": "code",
   "execution_count": null,
   "id": "8e938db5",
   "metadata": {},
   "outputs": [],
   "source": [
    "for key,val in about.items():\n",
    "    print(f\"The key value is {key} and the value is {val}\")"
   ]
  },
  {
   "cell_type": "code",
   "execution_count": null,
   "id": "a892003d",
   "metadata": {},
   "outputs": [],
   "source": [
    "# Key value pair delete garnu paryo vani pop use hunxa"
   ]
  },
  {
   "cell_type": "markdown",
   "id": "676c9b2f",
   "metadata": {},
   "source": [
    "# pop"
   ]
  },
  {
   "cell_type": "code",
   "execution_count": null,
   "id": "d550a025",
   "metadata": {},
   "outputs": [],
   "source": [
    "d = {\n",
    "    'id': 3,\n",
    "    'url' : 'https//broadway.com',\n",
    "    'title': ' DAta Science',\n",
    "    'time':'9AM'\n",
    "}\n",
    "d.pop('time')"
   ]
  },
  {
   "cell_type": "code",
   "execution_count": null,
   "id": "5af6369b",
   "metadata": {},
   "outputs": [],
   "source": [
    "d"
   ]
  },
  {
   "cell_type": "code",
   "execution_count": null,
   "id": "385832a8",
   "metadata": {},
   "outputs": [],
   "source": [
    "d = {\n",
    "    'id': 3,\n",
    "    'url' : 'https//broadway.com',\n",
    "    'title': ' DAta Science',\n",
    "    'time':'9AM'\n",
    "}"
   ]
  },
  {
   "cell_type": "markdown",
   "id": "82890c97",
   "metadata": {},
   "source": [
    "# If a dictionary already contains key:value pair"
   ]
  },
  {
   "cell_type": "code",
   "execution_count": null,
   "id": "7f857a24",
   "metadata": {},
   "outputs": [],
   "source": [
    "d.update({'time' :'10AM'}) # key update garne haina value update garne ho\n",
    "d"
   ]
  },
  {
   "cell_type": "markdown",
   "id": "5cfce353",
   "metadata": {},
   "source": [
    "# Swap the key value pair of given dictionary."
   ]
  },
  {
   "cell_type": "code",
   "execution_count": null,
   "id": "bf00cf9b",
   "metadata": {},
   "outputs": [],
   "source": [
    "data = {\n",
    "    1:'One',\n",
    "    2:'Two'\n",
    "}\n",
    "data"
   ]
  },
  {
   "cell_type": "markdown",
   "id": "cbab5c2f",
   "metadata": {},
   "source": [
    "# Dictionary Comprehension"
   ]
  },
  {
   "cell_type": "code",
   "execution_count": null,
   "id": "5a630660",
   "metadata": {},
   "outputs": [],
   "source": [
    "{val:key for key,val in data.items()}"
   ]
  },
  {
   "cell_type": "code",
   "execution_count": null,
   "id": "7c334b4e",
   "metadata": {},
   "outputs": [],
   "source": [
    "about.items() # tuple ma dinxa\n",
    "for key_value_pair in about.items():\n",
    "    print(key_value_pair)"
   ]
  },
  {
   "cell_type": "markdown",
   "id": "18e74933",
   "metadata": {},
   "source": [
    "# Some examples of dictionary\n"
   ]
  },
  {
   "cell_type": "code",
   "execution_count": null,
   "id": "86de7fed",
   "metadata": {},
   "outputs": [],
   "source": [
    "my_dict = {1:'apple',2:'ball'}\n",
    "my_dict[2]"
   ]
  },
  {
   "cell_type": "code",
   "execution_count": null,
   "id": "8af3b447",
   "metadata": {},
   "outputs": [],
   "source": [
    "my_dict.get(2)"
   ]
  },
  {
   "cell_type": "markdown",
   "id": "8e0cff79",
   "metadata": {},
   "source": [
    "# Nested dictionary"
   ]
  },
  {
   "cell_type": "code",
   "execution_count": null,
   "id": "5ff60dbf",
   "metadata": {},
   "outputs": [],
   "source": [
    "child= {\n",
    "    'child1':{'name':'Smriti','age' : 20,'gender':'Female'},\n",
    "    'child2':{'name':'Jenu','age':21,'gender':'Female'}\n",
    "}\n"
   ]
  },
  {
   "cell_type": "code",
   "execution_count": null,
   "id": "d17ed252",
   "metadata": {},
   "outputs": [],
   "source": [
    "child['child2']"
   ]
  },
  {
   "cell_type": "code",
   "execution_count": null,
   "id": "d7519a49",
   "metadata": {},
   "outputs": [],
   "source": [
    "child['child2']['age']"
   ]
  },
  {
   "cell_type": "code",
   "execution_count": null,
   "id": "280db47a",
   "metadata": {},
   "outputs": [],
   "source": [
    "child['child1']['gender']"
   ]
  },
  {
   "cell_type": "code",
   "execution_count": null,
   "id": "89a261c2",
   "metadata": {},
   "outputs": [],
   "source": [
    "child.get('child2')"
   ]
  },
  {
   "cell_type": "code",
   "execution_count": null,
   "id": "f5f24dfb",
   "metadata": {},
   "outputs": [],
   "source": [
    "child.get('child1').get('age')"
   ]
  },
  {
   "cell_type": "code",
   "execution_count": null,
   "id": "33c6b8b9",
   "metadata": {},
   "outputs": [],
   "source": [
    "child.keys()"
   ]
  },
  {
   "cell_type": "code",
   "execution_count": null,
   "id": "20286ed4",
   "metadata": {},
   "outputs": [],
   "source": [
    "# [{}{}]\n",
    "data = []\n",
    "for i in range(2):\n",
    "    name = input(\"Enter your name:\")\n",
    "    age = input(\"Enter your age:\")\n",
    "    d = {\n",
    "        'name' : name ,'age': age\n",
    "    }\n",
    "  \n",
    "    data.append(d)\n",
    "\n",
    "         "
   ]
  },
  {
   "cell_type": "code",
   "execution_count": null,
   "id": "df784bf6",
   "metadata": {},
   "outputs": [],
   "source": [
    "[{'name': input(\"Enter your name :\"),'age': input(\"Enter your age:\") for i in range(2)}]"
   ]
  },
  {
   "cell_type": "code",
   "execution_count": null,
   "id": "fbb65f09",
   "metadata": {},
   "outputs": [],
   "source": [
    "[{\"name\": input(\"Enter your name\"), \"age\": input(\"Enter your age\")} for i in range(2)]"
   ]
  }
 ],
 "metadata": {
  "kernelspec": {
   "display_name": "Python 3 (ipykernel)",
   "language": "python",
   "name": "python3"
  },
  "language_info": {
   "codemirror_mode": {
    "name": "ipython",
    "version": 3
   },
   "file_extension": ".py",
   "mimetype": "text/x-python",
   "name": "python",
   "nbconvert_exporter": "python",
   "pygments_lexer": "ipython3",
   "version": "3.11.4"
  }
 },
 "nbformat": 4,
 "nbformat_minor": 5
}
