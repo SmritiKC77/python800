{
 "cells": [
  {
   "cell_type": "code",
   "execution_count": 2,
   "id": "8a69b348",
   "metadata": {},
   "outputs": [
    {
     "name": "stdout",
     "output_type": "stream",
     "text": [
      "Aile batta ma k cha? horlicks\n",
      "Aba batta ma k cha? Achar\n"
     ]
    }
   ],
   "source": [
    "batta = (\"horlicks\")\n",
    "print(f\"Aile batta ma k cha? {batta}\")\n",
    "batta = \"Achar\"\n",
    "print(f\"Aba batta ma k cha? {batta}\")"
   ]
  },
  {
   "cell_type": "code",
   "execution_count": 3,
   "id": "1b23d10c",
   "metadata": {},
   "outputs": [
    {
     "name": "stdout",
     "output_type": "stream",
     "text": [
      "71.5\n"
     ]
    }
   ],
   "source": [
    "# Another method\n",
    "weight = 70\n",
    "weight =weight +1.5\n",
    "print(weight)\n"
   ]
  },
  {
   "cell_type": "code",
   "execution_count": null,
   "id": "d39fd365",
   "metadata": {},
   "outputs": [],
   "source": []
  }
 ],
 "metadata": {
  "kernelspec": {
   "display_name": "Python 3 (ipykernel)",
   "language": "python",
   "name": "python3"
  },
  "language_info": {
   "codemirror_mode": {
    "name": "ipython",
    "version": 3
   },
   "file_extension": ".py",
   "mimetype": "text/x-python",
   "name": "python",
   "nbconvert_exporter": "python",
   "pygments_lexer": "ipython3",
   "version": "3.11.4"
  }
 },
 "nbformat": 4,
 "nbformat_minor": 5
}
