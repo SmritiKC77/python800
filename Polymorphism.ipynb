{
 "cells": [
  {
   "cell_type": "code",
   "execution_count": 4,
   "id": "39ae4629",
   "metadata": {},
   "outputs": [],
   "source": [
    "class P:\n",
    "    def paisa_chaiyo(self):\n",
    "        print(\"Ma sanga xaina tei vayera parent ko goji bata auxa\")\n",
    "class C(P):\n",
    "    def __init__(self):\n",
    "        super().__init__()"
   ]
  },
  {
   "cell_type": "code",
   "execution_count": 6,
   "id": "189f0e38",
   "metadata": {},
   "outputs": [],
   "source": [
    "ma = C()"
   ]
  },
  {
   "cell_type": "code",
   "execution_count": 7,
   "id": "c746f1e3",
   "metadata": {},
   "outputs": [
    {
     "name": "stdout",
     "output_type": "stream",
     "text": [
      "Ma sanga xaina tei vayera parent ko goji bata auxa\n"
     ]
    }
   ],
   "source": [
    "ma.paisa_chaiyo()"
   ]
  },
  {
   "cell_type": "code",
   "execution_count": 8,
   "id": "d0e500cf",
   "metadata": {},
   "outputs": [],
   "source": [
    "class P:\n",
    "    def paisa_chaiyo(self):\n",
    "        print(\"Ma sanga xaina tei vayera parent ko goji bata auxa\")\n",
    "class C(P):\n",
    "    def __init__(self):\n",
    "        super().__init__()\n",
    "    def paisa_chaiyo(self):\n",
    "        print(\"Ma sanga paisa xa ma parent sanga magdina\")"
   ]
  },
  {
   "cell_type": "code",
   "execution_count": 10,
   "id": "9992d61a",
   "metadata": {},
   "outputs": [],
   "source": [
    "ma = C()"
   ]
  },
  {
   "cell_type": "code",
   "execution_count": 11,
   "id": "d8218df8",
   "metadata": {},
   "outputs": [
    {
     "name": "stdout",
     "output_type": "stream",
     "text": [
      "Ma sanga paisa xa ma parent sanga magdina\n"
     ]
    }
   ],
   "source": [
    "ma.paisa_chaiyo() # Function overriding , afu sanga method xa vane parent ko call hudaina."
   ]
  },
  {
   "cell_type": "markdown",
   "id": "7f9381b3",
   "metadata": {},
   "source": [
    "# Polymorphism is having many forms"
   ]
  },
  {
   "cell_type": "markdown",
   "id": "0d4386a1",
   "metadata": {},
   "source": [
    "# Operators"
   ]
  },
  {
   "cell_type": "code",
   "execution_count": 12,
   "id": "bc28c7cd",
   "metadata": {},
   "outputs": [
    {
     "data": {
      "text/plain": [
       "5"
      ]
     },
     "execution_count": 12,
     "metadata": {},
     "output_type": "execute_result"
    }
   ],
   "source": [
    "2 +3"
   ]
  },
  {
   "cell_type": "code",
   "execution_count": 13,
   "id": "7a245f96",
   "metadata": {},
   "outputs": [
    {
     "data": {
      "text/plain": [
       "'SmritiSmriti'"
      ]
     },
     "execution_count": 13,
     "metadata": {},
     "output_type": "execute_result"
    }
   ],
   "source": [
    "\"Smriti\" +\"Smriti\""
   ]
  },
  {
   "cell_type": "code",
   "execution_count": 14,
   "id": "271deb1b",
   "metadata": {},
   "outputs": [
    {
     "data": {
      "text/plain": [
       "[66, 2, 1, 8, 3, 5]"
      ]
     },
     "execution_count": 14,
     "metadata": {},
     "output_type": "execute_result"
    }
   ],
   "source": [
    "[66,2,1,8,] +[3,5]"
   ]
  },
  {
   "cell_type": "code",
   "execution_count": 15,
   "id": "aef9de7e",
   "metadata": {},
   "outputs": [
    {
     "ename": "TypeError",
     "evalue": "can only concatenate str (not \"int\") to str",
     "output_type": "error",
     "traceback": [
      "\u001b[1;31m---------------------------------------------------------------------------\u001b[0m",
      "\u001b[1;31mTypeError\u001b[0m                                 Traceback (most recent call last)",
      "Cell \u001b[1;32mIn[15], line 1\u001b[0m\n\u001b[1;32m----> 1\u001b[0m \u001b[38;5;124m\"\u001b[39m\u001b[38;5;124mhi\u001b[39m\u001b[38;5;124m\"\u001b[39m \u001b[38;5;241m+\u001b[39m\u001b[38;5;241m1\u001b[39m\n",
      "\u001b[1;31mTypeError\u001b[0m: can only concatenate str (not \"int\") to str"
     ]
    }
   ],
   "source": [
    "\"hi\" +1"
   ]
  },
  {
   "cell_type": "code",
   "execution_count": 16,
   "id": "49de3d6c",
   "metadata": {},
   "outputs": [],
   "source": [
    "class Point:\n",
    "    def __init__(self,point):\n",
    "        self.point = point"
   ]
  },
  {
   "cell_type": "code",
   "execution_count": 17,
   "id": "867d326a",
   "metadata": {},
   "outputs": [
    {
     "ename": "TypeError",
     "evalue": "unsupported operand type(s) for +: 'Point' and 'Point'",
     "output_type": "error",
     "traceback": [
      "\u001b[1;31m---------------------------------------------------------------------------\u001b[0m",
      "\u001b[1;31mTypeError\u001b[0m                                 Traceback (most recent call last)",
      "Cell \u001b[1;32mIn[17], line 3\u001b[0m\n\u001b[0;32m      1\u001b[0m p1 \u001b[38;5;241m=\u001b[39m Point(point \u001b[38;5;241m=\u001b[39m\u001b[38;5;241m2\u001b[39m)\n\u001b[0;32m      2\u001b[0m p2 \u001b[38;5;241m=\u001b[39m Point(point \u001b[38;5;241m=\u001b[39m\u001b[38;5;241m9\u001b[39m)\n\u001b[1;32m----> 3\u001b[0m p1 \u001b[38;5;241m+\u001b[39mp2\n",
      "\u001b[1;31mTypeError\u001b[0m: unsupported operand type(s) for +: 'Point' and 'Point'"
     ]
    }
   ],
   "source": [
    "p1 = Point(point =2)\n",
    "p2 = Point(point =9)\n",
    "p1 +p2"
   ]
  },
  {
   "cell_type": "markdown",
   "id": "42b8c2ca",
   "metadata": {},
   "source": [
    "# Operator Overloading\n",
    "* We need Dunders for operator overloading.\n",
    "# Dunders\n",
    "* Dunder or magic methods in Python are the methods having two prefix and suffix underscores in the method name. Dunder here means “Double Under (Underscores)”. These are commonly used for operator overloading. Few examples for magic methods are: __init__, __add__, __len__, __repr__ etc."
   ]
  },
  {
   "cell_type": "code",
   "execution_count": 36,
   "id": "8473376d",
   "metadata": {},
   "outputs": [],
   "source": [
    "class Point:\n",
    "    def __init__(self,point):\n",
    "        self.point = point\n",
    "    def __add__(p1,p2):\n",
    "        return p1.point + p2.point\n",
    "    def __eq(p1,p2):\n",
    "        return p1.point == p2.point\n",
    "    def __lt__(p1,p2):\n",
    "        return p1.point < p2.point"
   ]
  },
  {
   "cell_type": "code",
   "execution_count": 31,
   "id": "fe087849",
   "metadata": {},
   "outputs": [
    {
     "data": {
      "text/plain": [
       "11"
      ]
     },
     "execution_count": 31,
     "metadata": {},
     "output_type": "execute_result"
    }
   ],
   "source": [
    "p1 = Point(point =2)\n",
    "p2 = Point(point =9)\n",
    "p1 + p2"
   ]
  },
  {
   "cell_type": "code",
   "execution_count": 25,
   "id": "838461db",
   "metadata": {},
   "outputs": [
    {
     "data": {
      "text/plain": [
       "False"
      ]
     },
     "execution_count": 25,
     "metadata": {},
     "output_type": "execute_result"
    }
   ],
   "source": [
    "p1 == p2"
   ]
  },
  {
   "cell_type": "code",
   "execution_count": 37,
   "id": "08b5add7",
   "metadata": {},
   "outputs": [
    {
     "data": {
      "text/plain": [
       "True"
      ]
     },
     "execution_count": 37,
     "metadata": {},
     "output_type": "execute_result"
    }
   ],
   "source": [
    "p1 = Point(point =2)\n",
    "p2 = Point(point =9)\n",
    "p1 < p2"
   ]
  },
  {
   "cell_type": "code",
   "execution_count": null,
   "id": "aca722f5",
   "metadata": {},
   "outputs": [],
   "source": []
  }
 ],
 "metadata": {
  "kernelspec": {
   "display_name": "Python 3 (ipykernel)",
   "language": "python",
   "name": "python3"
  },
  "language_info": {
   "codemirror_mode": {
    "name": "ipython",
    "version": 3
   },
   "file_extension": ".py",
   "mimetype": "text/x-python",
   "name": "python",
   "nbconvert_exporter": "python",
   "pygments_lexer": "ipython3",
   "version": "3.11.4"
  }
 },
 "nbformat": 4,
 "nbformat_minor": 5
}
