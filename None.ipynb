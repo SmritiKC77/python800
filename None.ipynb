{
 "cells": [
  {
   "cell_type": "markdown",
   "id": "8f2f748a",
   "metadata": {},
   "source": [
    "# None\n",
    "* The none keyword is used to define a null value, or no value at all\n",
    "* None is not the same as 0, False or an empty string.\n",
    "* None is a data type of its own(None type) and only none can be none."
   ]
  },
  {
   "cell_type": "code",
   "execution_count": 1,
   "id": "099c2f93",
   "metadata": {},
   "outputs": [
    {
     "data": {
      "text/plain": [
       "NoneType"
      ]
     },
     "execution_count": 1,
     "metadata": {},
     "output_type": "execute_result"
    }
   ],
   "source": [
    "x = None\n",
    "type(x)"
   ]
  },
  {
   "cell_type": "code",
   "execution_count": 2,
   "id": "f0c6acf0",
   "metadata": {},
   "outputs": [
    {
     "data": {
      "text/plain": [
       "False"
      ]
     },
     "execution_count": 2,
     "metadata": {},
     "output_type": "execute_result"
    }
   ],
   "source": [
    "None == 0"
   ]
  },
  {
   "cell_type": "code",
   "execution_count": 3,
   "id": "10dcdceb",
   "metadata": {},
   "outputs": [
    {
     "data": {
      "text/plain": [
       "False"
      ]
     },
     "execution_count": 3,
     "metadata": {},
     "output_type": "execute_result"
    }
   ],
   "source": [
    "None == \"\""
   ]
  },
  {
   "cell_type": "code",
   "execution_count": 4,
   "id": "031b1df6",
   "metadata": {},
   "outputs": [
    {
     "data": {
      "text/plain": [
       "True"
      ]
     },
     "execution_count": 4,
     "metadata": {},
     "output_type": "execute_result"
    }
   ],
   "source": [
    "None == None"
   ]
  },
  {
   "cell_type": "code",
   "execution_count": null,
   "id": "e03eb7c6",
   "metadata": {},
   "outputs": [],
   "source": [
    "x = None\n",
    "if x == None:\n",
    "    print(\"x is none\") # it is not a preferred way"
   ]
  },
  {
   "cell_type": "markdown",
   "id": "b028f02c",
   "metadata": {},
   "source": [
    "# Identity Operator"
   ]
  },
  {
   "cell_type": "markdown",
   "id": "60980807",
   "metadata": {},
   "source": [
    "Identity opeartors are used to compare the objects, not if they are equal but if they are actually the same object with the same memory location: \"is , is not\"\n"
   ]
  },
  {
   "cell_type": "code",
   "execution_count": 7,
   "id": "7c9a839e",
   "metadata": {},
   "outputs": [
    {
     "data": {
      "text/plain": [
       "True"
      ]
     },
     "execution_count": 7,
     "metadata": {},
     "output_type": "execute_result"
    }
   ],
   "source": [
    "x = None\n",
    "x is None"
   ]
  },
  {
   "cell_type": "code",
   "execution_count": 8,
   "id": "58108a31",
   "metadata": {},
   "outputs": [
    {
     "data": {
      "text/plain": [
       "True"
      ]
     },
     "execution_count": 8,
     "metadata": {},
     "output_type": "execute_result"
    }
   ],
   "source": [
    "x is not float"
   ]
  },
  {
   "cell_type": "code",
   "execution_count": 9,
   "id": "60d7d769",
   "metadata": {},
   "outputs": [
    {
     "name": "stdout",
     "output_type": "stream",
     "text": [
      "x is None\n"
     ]
    }
   ],
   "source": [
    "x = None\n",
    "if x is None: \n",
    "    print(\"x is None\") #  preferred way"
   ]
  },
  {
   "cell_type": "code",
   "execution_count": 10,
   "id": "6a0be633",
   "metadata": {},
   "outputs": [
    {
     "name": "stdout",
     "output_type": "stream",
     "text": [
      "140703394327280 140703394327280 140703394327280\n"
     ]
    }
   ],
   "source": [
    "x = None\n",
    "y = None\n",
    "print(id(x),id(y),id(None))"
   ]
  },
  {
   "cell_type": "code",
   "execution_count": 11,
   "id": "91a8b635",
   "metadata": {},
   "outputs": [
    {
     "name": "stderr",
     "output_type": "stream",
     "text": [
      "<>:1: SyntaxWarning: \"is\" with a literal. Did you mean \"==\"?\n",
      "<>:1: SyntaxWarning: \"is\" with a literal. Did you mean \"==\"?\n",
      "C:\\Users\\DELL\\AppData\\Local\\Temp\\ipykernel_7656\\3476542435.py:1: SyntaxWarning: \"is\" with a literal. Did you mean \"==\"?\n",
      "  0 is 0\n"
     ]
    },
    {
     "data": {
      "text/plain": [
       "True"
      ]
     },
     "execution_count": 11,
     "metadata": {},
     "output_type": "execute_result"
    }
   ],
   "source": [
    "0 is 0"
   ]
  },
  {
   "cell_type": "code",
   "execution_count": 12,
   "id": "67e3d195",
   "metadata": {},
   "outputs": [
    {
     "ename": "NameError",
     "evalue": "name 'a' is not defined",
     "output_type": "error",
     "traceback": [
      "\u001b[1;31m---------------------------------------------------------------------------\u001b[0m",
      "\u001b[1;31mNameError\u001b[0m                                 Traceback (most recent call last)",
      "Cell \u001b[1;32mIn[12], line 1\u001b[0m\n\u001b[1;32m----> 1\u001b[0m a \u001b[38;5;129;01mis\u001b[39;00m b\n",
      "\u001b[1;31mNameError\u001b[0m: name 'a' is not defined"
     ]
    }
   ],
   "source": [
    "a is b"
   ]
  },
  {
   "cell_type": "code",
   "execution_count": null,
   "id": "bd1fc281",
   "metadata": {},
   "outputs": [],
   "source": []
  }
 ],
 "metadata": {
  "kernelspec": {
   "display_name": "Python 3 (ipykernel)",
   "language": "python",
   "name": "python3"
  },
  "language_info": {
   "codemirror_mode": {
    "name": "ipython",
    "version": 3
   },
   "file_extension": ".py",
   "mimetype": "text/x-python",
   "name": "python",
   "nbconvert_exporter": "python",
   "pygments_lexer": "ipython3",
   "version": "3.11.4"
  }
 },
 "nbformat": 4,
 "nbformat_minor": 5
}
