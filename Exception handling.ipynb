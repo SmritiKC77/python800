{
 "cells": [
  {
   "cell_type": "code",
   "execution_count": 1,
   "id": "599ebf52",
   "metadata": {},
   "outputs": [
    {
     "ename": "ZeroDivisionError",
     "evalue": "division by zero",
     "output_type": "error",
     "traceback": [
      "\u001b[1;31m---------------------------------------------------------------------------\u001b[0m",
      "\u001b[1;31mZeroDivisionError\u001b[0m                         Traceback (most recent call last)",
      "Cell \u001b[1;32mIn[1], line 3\u001b[0m\n\u001b[0;32m      1\u001b[0m a \u001b[38;5;241m=\u001b[39m \u001b[38;5;241m15\u001b[39m\n\u001b[0;32m      2\u001b[0m b \u001b[38;5;241m=\u001b[39m \u001b[38;5;241m0\u001b[39m \u001b[38;5;66;03m# Zero division error exception\u001b[39;00m\n\u001b[1;32m----> 3\u001b[0m output \u001b[38;5;241m=\u001b[39m a\u001b[38;5;241m/\u001b[39mb\n\u001b[0;32m      4\u001b[0m output\n",
      "\u001b[1;31mZeroDivisionError\u001b[0m: division by zero"
     ]
    }
   ],
   "source": [
    "a = 15\n",
    "b = 0 # Zero division error exception\n",
    "output = a/b\n",
    "output"
   ]
  },
  {
   "cell_type": "code",
   "execution_count": null,
   "id": "45b9fa24",
   "metadata": {},
   "outputs": [],
   "source": [
    "#ZeroDivisionError is an exception"
   ]
  },
  {
   "cell_type": "markdown",
   "id": "460361af",
   "metadata": {},
   "source": [
    "# Use try ... except...finally to handle exception"
   ]
  },
  {
   "cell_type": "code",
   "execution_count": null,
   "id": "0065837c",
   "metadata": {},
   "outputs": [],
   "source": [
    "a = 15\n",
    "b = 0 \n",
    "try:\n",
    "    output = a/b\n",
    "except:\n",
    "    print (f\"b = {b}\")"
   ]
  },
  {
   "cell_type": "code",
   "execution_count": null,
   "id": "505de5cd",
   "metadata": {},
   "outputs": [],
   "source": [
    "a = 15\n",
    "b = 0 \n",
    "try:\n",
    "    output = a/b\n",
    "except ZeroDivisionError:\n",
    "    print (f\"b = {b}\")"
   ]
  },
  {
   "cell_type": "code",
   "execution_count": null,
   "id": "52ee6a1e",
   "metadata": {},
   "outputs": [],
   "source": [
    "# Preferred way of writing exception handling\n",
    "a = 15\n",
    "b = 0 \n",
    "try:\n",
    "    output = a/b\n",
    "except ZeroDivisionError as e:\n",
    "    print(e)\n",
    "    print (f\"b = {b}\")"
   ]
  },
  {
   "cell_type": "code",
   "execution_count": null,
   "id": "4bc9d2b1",
   "metadata": {},
   "outputs": [],
   "source": [
    "a = 15\n",
    "b = 0 \n",
    "try:\n",
    "    output = a/b\n",
    "except Exception as e: # jun exception ayo vani ni catch garxa\n",
    "    print(e)\n",
    "    print (f\"b = {b}\")"
   ]
  },
  {
   "cell_type": "code",
   "execution_count": 3,
   "id": "3424dd49",
   "metadata": {},
   "outputs": [
    {
     "name": "stdout",
     "output_type": "stream",
     "text": [
      "ENter your number:22\n",
      "ENter your number:0\n",
      "division by zero\n",
      "Error\n"
     ]
    }
   ],
   "source": [
    " try:\n",
    "     a = int(input(\"ENter your number:\"))\n",
    "     b = int(input(\"ENter your number:\"))\n",
    "\n",
    "     output = a/b\n",
    "except Exception as e: # Exception Captures all kinds odf exception\n",
    "    print(e)\n",
    "    print(\"Error\")\n",
    "    "
   ]
  },
  {
   "cell_type": "code",
   "execution_count": 10,
   "id": "59dce7a7",
   "metadata": {},
   "outputs": [
    {
     "name": "stdout",
     "output_type": "stream",
     "text": [
      "ENter your number:2\n",
      "ENter your number:0\n",
      "division by zero\n",
      "Error\n"
     ]
    }
   ],
   "source": [
    "# Another method\n",
    "try:\n",
    "     a = int(input(\"ENter your number:\"))\n",
    "     b = int(input(\"ENter your number:\"))\n",
    "     output = a/b\n",
    "except (ZeroDivisionError,ValueError) as e: # Exception Captures all kinds odf exception\n",
    "    print(e)\n",
    "    print(\"Error\")"
   ]
  },
  {
   "cell_type": "code",
   "execution_count": 11,
   "id": "4e25e2bd",
   "metadata": {},
   "outputs": [
    {
     "ename": "ValueError",
     "evalue": "b cannot be zero b!=0",
     "output_type": "error",
     "traceback": [
      "\u001b[1;31m---------------------------------------------------------------------------\u001b[0m",
      "\u001b[1;31mValueError\u001b[0m                                Traceback (most recent call last)",
      "Cell \u001b[1;32mIn[11], line 4\u001b[0m\n\u001b[0;32m      2\u001b[0m b \u001b[38;5;241m=\u001b[39m \u001b[38;5;241m0\u001b[39m\n\u001b[0;32m      3\u001b[0m \u001b[38;5;28;01mif\u001b[39;00m b \u001b[38;5;241m==\u001b[39m \u001b[38;5;241m0\u001b[39m:\n\u001b[1;32m----> 4\u001b[0m     \u001b[38;5;28;01mraise\u001b[39;00m \u001b[38;5;167;01mValueError\u001b[39;00m(\u001b[38;5;124m\"\u001b[39m\u001b[38;5;124mb cannot be zero b!=0\u001b[39m\u001b[38;5;124m\"\u001b[39m)\n",
      "\u001b[1;31mValueError\u001b[0m: b cannot be zero b!=0"
     ]
    }
   ],
   "source": [
    "a = 5\n",
    "b = 0\n",
    "if b == 0:\n",
    "    raise ValueError(\"b cannot be zero b!=0\")"
   ]
  },
  {
   "cell_type": "markdown",
   "id": "5d83e5d9",
   "metadata": {},
   "source": [
    "# Finally  is always executed -- used to close a file or flush the memory"
   ]
  },
  {
   "cell_type": "code",
   "execution_count": 13,
   "id": "c0a5c01d",
   "metadata": {},
   "outputs": [
    {
     "name": "stdout",
     "output_type": "stream",
     "text": [
      "division by zero\n",
      "This line is always executed no matter what\n"
     ]
    }
   ],
   "source": [
    "a = 15\n",
    "b = 0\n",
    "try:\n",
    "    output= a/b\n",
    "except Exception as e:\n",
    "    print(e)\n",
    "finally:\n",
    "    print(\"This line is always executed no matter what\")"
   ]
  },
  {
   "cell_type": "code",
   "execution_count": null,
   "id": "9e366b36",
   "metadata": {},
   "outputs": [],
   "source": []
  }
 ],
 "metadata": {
  "kernelspec": {
   "display_name": "Python 3 (ipykernel)",
   "language": "python",
   "name": "python3"
  },
  "language_info": {
   "codemirror_mode": {
    "name": "ipython",
    "version": 3
   },
   "file_extension": ".py",
   "mimetype": "text/x-python",
   "name": "python",
   "nbconvert_exporter": "python",
   "pygments_lexer": "ipython3",
   "version": "3.11.4"
  }
 },
 "nbformat": 4,
 "nbformat_minor": 5
}
