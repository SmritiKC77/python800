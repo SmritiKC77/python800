{
 "cells": [
  {
   "cell_type": "markdown",
   "id": "0dc417ee",
   "metadata": {},
   "source": []
  },
  {
   "cell_type": "code",
   "execution_count": 1,
   "id": "98912ace",
   "metadata": {},
   "outputs": [],
   "source": [
    "name = 'Yogesh'\n",
    "def make_viral():\n",
    "    name = 'Baiguni keto'\n",
    "    print(name)"
   ]
  },
  {
   "cell_type": "code",
   "execution_count": 2,
   "id": "ee102fee",
   "metadata": {},
   "outputs": [
    {
     "data": {
      "text/plain": [
       "'Yogesh'"
      ]
     },
     "execution_count": 2,
     "metadata": {},
     "output_type": "execute_result"
    }
   ],
   "source": [
    "name # Yogesh is a global variable"
   ]
  },
  {
   "cell_type": "code",
   "execution_count": 3,
   "id": "c98fc02d",
   "metadata": {},
   "outputs": [
    {
     "name": "stdout",
     "output_type": "stream",
     "text": [
      "Baiguni keto\n"
     ]
    }
   ],
   "source": [
    "make_viral()"
   ]
  },
  {
   "cell_type": "code",
   "execution_count": null,
   "id": "fac7ef32",
   "metadata": {},
   "outputs": [],
   "source": [
    "# Name is a local variable to a function\n"
   ]
  },
  {
   "cell_type": "code",
   "execution_count": 4,
   "id": "89edf319",
   "metadata": {},
   "outputs": [],
   "source": [
    "name = 'Yogesh'\n",
    "def make_viral():\n",
    "    global name\n",
    "    name = 'Baiguni keto'\n",
    "    print(name)"
   ]
  },
  {
   "cell_type": "code",
   "execution_count": 5,
   "id": "bb87908e",
   "metadata": {},
   "outputs": [
    {
     "data": {
      "text/plain": [
       "'Yogesh'"
      ]
     },
     "execution_count": 5,
     "metadata": {},
     "output_type": "execute_result"
    }
   ],
   "source": [
    "name"
   ]
  },
  {
   "cell_type": "code",
   "execution_count": 6,
   "id": "95b1ab17",
   "metadata": {},
   "outputs": [
    {
     "name": "stdout",
     "output_type": "stream",
     "text": [
      "Baiguni keto\n"
     ]
    }
   ],
   "source": [
    "make_viral()"
   ]
  },
  {
   "cell_type": "code",
   "execution_count": 7,
   "id": "fbfaa39b",
   "metadata": {},
   "outputs": [
    {
     "data": {
      "text/plain": [
       "'Baiguni keto'"
      ]
     },
     "execution_count": 7,
     "metadata": {},
     "output_type": "execute_result"
    }
   ],
   "source": [
    "name"
   ]
  },
  {
   "cell_type": "code",
   "execution_count": null,
   "id": "54e0fc31",
   "metadata": {},
   "outputs": [],
   "source": [
    "# Function le return garna milxa so global lekhidaina"
   ]
  }
 ],
 "metadata": {
  "kernelspec": {
   "display_name": "Python 3 (ipykernel)",
   "language": "python",
   "name": "python3"
  },
  "language_info": {
   "codemirror_mode": {
    "name": "ipython",
    "version": 3
   },
   "file_extension": ".py",
   "mimetype": "text/x-python",
   "name": "python",
   "nbconvert_exporter": "python",
   "pygments_lexer": "ipython3",
   "version": "3.11.4"
  }
 },
 "nbformat": 4,
 "nbformat_minor": 5
}
