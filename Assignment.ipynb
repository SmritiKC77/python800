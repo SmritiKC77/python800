{
 "cells": [
  {
   "cell_type": "markdown",
   "id": "ecf2a137",
   "metadata": {},
   "source": [
    "# Wap to check whether a number entered is multiple of 5 or not"
   ]
  },
  {
   "cell_type": "code",
   "execution_count": 2,
   "id": "0bb15454",
   "metadata": {},
   "outputs": [
    {
     "name": "stdout",
     "output_type": "stream",
     "text": [
      "Enter the number:7\n",
      "bye\n"
     ]
    }
   ],
   "source": [
    "number = int(input(\"Enter the number:\"))\n",
    "if number % 5 == 0:\n",
    "    print(\"Hello\")\n",
    "else:\n",
    "    print(\"bye\")"
   ]
  },
  {
   "cell_type": "markdown",
   "id": "ff6da42e",
   "metadata": {},
   "source": [
    "# Wap to check whether a last digit of number entered by a user is divisible by 3 or not"
   ]
  },
  {
   "cell_type": "code",
   "execution_count": 7,
   "id": "4670b856",
   "metadata": {},
   "outputs": [
    {
     "name": "stdout",
     "output_type": "stream",
     "text": [
      "Enter the number : 55\n",
      "Not divisible by 3\n"
     ]
    }
   ],
   "source": [
    "number=int(input(\"Enter the number : \"))\n",
    "\n",
    "last_digit = number%10\n",
    "\n",
    "if(last_digit%3==0):\n",
    "\n",
    "    print(\"Divisible by 3\")\n",
    "\n",
    "else:\n",
    "\n",
    "    print(\"Not divisible by 3\")"
   ]
  },
  {
   "cell_type": "code",
   "execution_count": null,
   "id": "d16b42d4",
   "metadata": {},
   "outputs": [],
   "source": []
  }
 ],
 "metadata": {
  "kernelspec": {
   "display_name": "Python 3 (ipykernel)",
   "language": "python",
   "name": "python3"
  },
  "language_info": {
   "codemirror_mode": {
    "name": "ipython",
    "version": 3
   },
   "file_extension": ".py",
   "mimetype": "text/x-python",
   "name": "python",
   "nbconvert_exporter": "python",
   "pygments_lexer": "ipython3",
   "version": "3.11.4"
  }
 },
 "nbformat": 4,
 "nbformat_minor": 5
}
