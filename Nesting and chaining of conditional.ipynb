{
 "cells": [
  {
   "cell_type": "markdown",
   "id": "a8ccc30e",
   "metadata": {},
   "source": [
    "# Write  a program  to check of the user input is negative ,neutral or positive\n"
   ]
  },
  {
   "cell_type": "code",
   "execution_count": 5,
   "id": "d055392a",
   "metadata": {},
   "outputs": [
    {
     "name": "stdout",
     "output_type": "stream",
     "text": [
      "Enter a number:-2\n",
      "Negative\n"
     ]
    }
   ],
   "source": [
    "num = int(input(\"Enter a number:\"))\n",
    "if num < 0: # if ekali lekhna pauxa tara else eklai lekhna paudaina\n",
    "    print(\"Negative\")\n",
    "else:\n",
    "    if num == 0:\n",
    "        print(\"Neutral\")\n",
    "    else:\n",
    "            print(\"Positive\")"
   ]
  },
  {
   "cell_type": "markdown",
   "id": "10709ddd",
   "metadata": {},
   "source": [
    "#  Chaining of conditional: if..elif..elif..else"
   ]
  },
  {
   "cell_type": "code",
   "execution_count": 7,
   "id": "1c7a525e",
   "metadata": {},
   "outputs": [
    {
     "name": "stdout",
     "output_type": "stream",
     "text": [
      "Enter a number:0\n",
      "Neutral\n"
     ]
    }
   ],
   "source": [
    "num = int(input(\"Enter a number:\"))\n",
    "if num < 0: # if ekali lekhna pauxa tara else eklai lekhna paudaina\n",
    "    print(\"Negative\")\n",
    "elif num == 0:\n",
    "      print(\"Neutral\")\n",
    "else:\n",
    "            print(\"Positive\") "
   ]
  },
  {
   "cell_type": "code",
   "execution_count": null,
   "id": "92246388",
   "metadata": {},
   "outputs": [],
   "source": []
  }
 ],
 "metadata": {
  "kernelspec": {
   "display_name": "Python 3 (ipykernel)",
   "language": "python",
   "name": "python3"
  },
  "language_info": {
   "codemirror_mode": {
    "name": "ipython",
    "version": 3
   },
   "file_extension": ".py",
   "mimetype": "text/x-python",
   "name": "python",
   "nbconvert_exporter": "python",
   "pygments_lexer": "ipython3",
   "version": "3.11.4"
  }
 },
 "nbformat": 4,
 "nbformat_minor": 5
}
