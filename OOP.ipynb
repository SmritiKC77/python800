{
 "cells": [
  {
   "cell_type": "markdown",
   "id": "e005be25",
   "metadata": {},
   "source": [
    "# Object Oriented Programming"
   ]
  },
  {
   "cell_type": "code",
   "execution_count": 1,
   "id": "96d8f382",
   "metadata": {},
   "outputs": [
    {
     "data": {
      "text/plain": [
       "int"
      ]
     },
     "execution_count": 1,
     "metadata": {},
     "output_type": "execute_result"
    }
   ],
   "source": [
    "a= 5\n",
    "type(a)"
   ]
  },
  {
   "cell_type": "code",
   "execution_count": 2,
   "id": "4fe78f51",
   "metadata": {},
   "outputs": [
    {
     "name": "stdout",
     "output_type": "stream",
     "text": [
      "<class 'int'>\n"
     ]
    }
   ],
   "source": [
    "print(type(a))"
   ]
  },
  {
   "cell_type": "code",
   "execution_count": null,
   "id": "e45f01fa",
   "metadata": {},
   "outputs": [],
   "source": [
    "l1 = list(a) # variable vaneko object ho"
   ]
  },
  {
   "cell_type": "markdown",
   "id": "e943bdaa",
   "metadata": {},
   "source": [
    "# Creating User defined empty class"
   ]
  },
  {
   "cell_type": "code",
   "execution_count": null,
   "id": "4642fce9",
   "metadata": {},
   "outputs": [],
   "source": [
    "# class ko first letter capital hunxa. Pascal case ma hunu parxa"
   ]
  },
  {
   "cell_type": "code",
   "execution_count": 3,
   "id": "8944189c",
   "metadata": {},
   "outputs": [],
   "source": [
    "class Mammal :\n",
    "    pass\n"
   ]
  },
  {
   "cell_type": "code",
   "execution_count": 4,
   "id": "29bfe523",
   "metadata": {},
   "outputs": [
    {
     "data": {
      "text/plain": [
       "__main__.Mammal"
      ]
     },
     "execution_count": 4,
     "metadata": {},
     "output_type": "execute_result"
    }
   ],
   "source": [
    "human = Mammal()\n",
    "type(human)"
   ]
  },
  {
   "cell_type": "code",
   "execution_count": 5,
   "id": "01c64e7a",
   "metadata": {},
   "outputs": [
    {
     "data": {
      "text/plain": [
       "__main__.Mammal"
      ]
     },
     "execution_count": 5,
     "metadata": {},
     "output_type": "execute_result"
    }
   ],
   "source": [
    "cow = Mammal()\n",
    "type(cow)"
   ]
  },
  {
   "cell_type": "markdown",
   "id": "34f46f0e",
   "metadata": {},
   "source": [
    "# Class\n",
    "* Class is an blueprint to create an object\n",
    "* Contains attributes and methods.\n",
    "* Object is an instance of a class.\n",
    "\n",
    "# Class contains attributes and methods.\n",
    "\n",
    "* Atrributes can be class attribute and object attribute."
   ]
  },
  {
   "cell_type": "code",
   "execution_count": null,
   "id": "f4650029",
   "metadata": {},
   "outputs": [],
   "source": [
    "class Person:\n",
    "    pass"
   ]
  },
  {
   "cell_type": "code",
   "execution_count": null,
   "id": "17adbc04",
   "metadata": {},
   "outputs": [],
   "source": [
    "Person = Smriti()"
   ]
  },
  {
   "cell_type": "code",
   "execution_count": 9,
   "id": "4e199165",
   "metadata": {},
   "outputs": [],
   "source": [
    "class Mammal:\n",
    "    has_hair = True # class attribute is same for all object"
   ]
  },
  {
   "cell_type": "code",
   "execution_count": 10,
   "id": "c507d2bf",
   "metadata": {},
   "outputs": [
    {
     "data": {
      "text/plain": [
       "True"
      ]
     },
     "execution_count": 10,
     "metadata": {},
     "output_type": "execute_result"
    }
   ],
   "source": [
    "human = Mammal()\n",
    "human.has_hair"
   ]
  },
  {
   "cell_type": "code",
   "execution_count": 11,
   "id": "c7272687",
   "metadata": {},
   "outputs": [
    {
     "data": {
      "text/plain": [
       "True"
      ]
     },
     "execution_count": 11,
     "metadata": {},
     "output_type": "execute_result"
    }
   ],
   "source": [
    "cow = Mammal()\n",
    "cow.has_hair"
   ]
  },
  {
   "cell_type": "code",
   "execution_count": null,
   "id": "be886f44",
   "metadata": {},
   "outputs": [],
   "source": [
    "# Defining object attribute\n"
   ]
  },
  {
   "cell_type": "code",
   "execution_count": 45,
   "id": "a88e45c0",
   "metadata": {},
   "outputs": [],
   "source": [
    "class Mammal:\n",
    "    has_hair = True # self is a object\n",
    "    def __init_(self,no_of_legs): \n",
    "        self.no_of_legs = no_of_legs"
   ]
  },
  {
   "cell_type": "code",
   "execution_count": 46,
   "id": "c9fa5351",
   "metadata": {},
   "outputs": [],
   "source": [
    "human = Mammal()"
   ]
  },
  {
   "cell_type": "code",
   "execution_count": 47,
   "id": "8cddf764",
   "metadata": {},
   "outputs": [
    {
     "ename": "TypeError",
     "evalue": "Mammal() takes no arguments",
     "output_type": "error",
     "traceback": [
      "\u001b[1;31m---------------------------------------------------------------------------\u001b[0m",
      "\u001b[1;31mTypeError\u001b[0m                                 Traceback (most recent call last)",
      "Cell \u001b[1;32mIn[47], line 1\u001b[0m\n\u001b[1;32m----> 1\u001b[0m human \u001b[38;5;241m=\u001b[39m Mammal(no_of_legs \u001b[38;5;241m=\u001b[39m \u001b[38;5;241m2\u001b[39m)\n",
      "\u001b[1;31mTypeError\u001b[0m: Mammal() takes no arguments"
     ]
    }
   ],
   "source": [
    "human = Mammal(no_of_legs = 2)"
   ]
  },
  {
   "cell_type": "code",
   "execution_count": 21,
   "id": "382ccbe5",
   "metadata": {},
   "outputs": [
    {
     "data": {
      "text/plain": [
       "True"
      ]
     },
     "execution_count": 21,
     "metadata": {},
     "output_type": "execute_result"
    }
   ],
   "source": [
    "human.has_hair"
   ]
  },
  {
   "cell_type": "code",
   "execution_count": 51,
   "id": "1065db2b",
   "metadata": {},
   "outputs": [],
   "source": [
    "class Mammal:\n",
    "    has_hair = True # self is a object\n",
    "    def __init__(self ,no_of_legs): \n",
    "        self.no_of_legs = no_of_legs\n"
   ]
  },
  {
   "cell_type": "code",
   "execution_count": null,
   "id": "cd8c5539",
   "metadata": {},
   "outputs": [],
   "source": [
    "human "
   ]
  },
  {
   "cell_type": "code",
   "execution_count": 44,
   "id": "b5158d9e",
   "metadata": {},
   "outputs": [
    {
     "data": {
      "text/plain": [
       "4"
      ]
     },
     "execution_count": 44,
     "metadata": {},
     "output_type": "execute_result"
    }
   ],
   "source": [
    "cow = Mammal(no_of_legs = 4)\n",
    "cow.no_of_legs"
   ]
  },
  {
   "cell_type": "markdown",
   "id": "efa7483e",
   "metadata": {},
   "source": [
    "# What is self and _init_(self)"
   ]
  },
  {
   "cell_type": "code",
   "execution_count": null,
   "id": "4813ffba",
   "metadata": {},
   "outputs": [],
   "source": [
    "# _init_is an object attribute initializer"
   ]
  },
  {
   "cell_type": "code",
   "execution_count": null,
   "id": "f947dc1c",
   "metadata": {},
   "outputs": [],
   "source": [
    "# self is an object"
   ]
  },
  {
   "cell_type": "code",
   "execution_count": 41,
   "id": "ba67b017",
   "metadata": {},
   "outputs": [],
   "source": [
    "class Mammal:\n",
    "    def __init__(self):\n",
    "        print(type(self))"
   ]
  },
  {
   "cell_type": "code",
   "execution_count": 42,
   "id": "2907de8b",
   "metadata": {},
   "outputs": [
    {
     "name": "stdout",
     "output_type": "stream",
     "text": [
      "<class '__main__.Mammal'>\n"
     ]
    }
   ],
   "source": [
    "m1 = Mammal()"
   ]
  },
  {
   "cell_type": "code",
   "execution_count": 37,
   "id": "0dc2ab89",
   "metadata": {},
   "outputs": [
    {
     "name": "stdout",
     "output_type": "stream",
     "text": [
      "<class '__main__.Mammal'>\n"
     ]
    }
   ],
   "source": [
    "print(typ)"
   ]
  },
  {
   "cell_type": "markdown",
   "id": "ccbf47e8",
   "metadata": {},
   "source": [
    "# What is def_init_(self)?\n",
    "* All classes has a function called _init_() , which is always executes when the class is being initiated,\n",
    "* Use the _init_() function to assign the values to object properties, or other operations that are necessary to do when the object is being created.\n"
   ]
  },
  {
   "cell_type": "code",
   "execution_count": 49,
   "id": "bc204ba6",
   "metadata": {},
   "outputs": [
    {
     "name": "stdout",
     "output_type": "stream",
     "text": [
      "Smriti\n",
      "20\n"
     ]
    }
   ],
   "source": [
    "class Person:\n",
    "    def __init__(self,name,age):\n",
    "        self.name = name\n",
    "        self.age = age\n",
    "p1 = Person(\"Smriti\",20)\n",
    "print(p1.name)\n",
    "print(p1.age)"
   ]
  },
  {
   "cell_type": "markdown",
   "id": "2762b56b",
   "metadata": {},
   "source": [
    "# Self keyword is used to represent an instance(object) of the given class"
   ]
  },
  {
   "cell_type": "code",
   "execution_count": 50,
   "id": "286b7134",
   "metadata": {},
   "outputs": [
    {
     "name": "stdout",
     "output_type": "stream",
     "text": [
      "<class '__main__.Person'>\n",
      "<class '__main__.Person'>\n"
     ]
    }
   ],
   "source": [
    "class Person:\n",
    "    def __init__(self):\n",
    "        print(type(self))\n",
    "p1 = Person()\n",
    "print(type(p1))"
   ]
  },
  {
   "cell_type": "markdown",
   "id": "a5ed3858",
   "metadata": {},
   "source": [
    "# The self parameter is a reference to the current instance of class, and is used to access the variables that belongs to the class."
   ]
  },
  {
   "cell_type": "markdown",
   "id": "754f8463",
   "metadata": {},
   "source": [
    "# User defined function/Method in class"
   ]
  },
  {
   "cell_type": "code",
   "execution_count": 52,
   "id": "169e7f93",
   "metadata": {},
   "outputs": [],
   "source": [
    "class Rectangle:\n",
    "    def __init__(self,l,b):\n",
    "        self.l = l\n",
    "        self.b = b\n",
    "    def area(self):\n",
    "        return self.l*self.b"
   ]
  },
  {
   "cell_type": "code",
   "execution_count": 53,
   "id": "1272658b",
   "metadata": {},
   "outputs": [],
   "source": [
    "r1 = Rectangle(l=9 , b= 2)\n",
    "r2 = Rectangle(l=4, b=3)"
   ]
  },
  {
   "cell_type": "code",
   "execution_count": 54,
   "id": "789725d3",
   "metadata": {},
   "outputs": [
    {
     "data": {
      "text/plain": [
       "18"
      ]
     },
     "execution_count": 54,
     "metadata": {},
     "output_type": "execute_result"
    }
   ],
   "source": [
    "r1.area()"
   ]
  },
  {
   "cell_type": "code",
   "execution_count": 55,
   "id": "d5efa702",
   "metadata": {},
   "outputs": [
    {
     "data": {
      "text/plain": [
       "12"
      ]
     },
     "execution_count": 55,
     "metadata": {},
     "output_type": "execute_result"
    }
   ],
   "source": [
    "r2.area()"
   ]
  },
  {
   "cell_type": "code",
   "execution_count": 67,
   "id": "90e03234",
   "metadata": {},
   "outputs": [],
   "source": [
    "import math\n",
    "class Sphere:\n",
    "    def __init__(self,r):\n",
    "        self.r = r\n",
    "    def volume(self):\n",
    "        return 4/3*math.pi*self.r**3\n"
   ]
  },
  {
   "cell_type": "code",
   "execution_count": 68,
   "id": "8723dc47",
   "metadata": {},
   "outputs": [
    {
     "data": {
      "text/plain": [
       "523.5987755982989"
      ]
     },
     "execution_count": 68,
     "metadata": {},
     "output_type": "execute_result"
    }
   ],
   "source": [
    "v = Sphere(r= 5)\n",
    "v.volume()"
   ]
  },
  {
   "cell_type": "code",
   "execution_count": null,
   "id": "9e5edbde",
   "metadata": {},
   "outputs": [],
   "source": []
  },
  {
   "cell_type": "code",
   "execution_count": null,
   "id": "aec5e31c",
   "metadata": {},
   "outputs": [],
   "source": []
  }
 ],
 "metadata": {
  "kernelspec": {
   "display_name": "Python 3 (ipykernel)",
   "language": "python",
   "name": "python3"
  },
  "language_info": {
   "codemirror_mode": {
    "name": "ipython",
    "version": 3
   },
   "file_extension": ".py",
   "mimetype": "text/x-python",
   "name": "python",
   "nbconvert_exporter": "python",
   "pygments_lexer": "ipython3",
   "version": "3.11.4"
  }
 },
 "nbformat": 4,
 "nbformat_minor": 5
}
