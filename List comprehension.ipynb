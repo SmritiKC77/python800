{
 "cells": [
  {
   "cell_type": "code",
   "execution_count": 3,
   "id": "c8ef07e3",
   "metadata": {},
   "outputs": [
    {
     "data": {
      "text/plain": [
       "4"
      ]
     },
     "execution_count": 3,
     "metadata": {},
     "output_type": "execute_result"
    }
   ],
   "source": [
    "import random\n",
    "random.randint(1,10) # generates one random integer between 1 and 10\n"
   ]
  },
  {
   "cell_type": "code",
   "execution_count": 7,
   "id": "6db1d976",
   "metadata": {},
   "outputs": [
    {
     "data": {
      "text/plain": [
       "1"
      ]
     },
     "execution_count": 7,
     "metadata": {},
     "output_type": "execute_result"
    }
   ],
   "source": [
    "import random\n",
    "random.seed(2) # seed is greater or equals to 0\n",
    "random.randint(1,10) # deterministic ma seed hunxa"
   ]
  },
  {
   "cell_type": "code",
   "execution_count": 6,
   "id": "8b5971c6",
   "metadata": {},
   "outputs": [
    {
     "data": {
      "text/plain": [
       "[7, 5, 8, 6, 10]"
      ]
     },
     "execution_count": 6,
     "metadata": {},
     "output_type": "execute_result"
    }
   ],
   "source": [
    "random_number = []\n",
    "for index in range(5):\n",
    "    number = random.randint(1,10)\n",
    "    random_number.append(number)\n",
    "random_number"
   ]
  },
  {
   "cell_type": "code",
   "execution_count": 8,
   "id": "d2afa10c",
   "metadata": {},
   "outputs": [
    {
     "data": {
      "text/plain": [
       "[8, 10, 9, 1, 4]"
      ]
     },
     "execution_count": 8,
     "metadata": {},
     "output_type": "execute_result"
    }
   ],
   "source": [
    "random_number = []\n",
    "random.seed(40)\n",
    "for index in range(5):\n",
    "    number = random.randint(1,10)\n",
    "    random_number.append(number)\n",
    "random_number"
   ]
  },
  {
   "cell_type": "code",
   "execution_count": 11,
   "id": "a48f9d96",
   "metadata": {},
   "outputs": [
    {
     "data": {
      "text/plain": [
       "[8, 10, 9, 1, 4]"
      ]
     },
     "execution_count": 11,
     "metadata": {},
     "output_type": "execute_result"
    }
   ],
   "source": [
    "# We can use list comprehension as short method.\n",
    "random.seed(40)\n",
    "[random.randint(1,10) for index in range(5)]"
   ]
  },
  {
   "cell_type": "markdown",
   "id": "1a4eb6f2",
   "metadata": {},
   "source": [
    "#[Expression for item in iterable]\n"
   ]
  },
  {
   "cell_type": "code",
   "execution_count": 1,
   "id": "7d1681e9",
   "metadata": {},
   "outputs": [],
   "source": [
    "data = [5,3,9,6]\n",
    "square = []\n",
    "for item in data:\n",
    "    square.append(item**2)\n",
    "square    \n",
    "               "
   ]
  },
  {
   "cell_type": "code",
   "execution_count": 4,
   "id": "b0fbe300",
   "metadata": {},
   "outputs": [
    {
     "data": {
      "text/plain": [
       "[10, 6, 18, 12]"
      ]
     },
     "execution_count": 4,
     "metadata": {},
     "output_type": "execute_result"
    }
   ],
   "source": [
    "[item**2 for item in data]"
   ]
  },
  {
   "cell_type": "markdown",
   "id": "514e525d",
   "metadata": {},
   "source": [
    "# List comprehension with if\n",
    "Syntax:\n",
    "```python\n",
    "[Expression for item in iterable if True]\n",
    "```"
   ]
  },
  {
   "cell_type": "code",
   "execution_count": 20,
   "id": "578f1157",
   "metadata": {},
   "outputs": [
    {
     "data": {
      "text/plain": [
       "[2, 6, 8]"
      ]
     },
     "execution_count": 20,
     "metadata": {},
     "output_type": "execute_result"
    }
   ],
   "source": [
    "l1 = [2,3,5,6,8,9]\n",
    "# extract even numbers only\n",
    "[item for item in l1 if item % 2== 0] # even numbers"
   ]
  },
  {
   "cell_type": "code",
   "execution_count": 22,
   "id": "9ccc2d78",
   "metadata": {},
   "outputs": [
    {
     "data": {
      "text/plain": [
       "[3, 5, 9]"
      ]
     },
     "execution_count": 22,
     "metadata": {},
     "output_type": "execute_result"
    }
   ],
   "source": [
    "[item for item in l1 if item % 2!= 0] # odd numbers"
   ]
  },
  {
   "cell_type": "code",
   "execution_count": 25,
   "id": "e9dd98bd",
   "metadata": {},
   "outputs": [
    {
     "data": {
      "text/plain": [
       "[2, -1, 0, -3]"
      ]
     },
     "execution_count": 25,
     "metadata": {},
     "output_type": "execute_result"
    }
   ],
   "source": [
    "data = [2,3,-1,0,6,-3]\n",
    "# i want data <=2\n",
    "[ item for item in data if item <=2]"
   ]
  },
  {
   "cell_type": "markdown",
   "id": "2efb0b00",
   "metadata": {},
   "source": [
    "# List comprehension with if else\n"
   ]
  },
  {
   "cell_type": "code",
   "execution_count": null,
   "id": "899afb2a",
   "metadata": {},
   "outputs": [],
   "source": [
    "syntax:\n",
    "    ```python\n",
    "    [Expression if true else expression for item in iterable]\n",
    "    ```"
   ]
  },
  {
   "cell_type": "code",
   "execution_count": null,
   "id": "09917a75",
   "metadata": {},
   "outputs": [],
   "source": [
    "data = range(-3,3)\n"
   ]
  },
  {
   "cell_type": "code",
   "execution_count": 26,
   "id": "d5e66d23",
   "metadata": {},
   "outputs": [
    {
     "data": {
      "text/plain": [
       "[2, 3, 0, 0, 6, 0]"
      ]
     },
     "execution_count": 26,
     "metadata": {},
     "output_type": "execute_result"
    }
   ],
   "source": [
    "# if item <=0 ; 0 hunu paryo else jasta ko testai\n",
    "[0 if item <=0 else item for item in data ]"
   ]
  },
  {
   "cell_type": "code",
   "execution_count": null,
   "id": "c0d711f0",
   "metadata": {},
   "outputs": [],
   "source": []
  }
 ],
 "metadata": {
  "kernelspec": {
   "display_name": "Python 3 (ipykernel)",
   "language": "python",
   "name": "python3"
  },
  "language_info": {
   "codemirror_mode": {
    "name": "ipython",
    "version": 3
   },
   "file_extension": ".py",
   "mimetype": "text/x-python",
   "name": "python",
   "nbconvert_exporter": "python",
   "pygments_lexer": "ipython3",
   "version": "3.11.4"
  }
 },
 "nbformat": 4,
 "nbformat_minor": 5
}
