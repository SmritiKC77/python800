{
 "cells": [
  {
   "cell_type": "markdown",
   "id": "1ebcf044",
   "metadata": {},
   "source": [
    "# Sets"
   ]
  },
  {
   "cell_type": "markdown",
   "id": "8b8b754e",
   "metadata": {},
   "source": [
    "* One of the built in data type.\n",
    "* Stores multiple item in a single variable name.\n",
    "* Used to store collecrions of data, the other 3 are list, tuple and dictionary, all with different qualities and usage.\n",
    "* A set is a collection which is unordered, unchangable and unindexed.\n",
    "* Mutable "
   ]
  },
  {
   "cell_type": "code",
   "execution_count": null,
   "id": "f4b3022c",
   "metadata": {},
   "outputs": [],
   "source": [
    "# Creating  set"
   ]
  },
  {
   "cell_type": "code",
   "execution_count": 3,
   "id": "dcda0e6f",
   "metadata": {},
   "outputs": [
    {
     "name": "stdout",
     "output_type": "stream",
     "text": [
      "{'Achar', 'Sag', 'Gheu', 'Masu', 'Dal', 'Rice', 'Tarkari'}\n"
     ]
    }
   ],
   "source": [
    "thakali = {'Rice','Dal','Masu','Tarkari','Achar','Sag','Gheu','Masu'}\n",
    "print(thakali) # no ordering maintained and no duplicate allowed"
   ]
  },
  {
   "cell_type": "code",
   "execution_count": 4,
   "id": "3b8938df",
   "metadata": {},
   "outputs": [
    {
     "ename": "TypeError",
     "evalue": "'set' object is not subscriptable",
     "output_type": "error",
     "traceback": [
      "\u001b[1;31m---------------------------------------------------------------------------\u001b[0m",
      "\u001b[1;31mTypeError\u001b[0m                                 Traceback (most recent call last)",
      "Cell \u001b[1;32mIn[4], line 1\u001b[0m\n\u001b[1;32m----> 1\u001b[0m thakali[\u001b[38;5;241m0\u001b[39m]\n",
      "\u001b[1;31mTypeError\u001b[0m: 'set' object is not subscriptable"
     ]
    }
   ],
   "source": [
    "thakali[0]  # no indexing"
   ]
  },
  {
   "cell_type": "code",
   "execution_count": 5,
   "id": "3d70fa06",
   "metadata": {},
   "outputs": [
    {
     "data": {
      "text/plain": [
       "{'Achar', 'Dal', 'Gheu', 'Masu', 'Rice', 'Sag', 'Tarkari', 'pappad'}"
      ]
     },
     "execution_count": 5,
     "metadata": {},
     "output_type": "execute_result"
    }
   ],
   "source": [
    "# set is a mutable data type you can add or remove items.\n",
    "\n",
    "thakali.add('pappad')\n",
    "thakali"
   ]
  },
  {
   "cell_type": "code",
   "execution_count": 6,
   "id": "117536e3",
   "metadata": {},
   "outputs": [
    {
     "data": {
      "text/plain": [
       "{'Achar', 'Gheu', 'Masu', 'Rice', 'Sag', 'Tarkari', 'pappad'}"
      ]
     },
     "execution_count": 6,
     "metadata": {},
     "output_type": "execute_result"
    }
   ],
   "source": [
    "thakali.remove('Dal')\n",
    "thakali"
   ]
  },
  {
   "cell_type": "code",
   "execution_count": 7,
   "id": "d6d7812e",
   "metadata": {},
   "outputs": [
    {
     "ename": "KeyError",
     "evalue": "'Salad'",
     "output_type": "error",
     "traceback": [
      "\u001b[1;31m---------------------------------------------------------------------------\u001b[0m",
      "\u001b[1;31mKeyError\u001b[0m                                  Traceback (most recent call last)",
      "Cell \u001b[1;32mIn[7], line 1\u001b[0m\n\u001b[1;32m----> 1\u001b[0m thakali\u001b[38;5;241m.\u001b[39mremove(\u001b[38;5;124m'\u001b[39m\u001b[38;5;124mSalad\u001b[39m\u001b[38;5;124m'\u001b[39m)\n",
      "\u001b[1;31mKeyError\u001b[0m: 'Salad'"
     ]
    }
   ],
   "source": [
    "thakali.remove('Salad') # navako item remove garna mildaina\n"
   ]
  },
  {
   "cell_type": "code",
   "execution_count": 8,
   "id": "a6c5f4a0",
   "metadata": {},
   "outputs": [],
   "source": [
    "thakali.discard('salad') # if key exists remove it otherwise donot"
   ]
  },
  {
   "cell_type": "markdown",
   "id": "a4ab4b51",
   "metadata": {},
   "source": [
    "# loop"
   ]
  },
  {
   "cell_type": "code",
   "execution_count": 9,
   "id": "4bd6e01c",
   "metadata": {},
   "outputs": [
    {
     "name": "stdout",
     "output_type": "stream",
     "text": [
      "Achar\n",
      "Sag\n",
      "Gheu\n",
      "Masu\n",
      "Dal\n",
      "Rice\n",
      "Tarkari\n"
     ]
    }
   ],
   "source": [
    "thakali = {'Rice','Dal','Masu','Tarkari','Achar','Sag','Gheu'}\n",
    "for item in thakali:\n",
    "    print(item)"
   ]
  },
  {
   "cell_type": "markdown",
   "id": "c981494e",
   "metadata": {},
   "source": [
    "# Set operation"
   ]
  },
  {
   "cell_type": "code",
   "execution_count": 10,
   "id": "f3027faa",
   "metadata": {},
   "outputs": [
    {
     "data": {
      "text/plain": [
       "{'apple'}"
      ]
     },
     "execution_count": 10,
     "metadata": {},
     "output_type": "execute_result"
    }
   ],
   "source": [
    "A = {'apple','banana','cherry'}\n",
    "B = {'google','microsoft','apple'}\n",
    "A.intersection(B)"
   ]
  },
  {
   "cell_type": "code",
   "execution_count": 11,
   "id": "df945be6",
   "metadata": {},
   "outputs": [
    {
     "data": {
      "text/plain": [
       "{'apple'}"
      ]
     },
     "execution_count": 11,
     "metadata": {},
     "output_type": "execute_result"
    }
   ],
   "source": [
    "B.intersection(A)"
   ]
  },
  {
   "cell_type": "code",
   "execution_count": 12,
   "id": "59e0c1e7",
   "metadata": {},
   "outputs": [
    {
     "data": {
      "text/plain": [
       "{'apple', 'banana', 'cherry', 'google', 'microsoft'}"
      ]
     },
     "execution_count": 12,
     "metadata": {},
     "output_type": "execute_result"
    }
   ],
   "source": [
    "A.union(B)"
   ]
  },
  {
   "cell_type": "code",
   "execution_count": 13,
   "id": "1fd2e02c",
   "metadata": {},
   "outputs": [
    {
     "data": {
      "text/plain": [
       "{'apple', 'banana', 'cherry', 'google', 'microsoft'}"
      ]
     },
     "execution_count": 13,
     "metadata": {},
     "output_type": "execute_result"
    }
   ],
   "source": [
    "B.union(A)"
   ]
  },
  {
   "cell_type": "code",
   "execution_count": 16,
   "id": "4334c231",
   "metadata": {},
   "outputs": [
    {
     "data": {
      "text/plain": [
       "{'banana', 'cherry'}"
      ]
     },
     "execution_count": 16,
     "metadata": {},
     "output_type": "execute_result"
    }
   ],
   "source": [
    "A.difference(B)"
   ]
  },
  {
   "cell_type": "code",
   "execution_count": 15,
   "id": "befa159e",
   "metadata": {},
   "outputs": [
    {
     "data": {
      "text/plain": [
       "{'banana', 'cherry'}"
      ]
     },
     "execution_count": 15,
     "metadata": {},
     "output_type": "execute_result"
    }
   ],
   "source": [
    "A-B"
   ]
  },
  {
   "cell_type": "markdown",
   "id": "98c88b50",
   "metadata": {},
   "source": [
    "# Other set type : frozenset - Frozen Set is just an immutable version of Python set object."
   ]
  },
  {
   "cell_type": "code",
   "execution_count": 20,
   "id": "db2a5aa1",
   "metadata": {},
   "outputs": [
    {
     "name": "stdout",
     "output_type": "stream",
     "text": [
      "The frozen set is : frozenset({'e', 'i', 'a', 'u', 'o'})\n"
     ]
    },
    {
     "ename": "AttributeError",
     "evalue": "'frozenset' object has no attribute 'add'",
     "output_type": "error",
     "traceback": [
      "\u001b[1;31m---------------------------------------------------------------------------\u001b[0m",
      "\u001b[1;31mAttributeError\u001b[0m                            Traceback (most recent call last)",
      "Cell \u001b[1;32mIn[20], line 6\u001b[0m\n\u001b[0;32m      4\u001b[0m \u001b[38;5;28mprint\u001b[39m(\u001b[38;5;124m\"\u001b[39m\u001b[38;5;124mThe frozen set is :\u001b[39m\u001b[38;5;124m\"\u001b[39m,fSet)\n\u001b[0;32m      5\u001b[0m \u001b[38;5;66;03m# frozen set are immutable\u001b[39;00m\n\u001b[1;32m----> 6\u001b[0m fSet\u001b[38;5;241m.\u001b[39madd(\u001b[38;5;124m'\u001b[39m\u001b[38;5;124mv\u001b[39m\u001b[38;5;124m'\u001b[39m)\n",
      "\u001b[1;31mAttributeError\u001b[0m: 'frozenset' object has no attribute 'add'"
     ]
    }
   ],
   "source": [
    "# Set of vowels\n",
    "vowels = {'a','e','i','o','u'}\n",
    "fSet = frozenset(vowels)\n",
    "print(\"The frozen set is :\",fSet)\n",
    "# frozen set are immutable\n",
    "fSet.add('v')\n"
   ]
  },
  {
   "cell_type": "code",
   "execution_count": null,
   "id": "0b271dc0",
   "metadata": {},
   "outputs": [],
   "source": []
  }
 ],
 "metadata": {
  "kernelspec": {
   "display_name": "Python 3 (ipykernel)",
   "language": "python",
   "name": "python3"
  },
  "language_info": {
   "codemirror_mode": {
    "name": "ipython",
    "version": 3
   },
   "file_extension": ".py",
   "mimetype": "text/x-python",
   "name": "python",
   "nbconvert_exporter": "python",
   "pygments_lexer": "ipython3",
   "version": "3.11.4"
  }
 },
 "nbformat": 4,
 "nbformat_minor": 5
}
