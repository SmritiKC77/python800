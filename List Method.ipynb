{
 "cells": [
  {
   "cell_type": "markdown",
   "id": "2c6d582b",
   "metadata": {},
   "source": [
    "# List is a mutable data type"
   ]
  },
  {
   "cell_type": "code",
   "execution_count": 1,
   "id": "8533cea1",
   "metadata": {},
   "outputs": [
    {
     "data": {
      "text/plain": [
       "'mango'"
      ]
     },
     "execution_count": 1,
     "metadata": {},
     "output_type": "execute_result"
    }
   ],
   "source": [
    "fruits = ['apple','banana','mango','orange','pear']\n",
    "fruits[2]"
   ]
  },
  {
   "cell_type": "code",
   "execution_count": 2,
   "id": "10bdb368",
   "metadata": {},
   "outputs": [
    {
     "data": {
      "text/plain": [
       "['apple', 'banana', 'mango', 'orange', 'pear']"
      ]
     },
     "execution_count": 2,
     "metadata": {},
     "output_type": "execute_result"
    }
   ],
   "source": [
    "fruits"
   ]
  },
  {
   "cell_type": "code",
   "execution_count": 3,
   "id": "f80fd93c",
   "metadata": {},
   "outputs": [
    {
     "data": {
      "text/plain": [
       "['apple', 'banana', 'kiwi', 'orange', 'pear']"
      ]
     },
     "execution_count": 3,
     "metadata": {},
     "output_type": "execute_result"
    }
   ],
   "source": [
    "fruits[2]='kiwi'\n",
    "fruits"
   ]
  },
  {
   "cell_type": "code",
   "execution_count": 5,
   "id": "d26224ad",
   "metadata": {},
   "outputs": [
    {
     "data": {
      "text/plain": [
       "['apple', 'blackcurranrt', 'watermelon', 'orange', 'pear']"
      ]
     },
     "execution_count": 5,
     "metadata": {},
     "output_type": "execute_result"
    }
   ],
   "source": [
    "fruits = ['apple','banana','mango','orange','pear']\n",
    "fruits [1:3] = ['blackcurranrt','watermelon']\n",
    "fruits"
   ]
  },
  {
   "cell_type": "markdown",
   "id": "c79c4327",
   "metadata": {},
   "source": [
    "# Methods"
   ]
  },
  {
   "cell_type": "markdown",
   "id": "3152c8f8",
   "metadata": {},
   "source": [
    "# insert()"
   ]
  },
  {
   "cell_type": "code",
   "execution_count": 6,
   "id": "ec0c8ce1",
   "metadata": {},
   "outputs": [
    {
     "data": {
      "text/plain": [
       "['Mercedes', 'BMW', 'Tesla', 'Ferrari']"
      ]
     },
     "execution_count": 6,
     "metadata": {},
     "output_type": "execute_result"
    }
   ],
   "source": [
    "cars = ['Mercedes','BMW','Tesla','Ferrari']\n",
    "cars"
   ]
  },
  {
   "cell_type": "code",
   "execution_count": 7,
   "id": "58edd819",
   "metadata": {},
   "outputs": [
    {
     "data": {
      "text/plain": [
       "['Mercedes', 'BMW', 'Tesla', 'Thar', 'Ferrari']"
      ]
     },
     "execution_count": 7,
     "metadata": {},
     "output_type": "execute_result"
    }
   ],
   "source": [
    "cars.insert(3,'Thar') # ferrari ek index paxi janxa\n",
    "cars"
   ]
  },
  {
   "cell_type": "markdown",
   "id": "a0203868",
   "metadata": {},
   "source": [
    "#.remove()\n"
   ]
  },
  {
   "cell_type": "code",
   "execution_count": 10,
   "id": "b7f2dce4",
   "metadata": {},
   "outputs": [
    {
     "data": {
      "text/plain": [
       "['Mercedes', 'BMW', 'Ferrari', 'Tesla']"
      ]
     },
     "execution_count": 10,
     "metadata": {},
     "output_type": "execute_result"
    }
   ],
   "source": [
    "cars = ['Mercedes','BMW','Tesla','Ferrari','Tesla']\n",
    "cars.remove(\"Tesla\") # removes only first occurance if duplicate\n",
    "cars"
   ]
  },
  {
   "cell_type": "markdown",
   "id": "598d39c1",
   "metadata": {},
   "source": [
    "# .extend()"
   ]
  },
  {
   "cell_type": "code",
   "execution_count": 11,
   "id": "8ecfb1ec",
   "metadata": {},
   "outputs": [
    {
     "data": {
      "text/plain": [
       "[2, 4, 6, 1, 3, 5, 7]"
      ]
     },
     "execution_count": 11,
     "metadata": {},
     "output_type": "execute_result"
    }
   ],
   "source": [
    "l1 = [2,4,6]\n",
    "l2 = [1,3,5,7]\n",
    "l1 + l2 # '+' concatenates the list"
   ]
  },
  {
   "cell_type": "code",
   "execution_count": 12,
   "id": "64e6775b",
   "metadata": {},
   "outputs": [
    {
     "data": {
      "text/plain": [
       "[2, 4, 6, 1, 3, 5, 7]"
      ]
     },
     "execution_count": 12,
     "metadata": {},
     "output_type": "execute_result"
    }
   ],
   "source": [
    "l1 = [2,4,6]\n",
    "l2 = [1,3,5,7]\n",
    "l1.extend(l2) # list ma variable assign garna pardaina list is mutable  . extend garyo vani first ra send concat hunxa\n",
    "l1"
   ]
  },
  {
   "cell_type": "code",
   "execution_count": 13,
   "id": "621ce0ec",
   "metadata": {},
   "outputs": [
    {
     "data": {
      "text/plain": [
       "[1, 3, 5, 7]"
      ]
     },
     "execution_count": 13,
     "metadata": {},
     "output_type": "execute_result"
    }
   ],
   "source": [
    "l2"
   ]
  },
  {
   "cell_type": "markdown",
   "id": "922335ca",
   "metadata": {},
   "source": [
    "# Sorting"
   ]
  },
  {
   "cell_type": "code",
   "execution_count": 14,
   "id": "81d9e51a",
   "metadata": {},
   "outputs": [
    {
     "name": "stdout",
     "output_type": "stream",
     "text": [
      "[-6, -5, -2, 0, 1, 2, 3]\n"
     ]
    }
   ],
   "source": [
    "l1 = [ 3,0,-6,-2,-5,2,1]\n",
    "l1.sort() # by default ascending ma hunxa\n",
    "print(l1)"
   ]
  },
  {
   "cell_type": "code",
   "execution_count": 15,
   "id": "4ccba9f8",
   "metadata": {},
   "outputs": [
    {
     "name": "stdout",
     "output_type": "stream",
     "text": [
      "[3, 2, 1, 0, -2, -5, -6]\n"
     ]
    }
   ],
   "source": [
    "l1 = [ 3,0,-6,-2,-5,2,1]\n",
    "l1.sort(reverse = True)  # descending; also updates list\n",
    "print(l1)"
   ]
  },
  {
   "cell_type": "code",
   "execution_count": 18,
   "id": "09f723d5",
   "metadata": {},
   "outputs": [
    {
     "name": "stdout",
     "output_type": "stream",
     "text": [
      "None\n"
     ]
    }
   ],
   "source": [
    "l1 = [ 3,0,-6,-2,-5,2,1]\n",
    "l1 = l1.sort() \n",
    "print(l1) # list method apply garda variable assign garna hudaina kina? List is a mutable, method returns none."
   ]
  },
  {
   "cell_type": "code",
   "execution_count": 19,
   "id": "e7f5cb74",
   "metadata": {},
   "outputs": [
    {
     "data": {
      "text/plain": [
       "[3, 2, 1, 0, -2, -5, -6]"
      ]
     },
     "execution_count": 19,
     "metadata": {},
     "output_type": "execute_result"
    }
   ],
   "source": [
    "l1 = [ 3,0,-6,-2,-5,2,1]\n",
    "sorted_data = sorted(l1, reverse = True) # sorted is a built- in-storing function of python\n",
    "sorted_data"
   ]
  },
  {
   "cell_type": "markdown",
   "id": "8692de69",
   "metadata": {},
   "source": [
    "# .append()"
   ]
  },
  {
   "cell_type": "code",
   "execution_count": 25,
   "id": "9bbb8525",
   "metadata": {},
   "outputs": [
    {
     "data": {
      "text/plain": [
       "[]"
      ]
     },
     "execution_count": 25,
     "metadata": {},
     "output_type": "execute_result"
    }
   ],
   "source": [
    "# create empty list\n",
    "name = []\n",
    "name"
   ]
  },
  {
   "cell_type": "code",
   "execution_count": 24,
   "id": "3a7185e0",
   "metadata": {},
   "outputs": [
    {
     "data": {
      "text/plain": [
       "['Smriti']"
      ]
     },
     "execution_count": 24,
     "metadata": {},
     "output_type": "execute_result"
    }
   ],
   "source": [
    "\n",
    "name.append('Smriti')\n",
    "name\n"
   ]
  },
  {
   "cell_type": "code",
   "execution_count": 27,
   "id": "9243847d",
   "metadata": {},
   "outputs": [
    {
     "data": {
      "text/plain": [
       "['Jenu', 'Jenu']"
      ]
     },
     "execution_count": 27,
     "metadata": {},
     "output_type": "execute_result"
    }
   ],
   "source": [
    "name.append(\"Jenu\")\n",
    "name"
   ]
  },
  {
   "cell_type": "code",
   "execution_count": 28,
   "id": "9a461687",
   "metadata": {},
   "outputs": [
    {
     "data": {
      "text/plain": [
       "['Jenu', 'Jenu', 'Iliya']"
      ]
     },
     "execution_count": 28,
     "metadata": {},
     "output_type": "execute_result"
    }
   ],
   "source": [
    "name.append('Iliya')\n",
    "name"
   ]
  },
  {
   "cell_type": "code",
   "execution_count": 31,
   "id": "1a2b2b08",
   "metadata": {},
   "outputs": [
    {
     "name": "stdout",
     "output_type": "stream",
     "text": [
      "[]\n",
      "[4]\n",
      "[4, 9]\n",
      "[4, 9, 25]\n",
      "[4, 9, 25, 64]\n"
     ]
    },
    {
     "data": {
      "text/plain": [
       "[4, 9, 25, 64, 81]"
      ]
     },
     "execution_count": 31,
     "metadata": {},
     "output_type": "execute_result"
    }
   ],
   "source": [
    "l1 = [2,3,5,8,9]\n",
    "sq = []\n",
    "for item in l1:\n",
    "    print(sq)\n",
    "    sq.append(item **2)\n",
    "sq\n",
    "    "
   ]
  },
  {
   "cell_type": "code",
   "execution_count": 30,
   "id": "fef1efe1",
   "metadata": {},
   "outputs": [
    {
     "data": {
      "text/plain": [
       "[8, 27, 125, 512, 729]"
      ]
     },
     "execution_count": 30,
     "metadata": {},
     "output_type": "execute_result"
    }
   ],
   "source": [
    "l1 = [2,3,5,8,9]\n",
    "cube = []\n",
    "for item in l1:\n",
    "    cube.append(item**3)\n",
    "cube"
   ]
  },
  {
   "cell_type": "code",
   "execution_count": 32,
   "id": "320c35fa",
   "metadata": {},
   "outputs": [
    {
     "data": {
      "text/plain": [
       "[2, 3, 5, 8]"
      ]
     },
     "execution_count": 32,
     "metadata": {},
     "output_type": "execute_result"
    }
   ],
   "source": [
    "l1 = [2,3,5,8,9]\n",
    "l1.pop()\n",
    "l1"
   ]
  },
  {
   "cell_type": "code",
   "execution_count": 34,
   "id": "5aa99eb7",
   "metadata": {},
   "outputs": [
    {
     "data": {
      "text/plain": [
       "[3, 0, -2, -5, 2, 1]"
      ]
     },
     "execution_count": 34,
     "metadata": {},
     "output_type": "execute_result"
    }
   ],
   "source": [
    "# We can define index to remove items using pop.\n",
    "l1 = [ 3,0,-6,-2,-5,2,1]\n",
    "l1.pop(2)\n",
    "l1"
   ]
  },
  {
   "cell_type": "markdown",
   "id": "b47d1224",
   "metadata": {},
   "source": [
    "# Using python list as stack and queue.\n",
    "stack:\n",
    "* LIFO\n",
    "* push method : .append() push item in stack\n",
    "* pop method:  .pop() pops out last item in stack.\n",
    "\n",
    "Queue:\n",
    "* FIFO\n",
    "* enqueue :adds item to the queue\n",
    "* dequeue : removes item of the queue\n",
    "        "
   ]
  },
  {
   "cell_type": "code",
   "execution_count": 35,
   "id": "d48f7604",
   "metadata": {},
   "outputs": [
    {
     "data": {
      "text/plain": [
       "[3, 4]"
      ]
     },
     "execution_count": 35,
     "metadata": {},
     "output_type": "execute_result"
    }
   ],
   "source": [
    "# stack\n",
    "stack = [3, 4, 5]\n",
    "stack.append(6)\n",
    "stack.append(7)\n",
    "stack\n",
    "\n",
    "stack.pop()\n",
    "\n",
    "stack\n",
    "\n",
    "stack.pop()\n",
    "\n",
    "stack\n"
   ]
  },
  {
   "cell_type": "markdown",
   "id": "a5a805e5",
   "metadata": {},
   "source": [
    "[List Mehods and List as stack and queue](https://docs.python.org/3/tutorial/datastructures.html)"
   ]
  },
  {
   "cell_type": "code",
   "execution_count": null,
   "id": "319a70d3",
   "metadata": {},
   "outputs": [],
   "source": []
  }
 ],
 "metadata": {
  "kernelspec": {
   "display_name": "Python 3 (ipykernel)",
   "language": "python",
   "name": "python3"
  },
  "language_info": {
   "codemirror_mode": {
    "name": "ipython",
    "version": 3
   },
   "file_extension": ".py",
   "mimetype": "text/x-python",
   "name": "python",
   "nbconvert_exporter": "python",
   "pygments_lexer": "ipython3",
   "version": "3.11.4"
  }
 },
 "nbformat": 4,
 "nbformat_minor": 5
}
