{
 "cells": [
  {
   "cell_type": "markdown",
   "id": "e72149ea",
   "metadata": {},
   "source": [
    "#Reusability ko lagi function"
   ]
  },
  {
   "cell_type": "code",
   "execution_count": 13,
   "id": "e84e510a",
   "metadata": {},
   "outputs": [
    {
     "data": {
      "text/plain": [
       "30"
      ]
     },
     "execution_count": 13,
     "metadata": {},
     "output_type": "execute_result"
    }
   ],
   "source": [
    "a = 5\n",
    "b = 6\n",
    "prod = a*b\n",
    "prod"
   ]
  },
  {
   "cell_type": "markdown",
   "id": "e858a5bd",
   "metadata": {},
   "source": [
    "# Syntax\n",
    "```python\n",
    "\n",
    "def function_name(arguments):\n",
    "    # function suit/code\n",
    "    return Expression\n",
    "\n",
    "```"
   ]
  },
  {
   "cell_type": "code",
   "execution_count": 16,
   "id": "363f72bb",
   "metadata": {},
   "outputs": [],
   "source": [
    "def multiply():\n",
    "    a = 5\n",
    "    b = 6\n",
    "    prod = a*b\n",
    "    print(prod)"
   ]
  },
  {
   "cell_type": "code",
   "execution_count": 15,
   "id": "cd427a2b",
   "metadata": {},
   "outputs": [],
   "source": [
    "multiply()"
   ]
  },
  {
   "cell_type": "markdown",
   "id": "9907000c",
   "metadata": {},
   "source": [
    "# Passing a,b as an argument"
   ]
  },
  {
   "cell_type": "code",
   "execution_count": 17,
   "id": "439df376",
   "metadata": {},
   "outputs": [],
   "source": [
    "def multiply (a,b):\n",
    "    prod = a*b\n",
    "    print(prod)"
   ]
  },
  {
   "cell_type": "code",
   "execution_count": 18,
   "id": "9d5ff625",
   "metadata": {},
   "outputs": [
    {
     "ename": "TypeError",
     "evalue": "multiply() missing 2 required positional arguments: 'a' and 'b'",
     "output_type": "error",
     "traceback": [
      "\u001b[1;31m---------------------------------------------------------------------------\u001b[0m",
      "\u001b[1;31mTypeError\u001b[0m                                 Traceback (most recent call last)",
      "Cell \u001b[1;32mIn[18], line 1\u001b[0m\n\u001b[1;32m----> 1\u001b[0m multiply()\n",
      "\u001b[1;31mTypeError\u001b[0m: multiply() missing 2 required positional arguments: 'a' and 'b'"
     ]
    }
   ],
   "source": [
    "multiply()\n"
   ]
  },
  {
   "cell_type": "code",
   "execution_count": 19,
   "id": "278486f0",
   "metadata": {},
   "outputs": [
    {
     "name": "stdout",
     "output_type": "stream",
     "text": [
      "27\n"
     ]
    }
   ],
   "source": [
    "a = 9\n",
    "b = 3\n",
    "multiply(a = a,b=b)"
   ]
  },
  {
   "cell_type": "code",
   "execution_count": 20,
   "id": "1c766127",
   "metadata": {},
   "outputs": [
    {
     "name": "stdout",
     "output_type": "stream",
     "text": [
      "54\n"
     ]
    }
   ],
   "source": [
    "x = 9\n",
    "y = 6\n",
    "output = multiply(a = x, b=y)"
   ]
  },
  {
   "cell_type": "code",
   "execution_count": 21,
   "id": "39d18943",
   "metadata": {},
   "outputs": [
    {
     "ename": "NameError",
     "evalue": "name 'output' is not defined",
     "output_type": "error",
     "traceback": [
      "\u001b[1;31m---------------------------------------------------------------------------\u001b[0m",
      "\u001b[1;31mNameError\u001b[0m                                 Traceback (most recent call last)",
      "Cell \u001b[1;32mIn[21], line 1\u001b[0m\n\u001b[1;32m----> 1\u001b[0m \u001b[38;5;28mprint\u001b[39m(output)\n",
      "\u001b[1;31mNameError\u001b[0m: name 'output' is not defined"
     ]
    }
   ],
   "source": [
    "print(output)"
   ]
  },
  {
   "cell_type": "code",
   "execution_count": null,
   "id": "69dbb85f",
   "metadata": {},
   "outputs": [],
   "source": [
    "def multiply(a,b): # a, b are arguments or parameters\n",
    "    prod = a*b\n",
    "    return prod\n"
   ]
  },
  {
   "cell_type": "code",
   "execution_count": 22,
   "id": "e1e9dc27",
   "metadata": {},
   "outputs": [
    {
     "name": "stdout",
     "output_type": "stream",
     "text": [
      "24\n",
      "None\n"
     ]
    }
   ],
   "source": [
    "x = 8\n",
    "y = 3\n",
    "output = multiply(a = x, b=y)\n",
    "print(output)"
   ]
  },
  {
   "cell_type": "code",
   "execution_count": 3,
   "id": "1dd19e93",
   "metadata": {},
   "outputs": [
    {
     "ename": "NameError",
     "evalue": "name 'multiply' is not defined",
     "output_type": "error",
     "traceback": [
      "\u001b[1;31m---------------------------------------------------------------------------\u001b[0m",
      "\u001b[1;31mNameError\u001b[0m                                 Traceback (most recent call last)",
      "Cell \u001b[1;32mIn[3], line 3\u001b[0m\n\u001b[0;32m      1\u001b[0m x \u001b[38;5;241m=\u001b[39m \u001b[38;5;241m8\u001b[39m\n\u001b[0;32m      2\u001b[0m y \u001b[38;5;241m=\u001b[39m \u001b[38;5;241m3\u001b[39m\n\u001b[1;32m----> 3\u001b[0m output \u001b[38;5;241m=\u001b[39m multiply(a \u001b[38;5;241m=\u001b[39m x, b\u001b[38;5;241m=\u001b[39my)\n\u001b[0;32m      4\u001b[0m output \u001b[38;5;241m=\u001b[39m output \u001b[38;5;241m+\u001b[39m \u001b[38;5;241m3\u001b[39m\n\u001b[0;32m      5\u001b[0m \u001b[38;5;28mprint\u001b[39m(output)\n",
      "\u001b[1;31mNameError\u001b[0m: name 'multiply' is not defined"
     ]
    }
   ],
   "source": [
    "output + 3\n"
   ]
  },
  {
   "cell_type": "code",
   "execution_count": 4,
   "id": "0e6f10d5",
   "metadata": {},
   "outputs": [],
   "source": [
    "# Calculate the volume of sphere\n",
    "\n",
    "import math\n",
    "def volume(radius):\n",
    "    volume = 4/3*math.pi*radius**3\n",
    "    return volume\n"
   ]
  },
  {
   "cell_type": "code",
   "execution_count": 29,
   "id": "14b6d7cb",
   "metadata": {},
   "outputs": [
    {
     "name": "stdout",
     "output_type": "stream",
     "text": [
      "Enter the radius:5\n",
      "523.5987755982989\n"
     ]
    }
   ],
   "source": [
    "radius = int(input(\"Enter the radius:\"))\n",
    "volume = volume(radius = radius)\n",
    "print(volume)"
   ]
  },
  {
   "cell_type": "code",
   "execution_count": 35,
   "id": "256aed79",
   "metadata": {},
   "outputs": [],
   "source": [
    "\n",
    "def even_or_odd (num):\n",
    "    if num % 2 == 0:\n",
    "        return \"even\"\n",
    "    else:\n",
    "        return \"odd\"\n",
    "\n"
   ]
  },
  {
   "cell_type": "code",
   "execution_count": 36,
   "id": "1af68bf4",
   "metadata": {},
   "outputs": [
    {
     "data": {
      "text/plain": [
       "'odd'"
      ]
     },
     "execution_count": 36,
     "metadata": {},
     "output_type": "execute_result"
    }
   ],
   "source": [
    "even_or_odd(55)"
   ]
  },
  {
   "cell_type": "code",
   "execution_count": null,
   "id": "61d40260",
   "metadata": {},
   "outputs": [],
   "source": [
    "\n",
    "0! = 1\n",
    "1! = 1\n",
    "2! = 2\n",
    "3! = 3*2 = 6\n"
   ]
  },
  {
   "cell_type": "code",
   "execution_count": 38,
   "id": "b0cf6ba5",
   "metadata": {},
   "outputs": [],
   "source": [
    "# Find Factorial\n",
    "def factorial(num):\n",
    "    fact = 1\n",
    "    if num<0:\n",
    "        return None\n",
    "    elif num == 0:\n",
    "        return 1\n",
    "    else:\n",
    "        for i in range(1,num +1): # 6 diyo vani 5 samma matra chalxa, last ko value lidaina teivara +1 garna parya\n",
    "            fact = fact * i\n",
    "        return fact\n",
    "    \n",
    "    \n",
    "        \n",
    "        \n",
    "    \n",
    "    "
   ]
  },
  {
   "cell_type": "code",
   "execution_count": 39,
   "id": "0c48e553",
   "metadata": {},
   "outputs": [
    {
     "data": {
      "text/plain": [
       "720"
      ]
     },
     "execution_count": 39,
     "metadata": {},
     "output_type": "execute_result"
    }
   ],
   "source": [
    "factorial (num= 6)"
   ]
  },
  {
   "cell_type": "markdown",
   "id": "77031705",
   "metadata": {},
   "source": [
    "# 1.  Check whether the given input  is prime or not. If prime return true else return false."
   ]
  },
  {
   "cell_type": "code",
   "execution_count": 10,
   "id": "b0efb06b",
   "metadata": {},
   "outputs": [],
   "source": [
    "def prime_or_not(num):\n",
    "     for i in range(2, int(num/2)+1):\n",
    "        if (num % i) == 0:\n",
    "          print(\"False\")\n",
    "        else:\n",
    "            print(\"True\")"
   ]
  },
  {
   "cell_type": "code",
   "execution_count": null,
   "id": "4bacbf23",
   "metadata": {},
   "outputs": [],
   "source": []
  },
  {
   "cell_type": "code",
   "execution_count": null,
   "id": "85b57449",
   "metadata": {},
   "outputs": [],
   "source": []
  },
  {
   "cell_type": "code",
   "execution_count": 32,
   "id": "e5ce5f48",
   "metadata": {},
   "outputs": [],
   "source": [
    "def prime_or_not(input_num):\n",
    "    if input_num<2:\n",
    "        return None\n",
    "    for number in range(2,input_num):\n",
    "        if input_num % num ==0:\n",
    "            return False\n",
    "        else:\n",
    "            return True\n"
   ]
  },
  {
   "cell_type": "code",
   "execution_count": 38,
   "id": "e6a66d46",
   "metadata": {},
   "outputs": [],
   "source": [
    "prime_or_not(2)"
   ]
  },
  {
   "cell_type": "code",
   "execution_count": 21,
   "id": "3626a0cc",
   "metadata": {},
   "outputs": [],
   "source": []
  },
  {
   "cell_type": "markdown",
   "id": "1b6d916f",
   "metadata": {},
   "source": [
    "# 2. Write a python program that takes a list and returns a new list with the unique elements of first list."
   ]
  },
  {
   "cell_type": "code",
   "execution_count": 28,
   "id": "39674675",
   "metadata": {},
   "outputs": [],
   "source": [
    "def unique_list(numbers):\n",
    "    unique = []\n",
    "    for item in numbers :\n",
    "        if item in unique == False:\n",
    "            unique.append(item)\n",
    "    return unique "
   ]
  },
  {
   "cell_type": "code",
   "execution_count": 29,
   "id": "4fcfc4a7",
   "metadata": {},
   "outputs": [
    {
     "name": "stdout",
     "output_type": "stream",
     "text": [
      "Unique elements: []\n"
     ]
    }
   ],
   "source": [
    "numbers = [1, 2, 2, 3, 4, 4, 5]\n",
    "result = unique_list(numbers)\n",
    "print(\"Unique elements:\", result)\n"
   ]
  },
  {
   "cell_type": "markdown",
   "id": "9c604bd3",
   "metadata": {},
   "source": [
    "# 3. Write a python function that accepts a string and calculate the number of upper case and lower case letters."
   ]
  },
  {
   "cell_type": "code",
   "execution_count": 28,
   "id": "13e7e1d6",
   "metadata": {},
   "outputs": [
    {
     "data": {
      "text/plain": [
       "(True, False)"
      ]
     },
     "execution_count": 28,
     "metadata": {},
     "output_type": "execute_result"
    }
   ],
   "source": [
    "s = 'NePal'\n",
    "'N'.isupper(),'N'.islower()"
   ]
  },
  {
   "cell_type": "code",
   "execution_count": 30,
   "id": "cf7f3620",
   "metadata": {},
   "outputs": [
    {
     "ename": "NameError",
     "evalue": "name 'character' is not defined",
     "output_type": "error",
     "traceback": [
      "\u001b[1;31m---------------------------------------------------------------------------\u001b[0m",
      "\u001b[1;31mNameError\u001b[0m                                 Traceback (most recent call last)",
      "Cell \u001b[1;32mIn[30], line 4\u001b[0m\n\u001b[0;32m      2\u001b[0m upper \u001b[38;5;241m=\u001b[39m \u001b[38;5;241m0\u001b[39m\n\u001b[0;32m      3\u001b[0m \u001b[38;5;28;01mfor\u001b[39;00m charcter \u001b[38;5;129;01min\u001b[39;00m s:\n\u001b[1;32m----> 4\u001b[0m     \u001b[38;5;28;01mif\u001b[39;00m character\u001b[38;5;241m.\u001b[39misupper():\n\u001b[0;32m      5\u001b[0m         upper \u001b[38;5;241m=\u001b[39m upper\u001b[38;5;241m+\u001b[39m\u001b[38;5;241m1\u001b[39m\n\u001b[0;32m      6\u001b[0m     \u001b[38;5;28;01melif\u001b[39;00m charcter\u001b[38;5;241m.\u001b[39mislower():\n",
      "\u001b[1;31mNameError\u001b[0m: name 'character' is not defined"
     ]
    }
   ],
   "source": [
    "lower= 0\n",
    "upper = 0\n",
    "for charcter in s:\n",
    "    if character.isupper():\n",
    "        upper = upper+1\n",
    "    elif charcter.islower():\n",
    "        lower = lower +1\n",
    "        "
   ]
  },
  {
   "cell_type": "code",
   "execution_count": 1,
   "id": "9697a2cf",
   "metadata": {},
   "outputs": [
    {
     "name": "stdout",
     "output_type": "stream",
     "text": [
      "Enter the string:Smriti\n",
      "Uppercase letters: 1\n",
      "Lowercase letters: 5\n"
     ]
    }
   ],
   "source": [
    "def count_upper_lower_letters(input_string):\n",
    "    upper_count = 0\n",
    "    lower_count = 0\n",
    "    for char in input_string:\n",
    "        if char.isupper():  # Check if the character is an uppercase letter\n",
    "            upper_count =upper_count+ 1\n",
    "        elif char.islower():\n",
    "            lower_count =lower_count+ 1\n",
    "    return upper_count, lower_count\n",
    "\n",
    "input_str = input(\"Enter the string:\")\n",
    "upper, lower = count_upper_lower_letters(input_str)\n",
    "print(\"Uppercase letters:\", upper)\n",
    "print(\"Lowercase letters:\", lower)\n"
   ]
  },
  {
   "cell_type": "markdown",
   "id": "172812cb",
   "metadata": {},
   "source": [
    "# 4.Write a python program that accepts a hyphen-separated sequence of words as input and prints the words in a hyphen-separated sequence after sorting them alphabetically."
   ]
  },
  {
   "cell_type": "code",
   "execution_count": 4,
   "id": "5070038a",
   "metadata": {},
   "outputs": [
    {
     "name": "stdout",
     "output_type": "stream",
     "text": [
      "Enter the input sequence:hi-smriti-how-are-you\n",
      "are-hi-how-smriti-you\n"
     ]
    }
   ],
   "source": [
    "def sort_words(input_str):\n",
    "    words = input_str.split('-')\n",
    "    sorted_words = sorted(words)\n",
    "    sorted_sequence = '-'.join(sorted_words)\n",
    "    print(sorted_sequence)\n",
    "input_sequence = input(\"Enter the input sequence:\")\n",
    "sort_words(input_sequence)\n"
   ]
  },
  {
   "cell_type": "code",
   "execution_count": 34,
   "id": "169731cf",
   "metadata": {},
   "outputs": [
    {
     "data": {
      "text/plain": [
       "['green', 'red', 'yellow', 'black', 'white']"
      ]
     },
     "execution_count": 34,
     "metadata": {},
     "output_type": "execute_result"
    }
   ],
   "source": [
    "color = 'green-red-yellow-black-white'\n",
    "words = color.split(\"-\")\n",
    "words"
   ]
  },
  {
   "cell_type": "code",
   "execution_count": 35,
   "id": "d9d84d52",
   "metadata": {},
   "outputs": [
    {
     "data": {
      "text/plain": [
       "['black', 'green', 'red', 'white', 'yellow']"
      ]
     },
     "execution_count": 35,
     "metadata": {},
     "output_type": "execute_result"
    }
   ],
   "source": [
    "sorted_words = sorted(words)\n",
    "sorted_words"
   ]
  },
  {
   "cell_type": "code",
   "execution_count": 36,
   "id": "9c6d677a",
   "metadata": {},
   "outputs": [
    {
     "data": {
      "text/plain": [
       "'black-green-red-white-yellow'"
      ]
     },
     "execution_count": 36,
     "metadata": {},
     "output_type": "execute_result"
    }
   ],
   "source": [
    "\"-\".join(sorted_words)"
   ]
  },
  {
   "cell_type": "code",
   "execution_count": null,
   "id": "f103fbe4",
   "metadata": {},
   "outputs": [],
   "source": []
  }
 ],
 "metadata": {
  "kernelspec": {
   "display_name": "Python 3 (ipykernel)",
   "language": "python",
   "name": "python3"
  },
  "language_info": {
   "codemirror_mode": {
    "name": "ipython",
    "version": 3
   },
   "file_extension": ".py",
   "mimetype": "text/x-python",
   "name": "python",
   "nbconvert_exporter": "python",
   "pygments_lexer": "ipython3",
   "version": "3.11.4"
  }
 },
 "nbformat": 4,
 "nbformat_minor": 5
}
