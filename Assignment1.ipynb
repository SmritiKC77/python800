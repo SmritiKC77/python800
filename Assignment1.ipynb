{
 "cells": [
  {
   "cell_type": "markdown",
   "id": "9ddb0a39",
   "metadata": {},
   "source": [
    "# 1. Write a python program that asks a user to enter a string and print the string in a reverse order."
   ]
  },
  {
   "cell_type": "code",
   "execution_count": 2,
   "id": "b951a8e4",
   "metadata": {},
   "outputs": [
    {
     "name": "stdout",
     "output_type": "stream",
     "text": [
      "Enter a string: smriti\n",
      "Reversed string: itirms\n"
     ]
    }
   ],
   "source": [
    "input_string = input(\"Enter a string: \")\n",
    "reversed_string = input_string[::-1] #The first colon : indicates the start of the slicing.The -1 specifies the step size, which is -1. \n",
    "print(\"Reversed string:\", reversed_string)\n"
   ]
  },
  {
   "cell_type": "markdown",
   "id": "a6face7c",
   "metadata": {},
   "source": [
    "# 2. Write a python program that asks a user to enter a string and prints the number of vowels in the string."
   ]
  },
  {
   "cell_type": "code",
   "execution_count": 3,
   "id": "8effcc04",
   "metadata": {},
   "outputs": [
    {
     "name": "stdout",
     "output_type": "stream",
     "text": [
      "Enter the string:helloworld\n",
      "No of vowel 3\n",
      "No of consonant 7\n"
     ]
    }
   ],
   "source": [
    "s = input(\"Enter the string:\")\n",
    "vowel = 0 # index 0\n",
    "consonant = 0\n",
    "vowel_letters = \"aeiou\"\n",
    "for index in range(len(s)):\n",
    "    char = s[index]\n",
    "    if char in vowel_letters:\n",
    "        vowel = vowel+1\n",
    "    else:\n",
    "        consonant = consonant + 1\n",
    "print(f\"No of vowel {vowel}\")\n",
    "print(f\"No of consonant {consonant}\")"
   ]
  },
  {
   "cell_type": "markdown",
   "id": "5fc9c2f0",
   "metadata": {},
   "source": [
    "# 3. Write a python program that asks a user to enter a sentence and prints the sentence with each word capitalized."
   ]
  },
  {
   "cell_type": "code",
   "execution_count": 5,
   "id": "0193014e",
   "metadata": {},
   "outputs": [
    {
     "name": "stdout",
     "output_type": "stream",
     "text": [
      "Enter a sentence:i love watching football\n"
     ]
    },
    {
     "data": {
      "text/plain": [
       "'I LOVE WATCHING FOOTBALL'"
      ]
     },
     "execution_count": 5,
     "metadata": {},
     "output_type": "execute_result"
    }
   ],
   "source": [
    "sentence = input(\"Enter a sentence:\")\n",
    "sentence.upper()"
   ]
  },
  {
   "cell_type": "markdown",
   "id": "221d23b3",
   "metadata": {},
   "source": [
    "# 4. Write a python program that asks a user to enter a string and prints thestring with all vowels replaced by character 'o'.\n"
   ]
  },
  {
   "cell_type": "code",
   "execution_count": null,
   "id": "0e1bd351",
   "metadata": {},
   "outputs": [],
   "source": []
  },
  {
   "cell_type": "code",
   "execution_count": 2,
   "id": "2d62e8f1",
   "metadata": {},
   "outputs": [
    {
     "name": "stdout",
     "output_type": "stream",
     "text": [
      "Enter a string:smriti\n",
      "Modified string: smroto\n"
     ]
    }
   ],
   "source": [
    "s = input(\"Enter a string:\")\n",
    "vowels = \"aeiou\"\n",
    "modified_string = s\n",
    "for vowel in vowels:\n",
    "    modified_string = modified_string.replace(vowel, 'o')\n",
    "print(\"Modified string:\", modified_string)\n",
    "   \n",
    "        "
   ]
  },
  {
   "cell_type": "code",
   "execution_count": 9,
   "id": "6e47add5",
   "metadata": {},
   "outputs": [
    {
     "name": "stdout",
     "output_type": "stream",
     "text": [
      "Enter a string:hi\n"
     ]
    },
    {
     "data": {
      "text/plain": [
       "'ho'"
      ]
     },
     "execution_count": 9,
     "metadata": {},
     "output_type": "execute_result"
    }
   ],
   "source": [
    "# Another method\n",
    "s = input(\"Enter a string:\")\n",
    "s = s.replace('a','o')\n",
    "s = s.replace('e','o')\n",
    "s = s.replace('i','o')\n",
    "s = s.replace('u','o')\n",
    "s"
   ]
  },
  {
   "cell_type": "markdown",
   "id": "e9a5e0ef",
   "metadata": {},
   "source": [
    "# 5. Write a python program that asks a user to enter two string and prints the  two strings concatenated together with a space between them.  "
   ]
  },
  {
   "cell_type": "code",
   "execution_count": 3,
   "id": "54706650",
   "metadata": {},
   "outputs": [
    {
     "name": "stdout",
     "output_type": "stream",
     "text": [
      "Enter first string:ram\n",
      "Entersecond string:ravan\n",
      "Concatenated string with space: ram ravan\n"
     ]
    }
   ],
   "source": [
    "s1 = input(\"Enter first string:\")\n",
    "s2 = input(\"Entersecond string:\")\n",
    "result = s1 + \" \" + s2\n",
    "print(\"Concatenated string with space:\", result)"
   ]
  },
  {
   "cell_type": "markdown",
   "id": "7c28b0c9",
   "metadata": {},
   "source": [
    "# 6. Write a python program that asks a user to enter a string and print the string with first and last character removed."
   ]
  },
  {
   "cell_type": "code",
   "execution_count": 4,
   "id": "99400f3a",
   "metadata": {},
   "outputs": [
    {
     "name": "stdout",
     "output_type": "stream",
     "text": [
      "Enter a string: python\n",
      "String with first and last characters removed: ytho\n"
     ]
    }
   ],
   "source": [
    "user_input = input(\"Enter a string: \")\n",
    "if len(user_input) >= 2:\n",
    "    modified_string = user_input[1:-1]\n",
    "    print(\"String with first and last characters removed:\", modified_string)\n",
    "else:\n",
    "    print(\"The input string is too short to remove the first and last characters.\")\n"
   ]
  },
  {
   "cell_type": "markdown",
   "id": "de580ddc",
   "metadata": {},
   "source": [
    "# 7. Write a python program that asks a user to enter a string and print the string with all the spaces removed."
   ]
  },
  {
   "cell_type": "code",
   "execution_count": 4,
   "id": "1238570b",
   "metadata": {},
   "outputs": [
    {
     "name": "stdout",
     "output_type": "stream",
     "text": [
      "Enter a string: hi bye\n",
      "String with spaces removed: hibye\n"
     ]
    }
   ],
   "source": [
    "user_input = input(\"Enter a string: \")\n",
    "modified_string = user_input.replace(\" \", \"\")\n",
    "print(\"String with spaces removed:\", modified_string)\n"
   ]
  },
  {
   "cell_type": "markdown",
   "id": "c7d34678",
   "metadata": {},
   "source": [
    "# 8. Suppose we have two strings\n",
    "# String1 = \"NEPALINDIACHINA\"\n",
    "# String2 = \"indiachinanepal\"\n",
    "# Suppose i have shifted string1 by 5 position right(circular) , I will get string2 . This phenomeon is called rotation of string. This means string2 is the rotation of string1.\n",
    "# Write a program to check if the string2 is the rotation of string1 or not."
   ]
  },
  {
   "cell_type": "code",
   "execution_count": 9,
   "id": "b925c352",
   "metadata": {},
   "outputs": [
    {
     "data": {
      "text/plain": [
       "'nepalindiachina'"
      ]
     },
     "execution_count": 9,
     "metadata": {},
     "output_type": "execute_result"
    }
   ],
   "source": [
    "String1 = \"NEPALINDIACHINA\"\n",
    "String1.lower()"
   ]
  },
  {
   "cell_type": "markdown",
   "id": "29d99a83",
   "metadata": {},
   "source": [
    "# 9. Using string manipulation technique extract fruits name from txt where \n",
    "# txt = \"I like orange apple banana and kiwi.\"\n"
   ]
  },
  {
   "cell_type": "code",
   "execution_count": 7,
   "id": "dcdecdd5",
   "metadata": {},
   "outputs": [
    {
     "data": {
      "text/plain": [
       "['orange', 'apple', 'banana', 'kiwi']"
      ]
     },
     "execution_count": 7,
     "metadata": {},
     "output_type": "execute_result"
    }
   ],
   "source": [
    "txt = \"I like orange apple banana and kiwi.\"\n",
    "txt = txt.lower()\n",
    "txt = txt.replace(\"i like\",\"\")\n",
    "txt\n",
    "txt = txt.replace(\"and\",\"\")\n",
    "txt = txt.replace('.','')\n",
    "txt.split()"
   ]
  },
  {
   "cell_type": "code",
   "execution_count": null,
   "id": "188ddce1",
   "metadata": {},
   "outputs": [],
   "source": []
  }
 ],
 "metadata": {
  "kernelspec": {
   "display_name": "Python 3 (ipykernel)",
   "language": "python",
   "name": "python3"
  },
  "language_info": {
   "codemirror_mode": {
    "name": "ipython",
    "version": 3
   },
   "file_extension": ".py",
   "mimetype": "text/x-python",
   "name": "python",
   "nbconvert_exporter": "python",
   "pygments_lexer": "ipython3",
   "version": "3.11.4"
  }
 },
 "nbformat": 4,
 "nbformat_minor": 5
}
