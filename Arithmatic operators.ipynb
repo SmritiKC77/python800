{
 "cells": [
  {
   "cell_type": "markdown",
   "id": "47abddfc",
   "metadata": {},
   "source": [
    "# Arithmatic operator"
   ]
  },
  {
   "cell_type": "markdown",
   "id": "d48d66e8",
   "metadata": {},
   "source": [
    "Arithmatic operators are used with numeric values to perform common mathematical operations:\n",
    "\n",
    "* Addition(+)\n",
    "* Subtraction(-)\n",
    "* Multiplication(*)\n",
    "* Division(/)\n",
    "* Modulus(%)\n",
    "* Exponentiation(**)\n",
    "* Floor division(//)"
   ]
  },
  {
   "cell_type": "code",
   "execution_count": 1,
   "id": "30fca4a4",
   "metadata": {},
   "outputs": [
    {
     "name": "stdout",
     "output_type": "stream",
     "text": [
      "3\n"
     ]
    }
   ],
   "source": [
    "a =19\n",
    "b=4\n",
    "print(a%b)"
   ]
  },
  {
   "cell_type": "code",
   "execution_count": 2,
   "id": "2f85784d",
   "metadata": {},
   "outputs": [
    {
     "data": {
      "text/plain": [
       "4"
      ]
     },
     "execution_count": 2,
     "metadata": {},
     "output_type": "execute_result"
    }
   ],
   "source": [
    "2**2\n"
   ]
  },
  {
   "cell_type": "code",
   "execution_count": 3,
   "id": "f4bd7c96",
   "metadata": {},
   "outputs": [
    {
     "data": {
      "text/plain": [
       "729"
      ]
     },
     "execution_count": 3,
     "metadata": {},
     "output_type": "execute_result"
    }
   ],
   "source": [
    "3**6 # 3 ko power 6 vanya ho\n"
   ]
  },
  {
   "cell_type": "code",
   "execution_count": 4,
   "id": "3a88a799",
   "metadata": {},
   "outputs": [
    {
     "data": {
      "text/plain": [
       "125"
      ]
     },
     "execution_count": 4,
     "metadata": {},
     "output_type": "execute_result"
    }
   ],
   "source": [
    "5**3"
   ]
  },
  {
   "cell_type": "code",
   "execution_count": 5,
   "id": "b0d22331",
   "metadata": {},
   "outputs": [
    {
     "data": {
      "text/plain": [
       "7"
      ]
     },
     "execution_count": 5,
     "metadata": {},
     "output_type": "execute_result"
    }
   ],
   "source": [
    "15//2"
   ]
  },
  {
   "cell_type": "code",
   "execution_count": null,
   "id": "578d0a6f",
   "metadata": {},
   "outputs": [],
   "source": []
  }
 ],
 "metadata": {
  "kernelspec": {
   "display_name": "Python 3 (ipykernel)",
   "language": "python",
   "name": "python3"
  },
  "language_info": {
   "codemirror_mode": {
    "name": "ipython",
    "version": 3
   },
   "file_extension": ".py",
   "mimetype": "text/x-python",
   "name": "python",
   "nbconvert_exporter": "python",
   "pygments_lexer": "ipython3",
   "version": "3.11.4"
  }
 },
 "nbformat": 4,
 "nbformat_minor": 5
}
