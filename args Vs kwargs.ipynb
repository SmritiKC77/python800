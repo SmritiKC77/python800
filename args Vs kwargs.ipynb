{
 "cells": [
  {
   "cell_type": "markdown",
   "id": "a9086c43",
   "metadata": {},
   "source": [
    "# USe \\*args and \\**kwargs for variable length in function"
   ]
  },
  {
   "cell_type": "markdown",
   "id": "45c827b2",
   "metadata": {},
   "source": [
    "## \\**args"
   ]
  },
  {
   "cell_type": "code",
   "execution_count": 2,
   "id": "fabb6979",
   "metadata": {},
   "outputs": [],
   "source": [
    "def total(*args):\n",
    "    print(type(args),args)\n"
   ]
  },
  {
   "cell_type": "code",
   "execution_count": 3,
   "id": "f26f8bd1",
   "metadata": {},
   "outputs": [
    {
     "name": "stdout",
     "output_type": "stream",
     "text": [
      "<class 'tuple'> (1, 2, 3, 4, 5)\n"
     ]
    }
   ],
   "source": [
    "total(1,2,3,4,5)\n"
   ]
  },
  {
   "cell_type": "code",
   "execution_count": 4,
   "id": "bcd7726a",
   "metadata": {},
   "outputs": [
    {
     "name": "stdout",
     "output_type": "stream",
     "text": [
      "<class 'tuple'> (2, 4, 8)\n"
     ]
    }
   ],
   "source": [
    "total(2,4,8)"
   ]
  },
  {
   "cell_type": "code",
   "execution_count": null,
   "id": "926e4bed",
   "metadata": {},
   "outputs": [],
   "source": [
    "# In args data goes int tuple type in function"
   ]
  },
  {
   "cell_type": "code",
   "execution_count": 10,
   "id": "59a31861",
   "metadata": {},
   "outputs": [],
   "source": [
    "def add_numbers(*args):\n",
    "    grand_total = 0\n",
    "    for item in args:\n",
    "        grand_total = item+grand_total\n",
    "    return grand_total\n",
    "        "
   ]
  },
  {
   "cell_type": "code",
   "execution_count": 11,
   "id": "ac688916",
   "metadata": {},
   "outputs": [
    {
     "data": {
      "text/plain": [
       "21"
      ]
     },
     "execution_count": 11,
     "metadata": {},
     "output_type": "execute_result"
    }
   ],
   "source": [
    "add_numbers(1,2,3,4,5,6)"
   ]
  },
  {
   "cell_type": "markdown",
   "id": "423fa6f8",
   "metadata": {},
   "source": [
    "# \\** kwargs"
   ]
  },
  {
   "cell_type": "code",
   "execution_count": 14,
   "id": "924630d0",
   "metadata": {},
   "outputs": [],
   "source": [
    "def about(**kwargs): # kwargs= key word argument\n",
    "    print(kwargs)\n",
    "    print(type(kwargs))"
   ]
  },
  {
   "cell_type": "code",
   "execution_count": 15,
   "id": "c38d90f9",
   "metadata": {},
   "outputs": [
    {
     "name": "stdout",
     "output_type": "stream",
     "text": [
      "{'name': 'Smriti', 'age': 20}\n",
      "<class 'dict'>\n"
     ]
    }
   ],
   "source": [
    "about(name='Smriti',age=20)"
   ]
  },
  {
   "cell_type": "code",
   "execution_count": null,
   "id": "7d257b7a",
   "metadata": {},
   "outputs": [],
   "source": [
    "# kwargs le data lai dictionary type ma linxa."
   ]
  }
 ],
 "metadata": {
  "kernelspec": {
   "display_name": "Python 3 (ipykernel)",
   "language": "python",
   "name": "python3"
  },
  "language_info": {
   "codemirror_mode": {
    "name": "ipython",
    "version": 3
   },
   "file_extension": ".py",
   "mimetype": "text/x-python",
   "name": "python",
   "nbconvert_exporter": "python",
   "pygments_lexer": "ipython3",
   "version": "3.11.4"
  }
 },
 "nbformat": 4,
 "nbformat_minor": 5
}
