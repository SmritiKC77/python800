{
 "cells": [
  {
   "cell_type": "markdown",
   "id": "c4d15f76",
   "metadata": {},
   "source": [
    "* Python numbers : int, float, complex\n",
    "* Python Strings\n",
    "* Python list\n",
    "* Python tuple\n",
    "* Python set\n",
    "* Python Dictionary\n",
    "#List, tuple and set are built in data types in python"
   ]
  },
  {
   "cell_type": "code",
   "execution_count": null,
   "id": "b10df00d",
   "metadata": {},
   "outputs": [],
   "source": []
  }
 ],
 "metadata": {
  "kernelspec": {
   "display_name": "Python 3 (ipykernel)",
   "language": "python",
   "name": "python3"
  },
  "language_info": {
   "codemirror_mode": {
    "name": "ipython",
    "version": 3
   },
   "file_extension": ".py",
   "mimetype": "text/x-python",
   "name": "python",
   "nbconvert_exporter": "python",
   "pygments_lexer": "ipython3",
   "version": "3.11.4"
  }
 },
 "nbformat": 4,
 "nbformat_minor": 5
}
