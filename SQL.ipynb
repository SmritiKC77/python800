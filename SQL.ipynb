{
 "cells": [
  {
   "cell_type": "markdown",
   "id": "bf553407",
   "metadata": {},
   "source": [
    "# SQL\n",
    "* Structured query language (SQL) is a standard language for database creation and manipulation. MySQL is a relational database program that uses SQL queries. While SQL commands are defined by international standards, the MySQL software"
   ]
  },
  {
   "cell_type": "code",
   "execution_count": 1,
   "id": "fdf287d0",
   "metadata": {},
   "outputs": [],
   "source": [
    "import sqlite3\n"
   ]
  },
  {
   "cell_type": "markdown",
   "id": "2cb96b4d",
   "metadata": {},
   "source": [
    "# Creating a database and connecting it"
   ]
  },
  {
   "cell_type": "code",
   "execution_count": 2,
   "id": "6c41d255",
   "metadata": {},
   "outputs": [],
   "source": [
    "con = sqlite3.connect('python800.db')"
   ]
  },
  {
   "cell_type": "markdown",
   "id": "cfd5aa07",
   "metadata": {},
   "source": [
    "# Python and sql are different language . For the mediator we reqire cursor\n",
    "* Cursor executes sql qurey."
   ]
  },
  {
   "cell_type": "code",
   "execution_count": 3,
   "id": "ec476f55",
   "metadata": {},
   "outputs": [],
   "source": [
    "cur = con.cursor()"
   ]
  },
  {
   "cell_type": "markdown",
   "id": "7ab67762",
   "metadata": {},
   "source": [
    "# Creating table in sql\n",
    "```sql\n",
    "create table table_name (column_name_1 datatype, column_name_2 datatype.....)\n",
    "```"
   ]
  },
  {
   "cell_type": "code",
   "execution_count": 4,
   "id": "ff3b379e",
   "metadata": {},
   "outputs": [],
   "source": [
    "query = '''\n",
    "create table student(roll_no int, name varchar(50),address varchar(20)) \n",
    "'''"
   ]
  },
  {
   "cell_type": "code",
   "execution_count": 8,
   "id": "b67580fb",
   "metadata": {},
   "outputs": [
    {
     "name": "stdout",
     "output_type": "stream",
     "text": [
      "table student already exists\n"
     ]
    }
   ],
   "source": [
    "try:\n",
    "    cur.execute(query)\n",
    "except Exception as e:\n",
    "    print(e)"
   ]
  },
  {
   "cell_type": "markdown",
   "id": "b5b483e6",
   "metadata": {},
   "source": [
    "# Inserting data into table\n",
    "```sql\n",
    "Insert into table_name(column_1, column_2,....)\n",
    "values\n",
    "(value_01,value_02,...),\n",
    "(value_11,value_12,...)\n",
    "\n",
    "```"
   ]
  },
  {
   "cell_type": "code",
   "execution_count": 9,
   "id": "ead78692",
   "metadata": {},
   "outputs": [],
   "source": [
    "query = '''\n",
    "Insert into student(roll_no,name,address)\n",
    "values\n",
    "(1,'Smriti','Thecho'),\n",
    "(2,'Anil','Dang'),\n",
    "(3,'Anjali','Sarlahi'),\n",
    "(4,'Bhawesh','Bhaktapur')\n",
    "'''"
   ]
  },
  {
   "cell_type": "code",
   "execution_count": 10,
   "id": "8b73aec2",
   "metadata": {},
   "outputs": [
    {
     "data": {
      "text/plain": [
       "<sqlite3.Cursor at 0x1b859df9dc0>"
      ]
     },
     "execution_count": 10,
     "metadata": {},
     "output_type": "execute_result"
    }
   ],
   "source": [
    "cur.execute(query)"
   ]
  },
  {
   "cell_type": "markdown",
   "id": "c19e7940",
   "metadata": {},
   "source": [
    "# Read data/Select statement from sql\n",
    "syntax:\n",
    "```sql\n",
    "select * from table_name\n",
    "```\n",
    "```sql\n",
    "select column_name_1, column_name_2,... from table_name\n",
    "```"
   ]
  },
  {
   "cell_type": "code",
   "execution_count": 12,
   "id": "f9eeb5a6",
   "metadata": {},
   "outputs": [
    {
     "data": {
      "text/plain": [
       "[(1, 'Smriti', 'Thecho'),\n",
       " (2, 'Anil', 'Dang'),\n",
       " (3, 'Anjali', 'Sarlahi'),\n",
       " (4, 'Bhawesh', 'Bhaktapur')]"
      ]
     },
     "execution_count": 12,
     "metadata": {},
     "output_type": "execute_result"
    }
   ],
   "source": [
    "query = \"select * from student\"\n",
    "cur.execute(query).fetchall()"
   ]
  },
  {
   "cell_type": "markdown",
   "id": "1478e245",
   "metadata": {},
   "source": [
    "# Table bata data read garda fetch garnu parxa ani matra data auxa"
   ]
  },
  {
   "cell_type": "code",
   "execution_count": 15,
   "id": "4bdcfdad",
   "metadata": {},
   "outputs": [
    {
     "data": {
      "text/plain": [
       "[('Thecho',), ('Dang',), ('Sarlahi',), ('Bhaktapur',)]"
      ]
     },
     "execution_count": 15,
     "metadata": {},
     "output_type": "execute_result"
    }
   ],
   "source": [
    "cur.execute(\"select address from student\").fetchall()"
   ]
  },
  {
   "cell_type": "code",
   "execution_count": 16,
   "id": "be233ec8",
   "metadata": {},
   "outputs": [
    {
     "data": {
      "text/plain": [
       "[(1,), (2,), (3,), (4,)]"
      ]
     },
     "execution_count": 16,
     "metadata": {},
     "output_type": "execute_result"
    }
   ],
   "source": [
    "cur.execute(\"select roll_no from student\").fetchall()"
   ]
  },
  {
   "cell_type": "markdown",
   "id": "1db71052",
   "metadata": {},
   "source": [
    "# if is replaced by where in sql"
   ]
  },
  {
   "cell_type": "markdown",
   "id": "e756e835",
   "metadata": {},
   "source": [
    "# where clause/conditional"
   ]
  },
  {
   "cell_type": "code",
   "execution_count": 20,
   "id": "4d8afe4e",
   "metadata": {},
   "outputs": [
    {
     "data": {
      "text/plain": [
       "[(2, 'Anil', 'Dang')]"
      ]
     },
     "execution_count": 20,
     "metadata": {},
     "output_type": "execute_result"
    }
   ],
   "source": [
    "cur.execute(\"select * from student where roll_no = 2\").fetchall()"
   ]
  },
  {
   "cell_type": "code",
   "execution_count": 21,
   "id": "cca55f6c",
   "metadata": {},
   "outputs": [],
   "source": [
    "query = '''\n",
    "select name from student \n",
    "where\n",
    "roll_no =1\n",
    "'''"
   ]
  },
  {
   "cell_type": "code",
   "execution_count": 22,
   "id": "feb79adb",
   "metadata": {},
   "outputs": [
    {
     "data": {
      "text/plain": [
       "[('Smriti',)]"
      ]
     },
     "execution_count": 22,
     "metadata": {},
     "output_type": "execute_result"
    }
   ],
   "source": [
    "cur.execute(query).fetchall()"
   ]
  },
  {
   "cell_type": "markdown",
   "id": "176de922",
   "metadata": {},
   "source": [
    "# What is the roll_no of Anil\n"
   ]
  },
  {
   "cell_type": "code",
   "execution_count": 23,
   "id": "c17a933d",
   "metadata": {},
   "outputs": [
    {
     "data": {
      "text/plain": [
       "[(2,)]"
      ]
     },
     "execution_count": 23,
     "metadata": {},
     "output_type": "execute_result"
    }
   ],
   "source": [
    "cur.execute(\"select roll_no from student where name ='Anil'\").fetchall() # value is case sensitive anil and Anil are different"
   ]
  },
  {
   "cell_type": "markdown",
   "id": "cd833f1e",
   "metadata": {},
   "source": [
    "# Update database\n",
    "```sql\n",
    "update table_name \n",
    "set column_name_n = value\n",
    "where \n",
    "condition\n",
    "```"
   ]
  },
  {
   "cell_type": "code",
   "execution_count": 24,
   "id": "b3be0ad7",
   "metadata": {},
   "outputs": [],
   "source": [
    "query = \"\"\"\n",
    "update student\n",
    "set name = 'Smriti KC'\n",
    "where \n",
    "roll_no = 1\n",
    "\"\"\""
   ]
  },
  {
   "cell_type": "code",
   "execution_count": 25,
   "id": "0bc6a3cf",
   "metadata": {},
   "outputs": [
    {
     "data": {
      "text/plain": [
       "<sqlite3.Cursor at 0x1b859df9dc0>"
      ]
     },
     "execution_count": 25,
     "metadata": {},
     "output_type": "execute_result"
    }
   ],
   "source": [
    "cur.execute(query)"
   ]
  },
  {
   "cell_type": "code",
   "execution_count": 26,
   "id": "6bae0f3b",
   "metadata": {},
   "outputs": [
    {
     "data": {
      "text/plain": [
       "[(1, 'Smriti KC', 'Thecho'),\n",
       " (2, 'Anil', 'Dang'),\n",
       " (3, 'Anjali', 'Sarlahi'),\n",
       " (4, 'Bhawesh', 'Bhaktapur')]"
      ]
     },
     "execution_count": 26,
     "metadata": {},
     "output_type": "execute_result"
    }
   ],
   "source": [
    "cur.execute(\"select * from student\").fetchall()"
   ]
  },
  {
   "cell_type": "markdown",
   "id": "3fba985a",
   "metadata": {},
   "source": [
    "# Delete statement in sql"
   ]
  },
  {
   "cell_type": "code",
   "execution_count": 27,
   "id": "4afcc830",
   "metadata": {},
   "outputs": [
    {
     "data": {
      "text/plain": [
       "<sqlite3.Cursor at 0x1b859df9dc0>"
      ]
     },
     "execution_count": 27,
     "metadata": {},
     "output_type": "execute_result"
    }
   ],
   "source": [
    "cur.execute (\"delete from student where roll_no = 4\")"
   ]
  },
  {
   "cell_type": "code",
   "execution_count": 28,
   "id": "fadb1e80",
   "metadata": {},
   "outputs": [
    {
     "data": {
      "text/plain": [
       "[(1, 'Smriti KC', 'Thecho'), (2, 'Anil', 'Dang'), (3, 'Anjali', 'Sarlahi')]"
      ]
     },
     "execution_count": 28,
     "metadata": {},
     "output_type": "execute_result"
    }
   ],
   "source": [
    "cur.execute(\"select * from student \").fetchall()"
   ]
  },
  {
   "cell_type": "markdown",
   "id": "9b21af13",
   "metadata": {},
   "source": [
    "# CRUID OPERATIONS\n"
   ]
  },
  {
   "cell_type": "code",
   "execution_count": null,
   "id": "503960df",
   "metadata": {},
   "outputs": [],
   "source": []
  }
 ],
 "metadata": {
  "kernelspec": {
   "display_name": "Python 3 (ipykernel)",
   "language": "python",
   "name": "python3"
  },
  "language_info": {
   "codemirror_mode": {
    "name": "ipython",
    "version": 3
   },
   "file_extension": ".py",
   "mimetype": "text/x-python",
   "name": "python",
   "nbconvert_exporter": "python",
   "pygments_lexer": "ipython3",
   "version": "3.11.4"
  }
 },
 "nbformat": 4,
 "nbformat_minor": 5
}
