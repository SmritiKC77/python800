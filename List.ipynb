{
 "cells": [
  {
   "cell_type": "markdown",
   "id": "13aad0d4",
   "metadata": {},
   "source": [
    "*  Collection of items under one variable name.\n",
    "* List suppport multiple data types .\n",
    "* List is ordered, indexed , and allows duplicate values\n",
    "* One of the built in data types in python,\n",
    "* Built in data type(list,tuple, dictionary,set)\n",
    "* Items are written inside square bracket[] and each item is separated by comma.\n",
    "* List is a mutable data type."
   ]
  },
  {
   "cell_type": "code",
   "execution_count": 3,
   "id": "a406c36d",
   "metadata": {},
   "outputs": [
    {
     "name": "stdout",
     "output_type": "stream",
     "text": [
      "['Cake', 'Chocolate', 'Necklace', 'Money', 'Book', 'Clothes', 'Bike', 'Shoes', 'iphone', 'Jaguar', 'Book']\n"
     ]
    }
   ],
   "source": [
    "gift = ['Cake','Chocolate','Necklace','Money','Book','Clothes','Bike','Shoes','iphone','Jaguar','Book']\n",
    "print(gift)"
   ]
  },
  {
   "cell_type": "markdown",
   "id": "395bf1d1",
   "metadata": {},
   "source": [
    "#  Indexing and slicing"
   ]
  },
  {
   "cell_type": "code",
   "execution_count": 6,
   "id": "c360d996",
   "metadata": {},
   "outputs": [
    {
     "data": {
      "text/plain": [
       "'Chocolate'"
      ]
     },
     "execution_count": 6,
     "metadata": {},
     "output_type": "execute_result"
    }
   ],
   "source": [
    "gift = ['Cake','Chocolate','Necklace','Money','Book','Clothes','Bike','Shoes','iphone','Jaguar','Book']\n",
    "index = 1\n",
    "present = gift[index]\n",
    "present\n"
   ]
  },
  {
   "cell_type": "code",
   "execution_count": 5,
   "id": "0b4f3d81",
   "metadata": {},
   "outputs": [
    {
     "data": {
      "text/plain": [
       "'Clothes'"
      ]
     },
     "execution_count": 5,
     "metadata": {},
     "output_type": "execute_result"
    }
   ],
   "source": [
    "gift[5]\n"
   ]
  },
  {
   "cell_type": "code",
   "execution_count": 7,
   "id": "2652929b",
   "metadata": {},
   "outputs": [
    {
     "data": {
      "text/plain": [
       "['Book', 'Clothes', 'Bike']"
      ]
     },
     "execution_count": 7,
     "metadata": {},
     "output_type": "execute_result"
    }
   ],
   "source": [
    "gift = gift[4:7]\n",
    "gift\n"
   ]
  },
  {
   "cell_type": "code",
   "execution_count": 8,
   "id": "6b03a2d3",
   "metadata": {},
   "outputs": [
    {
     "data": {
      "text/plain": [
       "['Clothes']"
      ]
     },
     "execution_count": 8,
     "metadata": {},
     "output_type": "execute_result"
    }
   ],
   "source": [
    "gift [1:7:2]"
   ]
  },
  {
   "cell_type": "markdown",
   "id": "fa511b9b",
   "metadata": {},
   "source": [
    "# Negative indexing"
   ]
  },
  {
   "cell_type": "code",
   "execution_count": 10,
   "id": "bb1f8bfa",
   "metadata": {},
   "outputs": [
    {
     "name": "stdout",
     "output_type": "stream",
     "text": [
      "['Cake', 'Chocolate', 'Necklace', 'Money', 'Book', 'Clothes', 'Bike', 'Shoes', 'iphone', 'Jaguar', 'Book']\n"
     ]
    }
   ],
   "source": [
    "gift = ['Cake','Chocolate','Necklace','Money','Book','Clothes','Bike','Shoes','iphone','Jaguar','Book']\n",
    "print(gift)"
   ]
  },
  {
   "cell_type": "code",
   "execution_count": 15,
   "id": "1fa95fc1",
   "metadata": {},
   "outputs": [
    {
     "data": {
      "text/plain": [
       "'Book'"
      ]
     },
     "execution_count": 15,
     "metadata": {},
     "output_type": "execute_result"
    }
   ],
   "source": [
    "gift = ['Cake','Chocolate','Necklace','Money','Book','Clothes','Bike','Shoes','iphone','Jaguar','Book']\n",
    "gift[-1]"
   ]
  },
  {
   "cell_type": "code",
   "execution_count": 14,
   "id": "4ca6a7d4",
   "metadata": {},
   "outputs": [
    {
     "data": {
      "text/plain": [
       "['iphone', 'Jaguar', 'Book']"
      ]
     },
     "execution_count": 14,
     "metadata": {},
     "output_type": "execute_result"
    }
   ],
   "source": [
    "gift[-3:] # last three items"
   ]
  },
  {
   "cell_type": "code",
   "execution_count": 16,
   "id": "a77469bb",
   "metadata": {},
   "outputs": [
    {
     "data": {
      "text/plain": [
       "['iphone', 'Jaguar', 'Book']"
      ]
     },
     "execution_count": 16,
     "metadata": {},
     "output_type": "execute_result"
    }
   ],
   "source": [
    "gift[8:] # 8 index paxi ko sabai"
   ]
  },
  {
   "cell_type": "code",
   "execution_count": 17,
   "id": "ea021821",
   "metadata": {},
   "outputs": [
    {
     "data": {
      "text/plain": [
       "['Bike', 'Shoes', 'iphone']"
      ]
     },
     "execution_count": 17,
     "metadata": {},
     "output_type": "execute_result"
    }
   ],
   "source": [
    "gift[-5: -2] # last ko value lidaina"
   ]
  },
  {
   "cell_type": "code",
   "execution_count": 18,
   "id": "551ab7f3",
   "metadata": {},
   "outputs": [
    {
     "data": {
      "text/plain": [
       "9"
      ]
     },
     "execution_count": 18,
     "metadata": {},
     "output_type": "execute_result"
    }
   ],
   "source": [
    "item = [ 9,2,45,0,11]\n",
    "item[-5]"
   ]
  },
  {
   "cell_type": "code",
   "execution_count": 19,
   "id": "bd449b88",
   "metadata": {},
   "outputs": [
    {
     "data": {
      "text/plain": [
       "[45, 0]"
      ]
     },
     "execution_count": 19,
     "metadata": {},
     "output_type": "execute_result"
    }
   ],
   "source": [
    "item[-3:-1]"
   ]
  },
  {
   "cell_type": "code",
   "execution_count": 20,
   "id": "b197b7c6",
   "metadata": {},
   "outputs": [
    {
     "data": {
      "text/plain": [
       "[9, 2, 45]"
      ]
     },
     "execution_count": 20,
     "metadata": {},
     "output_type": "execute_result"
    }
   ],
   "source": [
    "item[:3]  # it is equivalent to gift[0:3] , first 3 vaneko"
   ]
  },
  {
   "cell_type": "code",
   "execution_count": 21,
   "id": "0f053b1b",
   "metadata": {},
   "outputs": [
    {
     "data": {
      "text/plain": [
       "[9, 2, 45]"
      ]
     },
     "execution_count": 21,
     "metadata": {},
     "output_type": "execute_result"
    }
   ],
   "source": [
    "item[0:3]"
   ]
  },
  {
   "cell_type": "markdown",
   "id": "6ff18f39",
   "metadata": {},
   "source": [
    "# Membership Operator"
   ]
  },
  {
   "cell_type": "code",
   "execution_count": 22,
   "id": "3844ffa5",
   "metadata": {},
   "outputs": [
    {
     "name": "stdout",
     "output_type": "stream",
     "text": [
      "['Cake', 'Chocolate', 'Necklace', 'Money', 'Book', 'Clothes', 'Bike', 'Shoes', 'iphone', 'Jaguar', 'Book']\n"
     ]
    }
   ],
   "source": [
    "print(gift)"
   ]
  },
  {
   "cell_type": "code",
   "execution_count": 26,
   "id": "17d321f8",
   "metadata": {},
   "outputs": [
    {
     "data": {
      "text/plain": [
       "True"
      ]
     },
     "execution_count": 26,
     "metadata": {},
     "output_type": "execute_result"
    }
   ],
   "source": [
    "\"Bike\"  in gift"
   ]
  },
  {
   "cell_type": "code",
   "execution_count": 25,
   "id": "9b350d75",
   "metadata": {},
   "outputs": [
    {
     "data": {
      "text/plain": [
       "True"
      ]
     },
     "execution_count": 25,
     "metadata": {},
     "output_type": "execute_result"
    }
   ],
   "source": [
    "\"Book\" in gift"
   ]
  },
  {
   "cell_type": "code",
   "execution_count": 27,
   "id": "5d64a435",
   "metadata": {},
   "outputs": [
    {
     "data": {
      "text/plain": [
       "False"
      ]
     },
     "execution_count": 27,
     "metadata": {},
     "output_type": "execute_result"
    }
   ],
   "source": [
    "\"mobile \" in gift"
   ]
  },
  {
   "cell_type": "markdown",
   "id": "94a046a1",
   "metadata": {},
   "source": [
    "# List support multiple data types."
   ]
  },
  {
   "cell_type": "code",
   "execution_count": 30,
   "id": "509f78ac",
   "metadata": {},
   "outputs": [
    {
     "data": {
      "text/plain": [
       "[True, 5, 5.3, 'Smriti']"
      ]
     },
     "execution_count": 30,
     "metadata": {},
     "output_type": "execute_result"
    }
   ],
   "source": [
    "l1 = [ True, 5, 5.3,'Smriti']\n",
    "l1"
   ]
  },
  {
   "cell_type": "code",
   "execution_count": 31,
   "id": "73e37549",
   "metadata": {},
   "outputs": [
    {
     "data": {
      "text/plain": [
       "True"
      ]
     },
     "execution_count": 31,
     "metadata": {},
     "output_type": "execute_result"
    }
   ],
   "source": [
    "l1[0]"
   ]
  },
  {
   "cell_type": "markdown",
   "id": "3159ecd8",
   "metadata": {},
   "source": [
    "# Find the total of given numbers using list."
   ]
  },
  {
   "cell_type": "code",
   "execution_count": 32,
   "id": "0d922b59",
   "metadata": {},
   "outputs": [
    {
     "data": {
      "text/plain": [
       "5"
      ]
     },
     "execution_count": 32,
     "metadata": {},
     "output_type": "execute_result"
    }
   ],
   "source": [
    "l1 = [2,0,9,6,5]\n",
    "len(l1)"
   ]
  },
  {
   "cell_type": "code",
   "execution_count": 37,
   "id": "d8669f61",
   "metadata": {},
   "outputs": [
    {
     "name": "stdout",
     "output_type": "stream",
     "text": [
      "2\n",
      "0\n",
      "9\n",
      "6\n",
      "5\n"
     ]
    }
   ],
   "source": [
    "for index in range(len(l1)):\n",
    "    print(l1[index])"
   ]
  },
  {
   "cell_type": "code",
   "execution_count": 39,
   "id": "b92d83b7",
   "metadata": {},
   "outputs": [
    {
     "name": "stdout",
     "output_type": "stream",
     "text": [
      "22\n"
     ]
    }
   ],
   "source": [
    "num = [2,0,9,6,5]\n",
    "total = 0\n",
    "for item in num:\n",
    "    total = total+item\n",
    "print(total)"
   ]
  },
  {
   "cell_type": "code",
   "execution_count": 40,
   "id": "4e8c8c59",
   "metadata": {},
   "outputs": [
    {
     "name": "stdout",
     "output_type": "stream",
     "text": [
      "22\n"
     ]
    }
   ],
   "source": [
    "num = [2,0,9,6,5]\n",
    "total = 0\n",
    "for index in range(len(l1)):\n",
    "    item = num[index]\n",
    "    total = total+item\n",
    "print(total)"
   ]
  },
  {
   "cell_type": "code",
   "execution_count": 2,
   "id": "2e042f39",
   "metadata": {},
   "outputs": [
    {
     "name": "stdout",
     "output_type": "stream",
     "text": [
      "4.4\n"
     ]
    }
   ],
   "source": [
    "num = [2,0 ,9,6,5]\n",
    "total = 0\n",
    "for item in num:\n",
    "    total = total+item\n",
    "n = len(num)\n",
    "mean= total/n\n",
    "print(mean)"
   ]
  },
  {
   "cell_type": "code",
   "execution_count": 1,
   "id": "9e771340",
   "metadata": {},
   "outputs": [
    {
     "name": "stdout",
     "output_type": "stream",
     "text": [
      "4.4\n"
     ]
    }
   ],
   "source": [
    "num = [2,0,9,6,5]\n",
    "total = 0\n",
    "n = 5\n",
    "for index in range(len(num)):\n",
    "    item = num[index]\n",
    "    total = total+item\n",
    "    mean = total/n\n",
    "print(mean)"
   ]
  },
  {
   "cell_type": "code",
   "execution_count": null,
   "id": "d057da4b",
   "metadata": {},
   "outputs": [],
   "source": []
  }
 ],
 "metadata": {
  "kernelspec": {
   "display_name": "Python 3 (ipykernel)",
   "language": "python",
   "name": "python3"
  },
  "language_info": {
   "codemirror_mode": {
    "name": "ipython",
    "version": 3
   },
   "file_extension": ".py",
   "mimetype": "text/x-python",
   "name": "python",
   "nbconvert_exporter": "python",
   "pygments_lexer": "ipython3",
   "version": "3.11.4"
  }
 },
 "nbformat": 4,
 "nbformat_minor": 5
}
