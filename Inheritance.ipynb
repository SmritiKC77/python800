{
 "cells": [
  {
   "cell_type": "markdown",
   "id": "11b7ce59",
   "metadata": {},
   "source": [
    "# SIngle Inheritance"
   ]
  },
  {
   "cell_type": "code",
   "execution_count": 1,
   "id": "0d82563a",
   "metadata": {},
   "outputs": [],
   "source": [
    "class Computer:\n",
    "    def __init__(self, model_name):\n",
    "        self.model_name = model_name\n",
    "class Mobile:\n",
    "    def __init__(self,has_flash):\n",
    "        self.has_flash = has_flash"
   ]
  },
  {
   "cell_type": "code",
   "execution_count": 2,
   "id": "6aed60c8",
   "metadata": {},
   "outputs": [],
   "source": [
    "m1 = Mobile(has_flash = True)"
   ]
  },
  {
   "cell_type": "code",
   "execution_count": 3,
   "id": "e779c19e",
   "metadata": {},
   "outputs": [
    {
     "ename": "AttributeError",
     "evalue": "'Mobile' object has no attribute 'model_name'",
     "output_type": "error",
     "traceback": [
      "\u001b[1;31m---------------------------------------------------------------------------\u001b[0m",
      "\u001b[1;31mAttributeError\u001b[0m                            Traceback (most recent call last)",
      "Cell \u001b[1;32mIn[3], line 1\u001b[0m\n\u001b[1;32m----> 1\u001b[0m m1\u001b[38;5;241m.\u001b[39mmodel_name\n",
      "\u001b[1;31mAttributeError\u001b[0m: 'Mobile' object has no attribute 'model_name'"
     ]
    }
   ],
   "source": [
    "m1.model_name # mobile sanga mobile_name vanni attribute chaina yo computer ko attribute le paune ho"
   ]
  },
  {
   "cell_type": "code",
   "execution_count": 9,
   "id": "ce9104fc",
   "metadata": {},
   "outputs": [],
   "source": [
    "class Computer:\n",
    "    def __init__(self, model_name):\n",
    "        self.model_name = model_name\n",
    "class Mobile(Computer):   # Step 1\n",
    "    def __init__(self,has_flash,model_name):\n",
    "        self.has_flash = has_flash\n",
    "        super(). __init__(model_name)      # Step 2"
   ]
  },
  {
   "cell_type": "code",
   "execution_count": 10,
   "id": "0cf17336",
   "metadata": {},
   "outputs": [
    {
     "data": {
      "text/plain": [
       "'iphone'"
      ]
     },
     "execution_count": 10,
     "metadata": {},
     "output_type": "execute_result"
    }
   ],
   "source": [
    "m1 = Mobile(has_flash = True , model_name = 'iphone')\n",
    "m1.model_name"
   ]
  },
  {
   "cell_type": "code",
   "execution_count": 15,
   "id": "b2c34b25",
   "metadata": {},
   "outputs": [],
   "source": [
    "class A:\n",
    "    msg = 'hey'\n",
    "class B(A):\n",
    "    def __init__(self):\n",
    "        super().__init__()"
   ]
  },
  {
   "cell_type": "code",
   "execution_count": 16,
   "id": "c645d692",
   "metadata": {},
   "outputs": [
    {
     "data": {
      "text/plain": [
       "'hey'"
      ]
     },
     "execution_count": 16,
     "metadata": {},
     "output_type": "execute_result"
    }
   ],
   "source": [
    "obj = B()\n",
    "obj.msg # msg vanne A class ko attribute ho tara B class le chinyo because of inheritance"
   ]
  },
  {
   "cell_type": "markdown",
   "id": "25b02550",
   "metadata": {},
   "source": [
    "# Multiple Inheritance"
   ]
  },
  {
   "cell_type": "code",
   "execution_count": 15,
   "id": "23ecc0e0",
   "metadata": {},
   "outputs": [],
   "source": [
    "class Father:\n",
    "    def __init__(self, father_name):\n",
    "        self.father_name = father_name\n",
    "    def display_father_name(self):\n",
    "        return self.father_name\n",
    "class Mother:\n",
    "        def __init__(self, mother_name):\n",
    "            self.mother_name = mother_name# \n",
    "class child(Father,Mother):\n",
    "    def __init__(self, child_name, father_name, mother_name):\n",
    "        self.child_name = child_name\n",
    "        Father.__init__(self, father_name)\n",
    "        Mother.__init__(self,mother_name)\n",
    "        "
   ]
  },
  {
   "cell_type": "code",
   "execution_count": 16,
   "id": "acf0c06f",
   "metadata": {},
   "outputs": [],
   "source": [
    "c1 = child(child_name ='Smriti',father_name = 'Nabindra',mother_name= 'Mina')"
   ]
  },
  {
   "cell_type": "code",
   "execution_count": 17,
   "id": "c0017400",
   "metadata": {},
   "outputs": [
    {
     "name": "stdout",
     "output_type": "stream",
     "text": [
      "Smriti\n"
     ]
    }
   ],
   "source": [
    "print(c1.child_name)"
   ]
  },
  {
   "cell_type": "code",
   "execution_count": 18,
   "id": "e62f1ff5",
   "metadata": {},
   "outputs": [
    {
     "data": {
      "text/plain": [
       "'Nabindra'"
      ]
     },
     "execution_count": 18,
     "metadata": {},
     "output_type": "execute_result"
    }
   ],
   "source": [
    "c1.father_name"
   ]
  },
  {
   "cell_type": "code",
   "execution_count": 19,
   "id": "9749c8bc",
   "metadata": {},
   "outputs": [
    {
     "data": {
      "text/plain": [
       "'Nabindra'"
      ]
     },
     "execution_count": 19,
     "metadata": {},
     "output_type": "execute_result"
    }
   ],
   "source": [
    "c1.display_father_name()"
   ]
  },
  {
   "cell_type": "markdown",
   "id": "809befcc",
   "metadata": {},
   "source": [
    "# Multi level Inheritance"
   ]
  },
  {
   "cell_type": "code",
   "execution_count": 30,
   "id": "58ce9ff1",
   "metadata": {},
   "outputs": [],
   "source": [
    "class A:\n",
    "    def display_a(self):\n",
    "        print(\"This is method from class A\")\n",
    "class B(A):\n",
    "    def __init__(self):\n",
    "        A.__init__(self)\n",
    "    def display_b(self):\n",
    "        print(\"This method is from class B\")\n",
    "class C(B):\n",
    "    def __init__(self):\n",
    "        B.__init__(self)"
   ]
  },
  {
   "cell_type": "code",
   "execution_count": 31,
   "id": "0fd3fd79",
   "metadata": {},
   "outputs": [],
   "source": [
    "c1 = C()"
   ]
  },
  {
   "cell_type": "code",
   "execution_count": 23,
   "id": "4a1cc183",
   "metadata": {},
   "outputs": [
    {
     "name": "stdout",
     "output_type": "stream",
     "text": [
      "This is method from class A\n"
     ]
    }
   ],
   "source": [
    "c1.display_a()"
   ]
  },
  {
   "cell_type": "code",
   "execution_count": 32,
   "id": "a3aec005",
   "metadata": {},
   "outputs": [
    {
     "name": "stdout",
     "output_type": "stream",
     "text": [
      "This method is from class B\n"
     ]
    }
   ],
   "source": [
    "c1.display_b()"
   ]
  },
  {
   "cell_type": "code",
   "execution_count": null,
   "id": "c93b2d4d",
   "metadata": {},
   "outputs": [],
   "source": []
  }
 ],
 "metadata": {
  "kernelspec": {
   "display_name": "Python 3 (ipykernel)",
   "language": "python",
   "name": "python3"
  },
  "language_info": {
   "codemirror_mode": {
    "name": "ipython",
    "version": 3
   },
   "file_extension": ".py",
   "mimetype": "text/x-python",
   "name": "python",
   "nbconvert_exporter": "python",
   "pygments_lexer": "ipython3",
   "version": "3.11.4"
  }
 },
 "nbformat": 4,
 "nbformat_minor": 5
}
