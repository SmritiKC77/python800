{
 "cells": [
  {
   "cell_type": "markdown",
   "id": "a24b71d4",
   "metadata": {},
   "source": [
    "# File Handling\n",
    "open: `open(filename, mode)`\n",
    "close: `file.close()`\n",
    "Different mode to open a file:\n",
    "* create: x\n",
    "* read:r\n",
    "* write:w\n",
    "* append:a"
   ]
  },
  {
   "cell_type": "code",
   "execution_count": 1,
   "id": "f0d5dd57",
   "metadata": {},
   "outputs": [
    {
     "data": {
      "text/plain": [
       "False"
      ]
     },
     "execution_count": 1,
     "metadata": {},
     "output_type": "execute_result"
    }
   ],
   "source": [
    "import os # Operating System\n",
    "os.path.exists('broadway.txt') # no file name broadway.txt"
   ]
  },
  {
   "cell_type": "code",
   "execution_count": 2,
   "id": "448aa9e3",
   "metadata": {},
   "outputs": [
    {
     "ename": "FileNotFoundError",
     "evalue": "[Errno 2] No such file or directory: 'broadway.txt'",
     "output_type": "error",
     "traceback": [
      "\u001b[1;31m---------------------------------------------------------------------------\u001b[0m",
      "\u001b[1;31mFileNotFoundError\u001b[0m                         Traceback (most recent call last)",
      "Cell \u001b[1;32mIn[2], line 1\u001b[0m\n\u001b[1;32m----> 1\u001b[0m file \u001b[38;5;241m=\u001b[39m \u001b[38;5;28mopen\u001b[39m(\u001b[38;5;124m'\u001b[39m\u001b[38;5;124mbroadway.txt\u001b[39m\u001b[38;5;124m'\u001b[39m,\u001b[38;5;124m'\u001b[39m\u001b[38;5;124mr\u001b[39m\u001b[38;5;124m'\u001b[39m)\n",
      "File \u001b[1;32m~\\anaconda3\\Lib\\site-packages\\IPython\\core\\interactiveshell.py:284\u001b[0m, in \u001b[0;36m_modified_open\u001b[1;34m(file, *args, **kwargs)\u001b[0m\n\u001b[0;32m    277\u001b[0m \u001b[38;5;28;01mif\u001b[39;00m file \u001b[38;5;129;01min\u001b[39;00m {\u001b[38;5;241m0\u001b[39m, \u001b[38;5;241m1\u001b[39m, \u001b[38;5;241m2\u001b[39m}:\n\u001b[0;32m    278\u001b[0m     \u001b[38;5;28;01mraise\u001b[39;00m \u001b[38;5;167;01mValueError\u001b[39;00m(\n\u001b[0;32m    279\u001b[0m         \u001b[38;5;124mf\u001b[39m\u001b[38;5;124m\"\u001b[39m\u001b[38;5;124mIPython won\u001b[39m\u001b[38;5;124m'\u001b[39m\u001b[38;5;124mt let you open fd=\u001b[39m\u001b[38;5;132;01m{\u001b[39;00mfile\u001b[38;5;132;01m}\u001b[39;00m\u001b[38;5;124m by default \u001b[39m\u001b[38;5;124m\"\u001b[39m\n\u001b[0;32m    280\u001b[0m         \u001b[38;5;124m\"\u001b[39m\u001b[38;5;124mas it is likely to crash IPython. If you know what you are doing, \u001b[39m\u001b[38;5;124m\"\u001b[39m\n\u001b[0;32m    281\u001b[0m         \u001b[38;5;124m\"\u001b[39m\u001b[38;5;124myou can use builtins\u001b[39m\u001b[38;5;124m'\u001b[39m\u001b[38;5;124m open.\u001b[39m\u001b[38;5;124m\"\u001b[39m\n\u001b[0;32m    282\u001b[0m     )\n\u001b[1;32m--> 284\u001b[0m \u001b[38;5;28;01mreturn\u001b[39;00m io_open(file, \u001b[38;5;241m*\u001b[39margs, \u001b[38;5;241m*\u001b[39m\u001b[38;5;241m*\u001b[39mkwargs)\n",
      "\u001b[1;31mFileNotFoundError\u001b[0m: [Errno 2] No such file or directory: 'broadway.txt'"
     ]
    }
   ],
   "source": [
    "file = open('broadway.txt','r') # no file broadway.txt exists"
   ]
  },
  {
   "cell_type": "code",
   "execution_count": 3,
   "id": "2929edac",
   "metadata": {},
   "outputs": [
    {
     "name": "stdout",
     "output_type": "stream",
     "text": [
      "[Errno 2] No such file or directory: 'broadway.txt'\n"
     ]
    }
   ],
   "source": [
    "try:\n",
    "    file = open('broadway.txt','r')\n",
    "except FileNotFoundError as e: # it captures file not found error only\n",
    "    print(e)"
   ]
  },
  {
   "cell_type": "code",
   "execution_count": 4,
   "id": "dc0b13df",
   "metadata": {},
   "outputs": [
    {
     "name": "stdout",
     "output_type": "stream",
     "text": [
      "[Errno 2] No such file or directory: 'broadway.txt'\n"
     ]
    }
   ],
   "source": [
    "try:\n",
    "    file = open('broadway.txt','r')\n",
    "except Exception as e: # it capture all kinds of exception\n",
    "    print(e)"
   ]
  },
  {
   "cell_type": "markdown",
   "id": "0561b85c",
   "metadata": {},
   "source": [
    "# Read"
   ]
  },
  {
   "cell_type": "code",
   "execution_count": 5,
   "id": "beb0dd4f",
   "metadata": {},
   "outputs": [
    {
     "data": {
      "text/plain": [
       "True"
      ]
     },
     "execution_count": 5,
     "metadata": {},
     "output_type": "execute_result"
    }
   ],
   "source": [
    "os.path.exists('student.txt') # aba "
   ]
  },
  {
   "cell_type": "code",
   "execution_count": 13,
   "id": "f7dededb",
   "metadata": {},
   "outputs": [
    {
     "name": "stdout",
     "output_type": "stream",
     "text": [
      "Binamra\n",
      "Sachhyam\n",
      "Anil\n",
      "Shrijana\n",
      "Sudip\n",
      "Samir\n"
     ]
    }
   ],
   "source": [
    "file = open('student.txt','r')\n",
    "text = file.read()\n",
    "file.close()\n",
    "print(text)"
   ]
  },
  {
   "cell_type": "code",
   "execution_count": 15,
   "id": "2b660127",
   "metadata": {},
   "outputs": [
    {
     "name": "stdout",
     "output_type": "stream",
     "text": [
      "Binamra\n",
      "\n"
     ]
    }
   ],
   "source": [
    "file = open('student.txt','r')\n",
    "text = file.readline() # reads only one paragraph\n",
    "file.close()\n",
    "print(text)\n"
   ]
  },
  {
   "cell_type": "code",
   "execution_count": 17,
   "id": "1ca9bc29",
   "metadata": {},
   "outputs": [
    {
     "name": "stdout",
     "output_type": "stream",
     "text": [
      "<class 'list'>\n",
      "Binamra\n",
      "\n",
      "Sachhyam\n",
      "\n",
      "Anil\n",
      "\n",
      "Shrijana\n",
      "\n",
      "Sudip\n",
      "\n",
      "Samir\n"
     ]
    }
   ],
   "source": [
    "file = open('student.txt','r')\n",
    "text = file.readlines() # reads line by line\n",
    "file.close()\n",
    "print(type(text))\n",
    "for item in text:\n",
    "    print(item)"
   ]
  },
  {
   "cell_type": "code",
   "execution_count": 19,
   "id": "b377cc1e",
   "metadata": {},
   "outputs": [
    {
     "name": "stdout",
     "output_type": "stream",
     "text": [
      "Binamra\n",
      "Sachhyam\n",
      "Anil\n",
      "Shrijana\n",
      "Sudip\n",
      "Samir\n"
     ]
    }
   ],
   "source": [
    "# Better solution \n",
    "with open('student.txt','r') as file: # with garyo vani close garna pardaina\n",
    "    text = file.read()\n",
    "print(text)"
   ]
  },
  {
   "cell_type": "markdown",
   "id": "7701bb80",
   "metadata": {},
   "source": [
    "# write\n",
    "* File exist gardaina vani naya file banxa\n",
    "* File exists garxa vani purano file replace vayera naya file banxa. Old file ko data last hunxa"
   ]
  },
  {
   "cell_type": "code",
   "execution_count": 30,
   "id": "80b67448",
   "metadata": {},
   "outputs": [],
   "source": [
    "with open ('city.txt','w') as file:\n",
    "    file.write('Kathmandu\\n')"
   ]
  },
  {
   "cell_type": "code",
   "execution_count": 22,
   "id": "fcb9dc4b",
   "metadata": {},
   "outputs": [
    {
     "data": {
      "text/plain": [
       "True"
      ]
     },
     "execution_count": 22,
     "metadata": {},
     "output_type": "execute_result"
    }
   ],
   "source": [
    "os.path.exists('city.txt') # new file has been created."
   ]
  },
  {
   "cell_type": "code",
   "execution_count": 24,
   "id": "a450dc7f",
   "metadata": {},
   "outputs": [
    {
     "name": "stdout",
     "output_type": "stream",
     "text": [
      "Kathmandu\n",
      "\n"
     ]
    }
   ],
   "source": [
    "with open('city.txt','r') as file:\n",
    "    print(file.read())"
   ]
  },
  {
   "cell_type": "code",
   "execution_count": null,
   "id": "61c40c6b",
   "metadata": {},
   "outputs": [],
   "source": [
    "# city.txt already exist garx aif i opened it again on write mod ekathmandu data lost hunxa\n"
   ]
  },
  {
   "cell_type": "code",
   "execution_count": 3,
   "id": "214e1270",
   "metadata": {},
   "outputs": [
    {
     "name": "stdout",
     "output_type": "stream",
     "text": [
      "6\n"
     ]
    }
   ],
   "source": [
    "with open ('city.txt','w') as file:\n",
    "    file.write('Patan\\n')"
   ]
  },
  {
   "cell_type": "code",
   "execution_count": 26,
   "id": "81425ae6",
   "metadata": {},
   "outputs": [
    {
     "name": "stdout",
     "output_type": "stream",
     "text": [
      "Kathmandu\n",
      "\n"
     ]
    }
   ],
   "source": [
    "with open('city.txt','r') as file:\n",
    "    print(file.read())"
   ]
  },
  {
   "cell_type": "code",
   "execution_count": null,
   "id": "fcadaacf",
   "metadata": {},
   "outputs": [],
   "source": []
  },
  {
   "cell_type": "markdown",
   "id": "c357619c",
   "metadata": {},
   "source": [
    "# append mode\n",
    "* append mode le file exist gardaina vani naya banauxa\n",
    "* file exist garxa vani purano ma append garxa ,data loss hudaina."
   ]
  },
  {
   "cell_type": "code",
   "execution_count": 32,
   "id": "1afece1b",
   "metadata": {},
   "outputs": [
    {
     "data": {
      "text/plain": [
       "False"
      ]
     },
     "execution_count": 32,
     "metadata": {},
     "output_type": "execute_result"
    }
   ],
   "source": [
    "os.path.exists('cars.txt')"
   ]
  },
  {
   "cell_type": "code",
   "execution_count": 5,
   "id": "e3a9702b",
   "metadata": {},
   "outputs": [],
   "source": [
    "with open ('cars.txt','a') as file:\n",
    "    file.write(\"Audi \")"
   ]
  },
  {
   "cell_type": "code",
   "execution_count": 34,
   "id": "fe6f17db",
   "metadata": {},
   "outputs": [
    {
     "data": {
      "text/plain": [
       "True"
      ]
     },
     "execution_count": 34,
     "metadata": {},
     "output_type": "execute_result"
    }
   ],
   "source": [
    "os.path.exists('cars.txt') # append mode le naya file banayo"
   ]
  },
  {
   "cell_type": "code",
   "execution_count": 35,
   "id": "31b81dfa",
   "metadata": {},
   "outputs": [],
   "source": [
    "with open ('cars.txt','a') as file:\n",
    "    file.write(\"Mercedes\")"
   ]
  },
  {
   "cell_type": "code",
   "execution_count": 38,
   "id": "a3e06d9b",
   "metadata": {},
   "outputs": [
    {
     "name": "stdout",
     "output_type": "stream",
     "text": [
      "AudiMercedesAudi \n"
     ]
    }
   ],
   "source": [
    "with open ('cars.txt','r') as file:\n",
    "    print(file.read())"
   ]
  },
  {
   "cell_type": "code",
   "execution_count": 39,
   "id": "f3ff28f9",
   "metadata": {},
   "outputs": [],
   "source": [
    "os.remove('cars.txt') # deletes cars.txt file"
   ]
  },
  {
   "cell_type": "code",
   "execution_count": null,
   "id": "137cfa17",
   "metadata": {},
   "outputs": [],
   "source": []
  }
 ],
 "metadata": {
  "kernelspec": {
   "display_name": "Python 3 (ipykernel)",
   "language": "python",
   "name": "python3"
  },
  "language_info": {
   "codemirror_mode": {
    "name": "ipython",
    "version": 3
   },
   "file_extension": ".py",
   "mimetype": "text/x-python",
   "name": "python",
   "nbconvert_exporter": "python",
   "pygments_lexer": "ipython3",
   "version": "3.11.4"
  }
 },
 "nbformat": 4,
 "nbformat_minor": 5
}
