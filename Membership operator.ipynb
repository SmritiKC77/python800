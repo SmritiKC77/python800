{
 "cells": [
  {
   "cell_type": "code",
   "execution_count": 1,
   "id": "4233acc8",
   "metadata": {},
   "outputs": [
    {
     "data": {
      "text/plain": [
       "True"
      ]
     },
     "execution_count": 1,
     "metadata": {},
     "output_type": "execute_result"
    }
   ],
   "source": [
    "s = \"hello\"\n",
    "\"h\" in s"
   ]
  },
  {
   "cell_type": "code",
   "execution_count": 2,
   "id": "7d975fb7",
   "metadata": {},
   "outputs": [
    {
     "data": {
      "text/plain": [
       "False"
      ]
     },
     "execution_count": 2,
     "metadata": {},
     "output_type": "execute_result"
    }
   ],
   "source": [
    "\"l\" not in s # in and not in are membership operator"
   ]
  },
  {
   "cell_type": "code",
   "execution_count": 4,
   "id": "27030703",
   "metadata": {},
   "outputs": [],
   "source": [
    "s = \"hello\"\n",
    "vowel = 0 # index 0\n",
    "consonant = 0\n",
    "vowel_letters = \"aeiou\"\n",
    "for index in range(len(s)):\n",
    "    char = s[index]\n",
    "    if char in vowel_letters:\n",
    "        vowel = vowel+1\n",
    "    else:\n",
    "        consonant = consonant + 1\n",
    "        "
   ]
  },
  {
   "cell_type": "code",
   "execution_count": 7,
   "id": "59325a9c",
   "metadata": {},
   "outputs": [
    {
     "name": "stdout",
     "output_type": "stream",
     "text": [
      "No of vowel 2\n",
      "No of consonant 3\n"
     ]
    }
   ],
   "source": [
    "print(f\"No of vowel {vowel}\")\n",
    "print(f\"No of consonant {consonant}\")"
   ]
  },
  {
   "cell_type": "code",
   "execution_count": null,
   "id": "1f3a96e3",
   "metadata": {},
   "outputs": [],
   "source": []
  }
 ],
 "metadata": {
  "kernelspec": {
   "display_name": "Python 3 (ipykernel)",
   "language": "python",
   "name": "python3"
  },
  "language_info": {
   "codemirror_mode": {
    "name": "ipython",
    "version": 3
   },
   "file_extension": ".py",
   "mimetype": "text/x-python",
   "name": "python",
   "nbconvert_exporter": "python",
   "pygments_lexer": "ipython3",
   "version": "3.11.4"
  }
 },
 "nbformat": 4,
 "nbformat_minor": 5
}
