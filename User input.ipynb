{
 "cells": [
  {
   "cell_type": "code",
   "execution_count": null,
   "id": "5e0ee7d0",
   "metadata": {},
   "outputs": [],
   "source": [
    "name = input(\"Enter your name:\")\n",
    "name\n"
   ]
  },
  {
   "cell_type": "code",
   "execution_count": null,
   "id": "9a698bbb",
   "metadata": {},
   "outputs": [],
   "source": [
    "a = input(\"Enter the value of a:\")\n",
    "b = input(\"Enter the value of b:\")\n",
    "c = a + b\n",
    "c"
   ]
  },
  {
   "cell_type": "markdown",
   "id": "610657c6",
   "metadata": {},
   "source": [
    "# Data type casting : Euta  data type lai  arko data type ma lagna lai data type casting vanxa\n",
    "# Python ma explicit data type casting hunxa"
   ]
  },
  {
   "cell_type": "code",
   "execution_count": null,
   "id": "15a041e9",
   "metadata": {},
   "outputs": [],
   "source": [
    "a = int(input(\"Enter the value of a:\"))\n",
    "b = int(input(\"Enter the value of b:\"))\n",
    "c = a + b\n",
    "c"
   ]
  },
  {
   "cell_type": "code",
   "execution_count": null,
   "id": "1c3ce20c",
   "metadata": {},
   "outputs": [],
   "source": [
    "a = float(input(\"Enter the value of a:\"))\n",
    "b = int(input(\"Enter the value of b:\"))\n",
    "c = a + b\n",
    "c"
   ]
  },
  {
   "cell_type": "code",
   "execution_count": null,
   "id": "1517983f",
   "metadata": {},
   "outputs": [],
   "source": [
    "a = float(input(\"Enter the value of a:\"))\n",
    "b = int(input(\"Enter the value of b:\"))\n",
    "c = a + b\n",
    "c"
   ]
  },
  {
   "cell_type": "code",
   "execution_count": 1,
   "id": "787f5526",
   "metadata": {},
   "outputs": [
    {
     "name": "stdout",
     "output_type": "stream",
     "text": [
      "Enter the value of a:0.5\n",
      "Enter the value of b:10\n"
     ]
    },
    {
     "data": {
      "text/plain": [
       "10.5"
      ]
     },
     "execution_count": 1,
     "metadata": {},
     "output_type": "execute_result"
    }
   ],
   "source": [
    "a = float(input(\"Enter the value of a:\"))\n",
    "b = int(input(\"Enter the value of b:\"))\n",
    "c = a + b\n",
    "c"
   ]
  },
  {
   "cell_type": "code",
   "execution_count": 5,
   "id": "cbe577c0",
   "metadata": {},
   "outputs": [
    {
     "name": "stdout",
     "output_type": "stream",
     "text": [
      "Enter your first name:Smriti\n",
      "Enter your last name:KC\n",
      "firstname = Smriti\n",
      "lastname = KC\n"
     ]
    }
   ],
   "source": [
    "firstname = input(\"Enter your first name:\")\n",
    "lastname = input(\"Enter your last name:\")\n",
    "print(f\"firstname = {firstname}\")\n",
    "print(f\"lastname = {lastname}\")     "
   ]
  },
  {
   "cell_type": "code",
   "execution_count": 1,
   "id": "f0783a87",
   "metadata": {},
   "outputs": [
    {
     "name": "stdout",
     "output_type": "stream",
     "text": [
      "Enter the value of a:5\n",
      "Enter the value of b:15\n",
      "75\n"
     ]
    }
   ],
   "source": [
    "a = int(input(\"Enter the value of a:\"))\n",
    "b = int(input(\"Enter the value of b:\"))\n",
    "c = a*b\n",
    "print(c)"
   ]
  },
  {
   "cell_type": "code",
   "execution_count": null,
   "id": "bdd49868",
   "metadata": {},
   "outputs": [],
   "source": []
  }
 ],
 "metadata": {
  "kernelspec": {
   "display_name": "Python 3 (ipykernel)",
   "language": "python",
   "name": "python3"
  },
  "language_info": {
   "codemirror_mode": {
    "name": "ipython",
    "version": 3
   },
   "file_extension": ".py",
   "mimetype": "text/x-python",
   "name": "python",
   "nbconvert_exporter": "python",
   "pygments_lexer": "ipython3",
   "version": "3.11.4"
  }
 },
 "nbformat": 4,
 "nbformat_minor": 5
}
