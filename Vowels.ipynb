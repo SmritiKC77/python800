{
 "cells": [
  {
   "cell_type": "code",
   "execution_count": 9,
   "id": "0b43f9f4",
   "metadata": {},
   "outputs": [
    {
     "name": "stdout",
     "output_type": "stream",
     "text": [
      "vowel = a\n",
      "vowel = e\n",
      "consonant =y\n",
      "vowel = i\n"
     ]
    }
   ],
   "source": [
    "s = \"aeyi\"\n",
    "for i in range(0,len(s)):\n",
    "    if s[i] == 'a'or s[i] == 'e'or s[i] == 'i'or s[i]=='o'or s[i]== 'u':\n",
    "        print(f\"vowel = {s[i]}\")\n",
    "    else:\n",
    "        print(f\"consonant ={s[i]}\")         "
   ]
  },
  {
   "cell_type": "code",
   "execution_count": 12,
   "id": "02d01a85",
   "metadata": {},
   "outputs": [
    {
     "name": "stdout",
     "output_type": "stream",
     "text": [
      "vowel =a\n",
      "vowel =e\n",
      "consonant = y\n",
      "vowel =i\n"
     ]
    }
   ],
   "source": [
    "for index in range(0,len(s)):\n",
    "    char =s[index]\n",
    "    if char == \"a\" or char == \"e\" or char == \"i\" or char == \"o\" or char ==\"u\":\n",
    "        print(f\"vowel ={char}\")\n",
    "    else:\n",
    "        print(f\"consonant = {char}\")"
   ]
  },
  {
   "cell_type": "code",
   "execution_count": null,
   "id": "1dd09c61",
   "metadata": {},
   "outputs": [],
   "source": []
  },
  {
   "cell_type": "code",
   "execution_count": null,
   "id": "dd8dca07",
   "metadata": {},
   "outputs": [],
   "source": []
  }
 ],
 "metadata": {
  "kernelspec": {
   "display_name": "Python 3 (ipykernel)",
   "language": "python",
   "name": "python3"
  },
  "language_info": {
   "codemirror_mode": {
    "name": "ipython",
    "version": 3
   },
   "file_extension": ".py",
   "mimetype": "text/x-python",
   "name": "python",
   "nbconvert_exporter": "python",
   "pygments_lexer": "ipython3",
   "version": "3.11.4"
  }
 },
 "nbformat": 4,
 "nbformat_minor": 5
}
