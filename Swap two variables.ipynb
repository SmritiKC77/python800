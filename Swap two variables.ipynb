{
 "cells": [
  {
   "cell_type": "code",
   "execution_count": 3,
   "id": "20b73e04",
   "metadata": {},
   "outputs": [
    {
     "name": "stdout",
     "output_type": "stream",
     "text": [
      "Enter value of x: 2.5\n",
      "Enter value of y: 0.36\n",
      "The value of x after swapping: 0.36\n",
      "The value of y after swapping: 2.5\n"
     ]
    }
   ],
   "source": [
    "x = input('Enter value of x: ')\n",
    "y = input('Enter value of y: ')\n",
    "temp = x\n",
    "x = y\n",
    "y = temp\n",
    "\n",
    "print(f'The value of x after swapping: {x}')\n",
    "print('The value of y after swapping: {}'.format(y))"
   ]
  },
  {
   "cell_type": "code",
   "execution_count": 5,
   "id": "1b1b10a7",
   "metadata": {},
   "outputs": [
    {
     "data": {
      "text/plain": [
       "2562"
      ]
     },
     "execution_count": 5,
     "metadata": {},
     "output_type": "execute_result"
    }
   ],
   "source": [
    "# How many seconds are there in 42 minutes 42 seconds\n",
    "seconds = 42*60+42\n",
    "seconds"
   ]
  },
  {
   "cell_type": "code",
   "execution_count": 6,
   "id": "3b1ad429",
   "metadata": {},
   "outputs": [
    {
     "data": {
      "text/plain": [
       "6.215040397762586"
      ]
     },
     "execution_count": 6,
     "metadata": {},
     "output_type": "execute_result"
    }
   ],
   "source": [
    "#How many miles are there in 10 km\n",
    "miles = 10/1.609\n",
    "miles"
   ]
  },
  {
   "cell_type": "code",
   "execution_count": null,
   "id": "a663c447",
   "metadata": {},
   "outputs": [],
   "source": []
  }
 ],
 "metadata": {
  "kernelspec": {
   "display_name": "Python 3 (ipykernel)",
   "language": "python",
   "name": "python3"
  },
  "language_info": {
   "codemirror_mode": {
    "name": "ipython",
    "version": 3
   },
   "file_extension": ".py",
   "mimetype": "text/x-python",
   "name": "python",
   "nbconvert_exporter": "python",
   "pygments_lexer": "ipython3",
   "version": "3.11.4"
  }
 },
 "nbformat": 4,
 "nbformat_minor": 5
}
