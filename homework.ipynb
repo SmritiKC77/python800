{
 "cells": [
  {
   "cell_type": "markdown",
   "id": "8fc06504",
   "metadata": {},
   "source": [
    "# 1. Python program to display 5th Fibonacii sequence using recursion."
   ]
  },
  {
   "cell_type": "code",
   "execution_count": 8,
   "id": "0512a91d",
   "metadata": {},
   "outputs": [
    {
     "name": "stdout",
     "output_type": "stream",
     "text": [
      "The 5th Fibonacci number is: 5\n"
     ]
    }
   ],
   "source": [
    "def fibonacci_recursive(n):\n",
    "    if n <= 0:\n",
    "        return 0\n",
    "    elif n == 1:\n",
    "        return 1\n",
    "    else:\n",
    "        return fibonacci_recursive(n - 1) + fibonacci_recursive(n - 2)\n",
    "\n",
    "n = 5\n",
    "result = fibonacci_recursive(n) \n",
    "print(f\"The 5th Fibonacci number is: {result}\")\n",
    "\n"
   ]
  },
  {
   "cell_type": "markdown",
   "id": "a2ecb3cf",
   "metadata": {},
   "source": [
    "# 2. Assignment calculator\n",
    "* Any no of input can be added\n",
    "* Two number can be subtracted.\n",
    "* Calculates mean of any number of input.\n",
    "* Squares the given number.\n",
    "* Identifies if the given number is even or odd.\n"
   ]
  },
  {
   "cell_type": "code",
   "execution_count": 3,
   "id": "afa17f60",
   "metadata": {},
   "outputs": [],
   "source": [
    "def add_numbers(*args):\n",
    "    total = sum(args)\n",
    "    return total\n",
    "\n",
    "def subtract_numbers(a, b):\n",
    "    result = a - b\n",
    "    return result\n",
    "\n",
    "def calculate_mean(*args):\n",
    "    if len(args) == 0:\n",
    "        return None\n",
    "    total = sum(args)\n",
    "    mean = total / len(args)\n",
    "    return mean\n",
    "\n",
    "def square_number(number):\n",
    "    result = number ** 2\n",
    "    return result\n",
    "\n",
    "def is_even_or_odd(number):\n",
    "    if number % 2 == 0:\n",
    "        return \"Even\"\n",
    "    else:\n",
    "        return \"Odd\""
   ]
  },
  {
   "cell_type": "code",
   "execution_count": null,
   "id": "4e54fd3d",
   "metadata": {},
   "outputs": [],
   "source": []
  }
 ],
 "metadata": {
  "kernelspec": {
   "display_name": "Python 3 (ipykernel)",
   "language": "python",
   "name": "python3"
  },
  "language_info": {
   "codemirror_mode": {
    "name": "ipython",
    "version": 3
   },
   "file_extension": ".py",
   "mimetype": "text/x-python",
   "name": "python",
   "nbconvert_exporter": "python",
   "pygments_lexer": "ipython3",
   "version": "3.11.4"
  }
 },
 "nbformat": 4,
 "nbformat_minor": 5
}
