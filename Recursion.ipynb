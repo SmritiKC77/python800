{
 "cells": [
  {
   "cell_type": "code",
   "execution_count": 2,
   "id": "61149565",
   "metadata": {},
   "outputs": [],
   "source": [
    "def recurse():\n",
    "    # function code\n",
    "    # function body\n",
    "    recurse()"
   ]
  },
  {
   "cell_type": "code",
   "execution_count": 3,
   "id": "82d5f72e",
   "metadata": {},
   "outputs": [
    {
     "ename": "RecursionError",
     "evalue": "maximum recursion depth exceeded",
     "output_type": "error",
     "traceback": [
      "\u001b[1;31m---------------------------------------------------------------------------\u001b[0m",
      "\u001b[1;31mRecursionError\u001b[0m                            Traceback (most recent call last)",
      "Cell \u001b[1;32mIn[3], line 1\u001b[0m\n\u001b[1;32m----> 1\u001b[0m recurse()\n",
      "Cell \u001b[1;32mIn[2], line 4\u001b[0m, in \u001b[0;36mrecurse\u001b[1;34m()\u001b[0m\n\u001b[0;32m      1\u001b[0m \u001b[38;5;28;01mdef\u001b[39;00m \u001b[38;5;21mrecurse\u001b[39m():\n\u001b[0;32m      2\u001b[0m     \u001b[38;5;66;03m# function code\u001b[39;00m\n\u001b[0;32m      3\u001b[0m     \u001b[38;5;66;03m# function body\u001b[39;00m\n\u001b[1;32m----> 4\u001b[0m     recurse()\n",
      "Cell \u001b[1;32mIn[2], line 4\u001b[0m, in \u001b[0;36mrecurse\u001b[1;34m()\u001b[0m\n\u001b[0;32m      1\u001b[0m \u001b[38;5;28;01mdef\u001b[39;00m \u001b[38;5;21mrecurse\u001b[39m():\n\u001b[0;32m      2\u001b[0m     \u001b[38;5;66;03m# function code\u001b[39;00m\n\u001b[0;32m      3\u001b[0m     \u001b[38;5;66;03m# function body\u001b[39;00m\n\u001b[1;32m----> 4\u001b[0m     recurse()\n",
      "    \u001b[1;31m[... skipping similar frames: recurse at line 4 (2970 times)]\u001b[0m\n",
      "Cell \u001b[1;32mIn[2], line 4\u001b[0m, in \u001b[0;36mrecurse\u001b[1;34m()\u001b[0m\n\u001b[0;32m      1\u001b[0m \u001b[38;5;28;01mdef\u001b[39;00m \u001b[38;5;21mrecurse\u001b[39m():\n\u001b[0;32m      2\u001b[0m     \u001b[38;5;66;03m# function code\u001b[39;00m\n\u001b[0;32m      3\u001b[0m     \u001b[38;5;66;03m# function body\u001b[39;00m\n\u001b[1;32m----> 4\u001b[0m     recurse()\n",
      "\u001b[1;31mRecursionError\u001b[0m: maximum recursion depth exceeded"
     ]
    }
   ],
   "source": [
    "recurse()"
   ]
  },
  {
   "cell_type": "markdown",
   "id": "8b072b63",
   "metadata": {},
   "source": [
    "# When a function calls itself it is called recursion"
   ]
  },
  {
   "cell_type": "markdown",
   "id": "01568640",
   "metadata": {},
   "source": [
    "# We should give stopping condition else the loop continues.\n"
   ]
  },
  {
   "cell_type": "code",
   "execution_count": 5,
   "id": "7575b0b9",
   "metadata": {},
   "outputs": [],
   "source": [
    "def factorial(num):\n",
    "    if num == 0 or num == 1:\n",
    "        return 1\n",
    "    else:\n",
    "        return num* factorial (num-1) # Solution of loop is recursion"
   ]
  },
  {
   "cell_type": "code",
   "execution_count": 6,
   "id": "7e19279f",
   "metadata": {},
   "outputs": [
    {
     "data": {
      "text/plain": [
       "720"
      ]
     },
     "execution_count": 6,
     "metadata": {},
     "output_type": "execute_result"
    }
   ],
   "source": [
    "factorial(6)"
   ]
  },
  {
   "cell_type": "markdown",
   "id": "9a1a8c86",
   "metadata": {},
   "source": [
    "* Recursion function makes the code look clean and elegant.\n",
    "* A complex task can be broken down into simpler sub- problems using recursion.\n",
    "* Sequence generation is easier with recursion than some nested iteration."
   ]
  },
  {
   "cell_type": "code",
   "execution_count": null,
   "id": "736bd944",
   "metadata": {},
   "outputs": [],
   "source": []
  }
 ],
 "metadata": {
  "kernelspec": {
   "display_name": "Python 3 (ipykernel)",
   "language": "python",
   "name": "python3"
  },
  "language_info": {
   "codemirror_mode": {
    "name": "ipython",
    "version": 3
   },
   "file_extension": ".py",
   "mimetype": "text/x-python",
   "name": "python",
   "nbconvert_exporter": "python",
   "pygments_lexer": "ipython3",
   "version": "3.11.4"
  }
 },
 "nbformat": 4,
 "nbformat_minor": 5
}
